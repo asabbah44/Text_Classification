{
  "nbformat": 4,
  "nbformat_minor": 0,
  "metadata": {
    "colab": {
      "name": "Word Emb SVM.ipynb",
      "provenance": [],
      "collapsed_sections": [],
      "include_colab_link": true
    },
    "kernelspec": {
      "name": "python3",
      "display_name": "Python 3"
    }
  },
  "cells": [
    {
      "cell_type": "markdown",
      "metadata": {
        "id": "view-in-github",
        "colab_type": "text"
      },
      "source": [
        "<a href=\"https://colab.research.google.com/github/asabbah44/Text_Classification/blob/main/Word_Emb_SVM.ipynb\" target=\"_parent\"><img src=\"https://colab.research.google.com/assets/colab-badge.svg\" alt=\"Open In Colab\"/></a>"
      ]
    },
    {
      "cell_type": "markdown",
      "metadata": {
        "id": "z7wLnCO6kPzp"
      },
      "source": [
        "https://www.nbshare.io/notebook/197284676/Word-Embeddings-Transformers-In-SVM-Classifier-Using-Python/"
      ]
    },
    {
      "cell_type": "code",
      "metadata": {
        "colab": {
          "base_uri": "https://localhost:8080/"
        },
        "id": "QLom4QVkbZjh",
        "outputId": "15d0ae93-d1c1-47b4-8072-e87164e4988e"
      },
      "source": [
        "!pip install tensorflow_text\n",
        "import tensorflow_text"
      ],
      "execution_count": null,
      "outputs": [
        {
          "output_type": "stream",
          "text": [
            "Requirement already satisfied: tensorflow_text in /usr/local/lib/python3.7/dist-packages (2.4.3)\n",
            "Requirement already satisfied: tensorflow<2.5,>=2.4.0 in /usr/local/lib/python3.7/dist-packages (from tensorflow_text) (2.4.1)\n",
            "Requirement already satisfied: tensorflow-hub>=0.8.0 in /usr/local/lib/python3.7/dist-packages (from tensorflow_text) (0.11.0)\n",
            "Requirement already satisfied: protobuf>=3.9.2 in /usr/local/lib/python3.7/dist-packages (from tensorflow<2.5,>=2.4.0->tensorflow_text) (3.12.4)\n",
            "Requirement already satisfied: grpcio~=1.32.0 in /usr/local/lib/python3.7/dist-packages (from tensorflow<2.5,>=2.4.0->tensorflow_text) (1.32.0)\n",
            "Requirement already satisfied: wrapt~=1.12.1 in /usr/local/lib/python3.7/dist-packages (from tensorflow<2.5,>=2.4.0->tensorflow_text) (1.12.1)\n",
            "Requirement already satisfied: tensorflow-estimator<2.5.0,>=2.4.0 in /usr/local/lib/python3.7/dist-packages (from tensorflow<2.5,>=2.4.0->tensorflow_text) (2.4.0)\n",
            "Requirement already satisfied: numpy~=1.19.2 in /usr/local/lib/python3.7/dist-packages (from tensorflow<2.5,>=2.4.0->tensorflow_text) (1.19.5)\n",
            "Requirement already satisfied: astunparse~=1.6.3 in /usr/local/lib/python3.7/dist-packages (from tensorflow<2.5,>=2.4.0->tensorflow_text) (1.6.3)\n",
            "Requirement already satisfied: six~=1.15.0 in /usr/local/lib/python3.7/dist-packages (from tensorflow<2.5,>=2.4.0->tensorflow_text) (1.15.0)\n",
            "Requirement already satisfied: keras-preprocessing~=1.1.2 in /usr/local/lib/python3.7/dist-packages (from tensorflow<2.5,>=2.4.0->tensorflow_text) (1.1.2)\n",
            "Requirement already satisfied: h5py~=2.10.0 in /usr/local/lib/python3.7/dist-packages (from tensorflow<2.5,>=2.4.0->tensorflow_text) (2.10.0)\n",
            "Requirement already satisfied: tensorboard~=2.4 in /usr/local/lib/python3.7/dist-packages (from tensorflow<2.5,>=2.4.0->tensorflow_text) (2.4.1)\n",
            "Requirement already satisfied: flatbuffers~=1.12.0 in /usr/local/lib/python3.7/dist-packages (from tensorflow<2.5,>=2.4.0->tensorflow_text) (1.12)\n",
            "Requirement already satisfied: typing-extensions~=3.7.4 in /usr/local/lib/python3.7/dist-packages (from tensorflow<2.5,>=2.4.0->tensorflow_text) (3.7.4.3)\n",
            "Requirement already satisfied: absl-py~=0.10 in /usr/local/lib/python3.7/dist-packages (from tensorflow<2.5,>=2.4.0->tensorflow_text) (0.12.0)\n",
            "Requirement already satisfied: termcolor~=1.1.0 in /usr/local/lib/python3.7/dist-packages (from tensorflow<2.5,>=2.4.0->tensorflow_text) (1.1.0)\n",
            "Requirement already satisfied: wheel~=0.35 in /usr/local/lib/python3.7/dist-packages (from tensorflow<2.5,>=2.4.0->tensorflow_text) (0.36.2)\n",
            "Requirement already satisfied: opt-einsum~=3.3.0 in /usr/local/lib/python3.7/dist-packages (from tensorflow<2.5,>=2.4.0->tensorflow_text) (3.3.0)\n",
            "Requirement already satisfied: gast==0.3.3 in /usr/local/lib/python3.7/dist-packages (from tensorflow<2.5,>=2.4.0->tensorflow_text) (0.3.3)\n",
            "Requirement already satisfied: google-pasta~=0.2 in /usr/local/lib/python3.7/dist-packages (from tensorflow<2.5,>=2.4.0->tensorflow_text) (0.2.0)\n",
            "Requirement already satisfied: setuptools in /usr/local/lib/python3.7/dist-packages (from protobuf>=3.9.2->tensorflow<2.5,>=2.4.0->tensorflow_text) (54.2.0)\n",
            "Requirement already satisfied: google-auth<2,>=1.6.3 in /usr/local/lib/python3.7/dist-packages (from tensorboard~=2.4->tensorflow<2.5,>=2.4.0->tensorflow_text) (1.28.1)\n",
            "Requirement already satisfied: markdown>=2.6.8 in /usr/local/lib/python3.7/dist-packages (from tensorboard~=2.4->tensorflow<2.5,>=2.4.0->tensorflow_text) (3.3.4)\n",
            "Requirement already satisfied: werkzeug>=0.11.15 in /usr/local/lib/python3.7/dist-packages (from tensorboard~=2.4->tensorflow<2.5,>=2.4.0->tensorflow_text) (1.0.1)\n",
            "Requirement already satisfied: google-auth-oauthlib<0.5,>=0.4.1 in /usr/local/lib/python3.7/dist-packages (from tensorboard~=2.4->tensorflow<2.5,>=2.4.0->tensorflow_text) (0.4.4)\n",
            "Requirement already satisfied: tensorboard-plugin-wit>=1.6.0 in /usr/local/lib/python3.7/dist-packages (from tensorboard~=2.4->tensorflow<2.5,>=2.4.0->tensorflow_text) (1.8.0)\n",
            "Requirement already satisfied: requests<3,>=2.21.0 in /usr/local/lib/python3.7/dist-packages (from tensorboard~=2.4->tensorflow<2.5,>=2.4.0->tensorflow_text) (2.23.0)\n",
            "Requirement already satisfied: rsa<5,>=3.1.4; python_version >= \"3.6\" in /usr/local/lib/python3.7/dist-packages (from google-auth<2,>=1.6.3->tensorboard~=2.4->tensorflow<2.5,>=2.4.0->tensorflow_text) (4.7.2)\n",
            "Requirement already satisfied: pyasn1-modules>=0.2.1 in /usr/local/lib/python3.7/dist-packages (from google-auth<2,>=1.6.3->tensorboard~=2.4->tensorflow<2.5,>=2.4.0->tensorflow_text) (0.2.8)\n",
            "Requirement already satisfied: cachetools<5.0,>=2.0.0 in /usr/local/lib/python3.7/dist-packages (from google-auth<2,>=1.6.3->tensorboard~=2.4->tensorflow<2.5,>=2.4.0->tensorflow_text) (4.2.1)\n",
            "Requirement already satisfied: importlib-metadata; python_version < \"3.8\" in /usr/local/lib/python3.7/dist-packages (from markdown>=2.6.8->tensorboard~=2.4->tensorflow<2.5,>=2.4.0->tensorflow_text) (3.10.0)\n",
            "Requirement already satisfied: requests-oauthlib>=0.7.0 in /usr/local/lib/python3.7/dist-packages (from google-auth-oauthlib<0.5,>=0.4.1->tensorboard~=2.4->tensorflow<2.5,>=2.4.0->tensorflow_text) (1.3.0)\n",
            "Requirement already satisfied: certifi>=2017.4.17 in /usr/local/lib/python3.7/dist-packages (from requests<3,>=2.21.0->tensorboard~=2.4->tensorflow<2.5,>=2.4.0->tensorflow_text) (2020.12.5)\n",
            "Requirement already satisfied: idna<3,>=2.5 in /usr/local/lib/python3.7/dist-packages (from requests<3,>=2.21.0->tensorboard~=2.4->tensorflow<2.5,>=2.4.0->tensorflow_text) (2.10)\n",
            "Requirement already satisfied: chardet<4,>=3.0.2 in /usr/local/lib/python3.7/dist-packages (from requests<3,>=2.21.0->tensorboard~=2.4->tensorflow<2.5,>=2.4.0->tensorflow_text) (3.0.4)\n",
            "Requirement already satisfied: urllib3!=1.25.0,!=1.25.1,<1.26,>=1.21.1 in /usr/local/lib/python3.7/dist-packages (from requests<3,>=2.21.0->tensorboard~=2.4->tensorflow<2.5,>=2.4.0->tensorflow_text) (1.24.3)\n",
            "Requirement already satisfied: pyasn1>=0.1.3 in /usr/local/lib/python3.7/dist-packages (from rsa<5,>=3.1.4; python_version >= \"3.6\"->google-auth<2,>=1.6.3->tensorboard~=2.4->tensorflow<2.5,>=2.4.0->tensorflow_text) (0.4.8)\n",
            "Requirement already satisfied: zipp>=0.5 in /usr/local/lib/python3.7/dist-packages (from importlib-metadata; python_version < \"3.8\"->markdown>=2.6.8->tensorboard~=2.4->tensorflow<2.5,>=2.4.0->tensorflow_text) (3.4.1)\n",
            "Requirement already satisfied: oauthlib>=3.0.0 in /usr/local/lib/python3.7/dist-packages (from requests-oauthlib>=0.7.0->google-auth-oauthlib<0.5,>=0.4.1->tensorboard~=2.4->tensorflow<2.5,>=2.4.0->tensorflow_text) (3.1.0)\n"
          ],
          "name": "stdout"
        }
      ]
    },
    {
      "cell_type": "code",
      "metadata": {
        "id": "j0mpJYMfOL0p"
      },
      "source": [
        "import numpy as np\n",
        "import tensorflow_hub as hub\n",
        "import tensorflow_text  # this needs to be imported to set up some stuff in the background"
      ],
      "execution_count": null,
      "outputs": []
    },
    {
      "cell_type": "code",
      "metadata": {
        "id": "DpqFcW1iQSXo",
        "colab": {
          "base_uri": "https://localhost:8080/"
        },
        "outputId": "b0524479-a65f-431a-91e0-ce22af9431ac"
      },
      "source": [
        "embed = hub.load(\"https://tfhub.dev/google/universal-sentence-encoder-multilingual/3\")"
      ],
      "execution_count": null,
      "outputs": [
        {
          "output_type": "stream",
          "text": [
            "WARNING:tensorflow:5 out of the last 15 calls to <function recreate_function.<locals>.restored_function_body at 0x7f8530251cb0> triggered tf.function retracing. Tracing is expensive and the excessive number of tracings could be due to (1) creating @tf.function repeatedly in a loop, (2) passing tensors with different shapes, (3) passing Python objects instead of tensors. For (1), please define your @tf.function outside of the loop. For (2), @tf.function has experimental_relax_shapes=True option that relaxes argument shapes that can avoid unnecessary retracing. For (3), please refer to https://www.tensorflow.org/guide/function#controlling_retracing and https://www.tensorflow.org/api_docs/python/tf/function for  more details.\n"
          ],
          "name": "stdout"
        },
        {
          "output_type": "stream",
          "text": [
            "WARNING:tensorflow:5 out of the last 15 calls to <function recreate_function.<locals>.restored_function_body at 0x7f8530251cb0> triggered tf.function retracing. Tracing is expensive and the excessive number of tracings could be due to (1) creating @tf.function repeatedly in a loop, (2) passing tensors with different shapes, (3) passing Python objects instead of tensors. For (1), please define your @tf.function outside of the loop. For (2), @tf.function has experimental_relax_shapes=True option that relaxes argument shapes that can avoid unnecessary retracing. For (3), please refer to https://www.tensorflow.org/guide/function#controlling_retracing and https://www.tensorflow.org/api_docs/python/tf/function for  more details.\n"
          ],
          "name": "stderr"
        },
        {
          "output_type": "stream",
          "text": [
            "WARNING:tensorflow:6 out of the last 16 calls to <function recreate_function.<locals>.restored_function_body at 0x7f85072aacb0> triggered tf.function retracing. Tracing is expensive and the excessive number of tracings could be due to (1) creating @tf.function repeatedly in a loop, (2) passing tensors with different shapes, (3) passing Python objects instead of tensors. For (1), please define your @tf.function outside of the loop. For (2), @tf.function has experimental_relax_shapes=True option that relaxes argument shapes that can avoid unnecessary retracing. For (3), please refer to https://www.tensorflow.org/guide/function#controlling_retracing and https://www.tensorflow.org/api_docs/python/tf/function for  more details.\n"
          ],
          "name": "stdout"
        },
        {
          "output_type": "stream",
          "text": [
            "WARNING:tensorflow:6 out of the last 16 calls to <function recreate_function.<locals>.restored_function_body at 0x7f85072aacb0> triggered tf.function retracing. Tracing is expensive and the excessive number of tracings could be due to (1) creating @tf.function repeatedly in a loop, (2) passing tensors with different shapes, (3) passing Python objects instead of tensors. For (1), please define your @tf.function outside of the loop. For (2), @tf.function has experimental_relax_shapes=True option that relaxes argument shapes that can avoid unnecessary retracing. For (3), please refer to https://www.tensorflow.org/guide/function#controlling_retracing and https://www.tensorflow.org/api_docs/python/tf/function for  more details.\n"
          ],
          "name": "stderr"
        }
      ]
    },
    {
      "cell_type": "code",
      "metadata": {
        "id": "UciQHzNibmfX"
      },
      "source": [
        "import re\n",
        "\n",
        "import pandas as pd"
      ],
      "execution_count": null,
      "outputs": []
    },
    {
      "cell_type": "code",
      "metadata": {
        "id": "9l784aFLbppX"
      },
      "source": [
        "import string\n",
        "\n",
        "\n",
        "from spacy.lang.en import stop_words as spacy_stopwords  # we use spacy's list of stop words to clean our data\n",
        "\n",
        "\n",
        "stop_words = spacy_stopwords.STOP_WORDS\n",
        "punctuations = string.punctuation\n",
        "\n",
        "\n",
        "\n",
        "def clean(text):\n",
        "    text = ' '.join(word for word in text.split() if word not in stop_words)\n",
        "    text = re.sub(r'\\W+', ' ', text)  # remove non-alphanumeric characters\n",
        "    # replace numbers with the word 'number'\n",
        "    text = re.sub(r\"\\d+\", \"number\", text)\n",
        "    # don't consider sentenced with less than 3 words (i.e. assumed noise)\n",
        "    if len(text.strip().split()) < 1:\n",
        "        return None\n",
        "    text = text.lower()  # lower case everything\n",
        "    \n",
        "    return text.strip() # remove redundant spaces"
      ],
      "execution_count": null,
      "outputs": []
    },
    {
      "cell_type": "code",
      "metadata": {
        "id": "CQOkgniBcDCY"
      },
      "source": [
        "df1 = pd.read_csv('/content/drive/MyDrive/Colab Notebooks/Data/dataset.csv')\n",
        "df2 = pd.read_csv('/content/drive/MyDrive/Colab Notebooks/Data/mydatasetfinal.csv')\n",
        "\n",
        "\n",
        "df1 = pd.DataFrame(df1, columns = ['commenttext','label'])\n",
        "df2 = pd.DataFrame(df2, columns = ['commenttext','label'])\n",
        "\n",
        "df=df1#pd.concat([df1,df2])\n",
        "\n",
        "#df = df.assign(clean_text=df.commenttext.apply(clean)).dropna()"
      ],
      "execution_count": null,
      "outputs": []
    },
    {
      "cell_type": "code",
      "metadata": {
        "id": "Vq6EQPMu5EOq"
      },
      "source": [
        "import sys\n",
        "sys.path.append('/content/drive/MyDrive/Colab Notebooks')\n",
        "\n",
        "from Utility import preprocess\n",
        "df[\"commenttext\"] = df[\"commenttext\"].apply(lambda x: x.lower())\n",
        "\n",
        "# # Clean the text\n",
        "df[\"commenttext\"] = df[\"commenttext\"].apply(lambda x:preprocess.clean_text(x))\n",
        "\n",
        "# # Clean numbers\n",
        "df[\"commenttext\"] = df[\"commenttext\"].apply(lambda x:preprocess.clean_numbers(x))\n",
        "\n",
        "# # Clean Contractions\n",
        "df[\"commenttext\"] = df[\"commenttext\"].apply(lambda x:preprocess.replace_contractions(x))\n",
        " \n",
        "# df[\"commenttext\"] = df[\"commenttext\"].apply(lambda x:preprocess.clean_punc(x))\n",
        "\n",
        "# # lemmatize\n",
        "df[\"commenttext\"] = df[\"commenttext\"].apply(lambda x: preprocess.lemmatize(x))\n",
        "# # remove stop word and custome word such as todo\n",
        "# df[\"commenttext\"] = df[\"commenttext\"].apply(lambda x: preprocess.custm_stopwords_remove(x))"
      ],
      "execution_count": null,
      "outputs": []
    },
    {
      "cell_type": "code",
      "metadata": {
        "colab": {
          "base_uri": "https://localhost:8080/"
        },
        "id": "JE1l-AoD5L5Z",
        "outputId": "0f049a68-99cc-4817-b9e3-8fc2c18a0eeb"
      },
      "source": [
        "import nltk\n",
        "from bs4 import BeautifulSoup\n",
        "from nltk.corpus import stopwords\n",
        "nltk.download('stopwords')\n",
        "REPLACE_BY_SPACE_RE = re.compile('[/(){}\\[\\]\\|@,;]')\n",
        "BAD_SYMBOLS_RE = re.compile('[^0-9a-z #+_]')\n",
        "STOPWORDS = set(stopwords.words('english'))\n",
        "\n",
        "def clean_text(text):\n",
        "    \"\"\"\n",
        "        text: a string\n",
        "        \n",
        "        return: modified initial string\n",
        "    \"\"\"\n",
        "    text = BeautifulSoup(text, \"lxml\").text # HTML decoding\n",
        "    text = text.lower() # lowercase text\n",
        "    text = REPLACE_BY_SPACE_RE.sub(' ', text) # replace REPLACE_BY_SPACE_RE symbols by space in text\n",
        "    text = BAD_SYMBOLS_RE.sub('', text) # delete symbols which are in BAD_SYMBOLS_RE from text\n",
        "    text = ' '.join(word for word in text.split() if word not in STOPWORDS) # delete stopwors from text\n",
        "\n",
        "    Cust_words = []\n",
        "    #Cust_words = []\n",
        "    stop = set(stopwords.words('english'))\n",
        "    for word in  Cust_words:\n",
        "        STOPWORDS.add(word)\n",
        "    text = ' '.join(word for word in text.split() if word not in stop)\n",
        "\n",
        "    return text\n",
        "    \n",
        "df['commenttext'] = df['commenttext'].apply(clean_text)"
      ],
      "execution_count": null,
      "outputs": [
        {
          "output_type": "stream",
          "text": [
            "[nltk_data] Downloading package stopwords to /root/nltk_data...\n",
            "[nltk_data]   Package stopwords is already up-to-date!\n"
          ],
          "name": "stdout"
        }
      ]
    },
    {
      "cell_type": "code",
      "metadata": {
        "id": "7s0ksRQqciCw"
      },
      "source": [
        "from sklearn.model_selection import train_test_split\n",
        "import tensorflow as tf"
      ],
      "execution_count": null,
      "outputs": []
    },
    {
      "cell_type": "code",
      "metadata": {
        "id": "JIcNT1q0cmyn"
      },
      "source": [
        "# we split the data into train and test\n",
        "X = df.commenttext\n",
        "y = df.label\n",
        "msg_train, msg_test, y_train, y_test = train_test_split(X, y,test_size=0.2,random_state=42)"
      ],
      "execution_count": null,
      "outputs": []
    },
    {
      "cell_type": "code",
      "metadata": {
        "colab": {
          "base_uri": "https://localhost:8080/"
        },
        "id": "Fzyo_1GJdKrZ",
        "outputId": "2602f121-973d-46b0-d899-e3227dedc28f"
      },
      "source": [
        "# we just feed in the list of sentences, and we get the vector representation of each sentence\n",
        "X_test = embed(msg_test)\n",
        "X_test.shape\n",
        "\n",
        "print(X_test)"
      ],
      "execution_count": null,
      "outputs": [
        {
          "output_type": "stream",
          "text": [
            "WARNING:tensorflow:6 out of the last 11 calls to <function recreate_function.<locals>.restored_function_body at 0x7f8506d67710> triggered tf.function retracing. Tracing is expensive and the excessive number of tracings could be due to (1) creating @tf.function repeatedly in a loop, (2) passing tensors with different shapes, (3) passing Python objects instead of tensors. For (1), please define your @tf.function outside of the loop. For (2), @tf.function has experimental_relax_shapes=True option that relaxes argument shapes that can avoid unnecessary retracing. For (3), please refer to https://www.tensorflow.org/guide/function#controlling_retracing and https://www.tensorflow.org/api_docs/python/tf/function for  more details.\n"
          ],
          "name": "stdout"
        },
        {
          "output_type": "stream",
          "text": [
            "WARNING:tensorflow:6 out of the last 11 calls to <function recreate_function.<locals>.restored_function_body at 0x7f8506d67710> triggered tf.function retracing. Tracing is expensive and the excessive number of tracings could be due to (1) creating @tf.function repeatedly in a loop, (2) passing tensors with different shapes, (3) passing Python objects instead of tensors. For (1), please define your @tf.function outside of the loop. For (2), @tf.function has experimental_relax_shapes=True option that relaxes argument shapes that can avoid unnecessary retracing. For (3), please refer to https://www.tensorflow.org/guide/function#controlling_retracing and https://www.tensorflow.org/api_docs/python/tf/function for  more details.\n"
          ],
          "name": "stderr"
        },
        {
          "output_type": "stream",
          "text": [
            "tf.Tensor(\n",
            "[[-0.0648374  -0.03300815  0.05215542 ...  0.06500135  0.01990111\n",
            "   0.02063693]\n",
            " [ 0.09466336  0.03706772  0.01326222 ...  0.02647947 -0.01125136\n",
            "   0.02540344]\n",
            " [-0.07777959  0.04419092  0.02880645 ...  0.01593046 -0.03701168\n",
            "   0.05171212]\n",
            " ...\n",
            " [ 0.07155395  0.03866101 -0.02804634 ... -0.07812867 -0.01942797\n",
            "   0.00308762]\n",
            " [ 0.06828818 -0.00321373  0.04473334 ... -0.02397262 -0.03765468\n",
            "  -0.00602519]\n",
            " [ 0.09337119  0.0592142  -0.01672832 ... -0.01004277  0.03576313\n",
            "   0.09544707]], shape=(815, 512), dtype=float32)\n"
          ],
          "name": "stdout"
        }
      ]
    },
    {
      "cell_type": "code",
      "metadata": {
        "id": "HKYrY7j0dONP"
      },
      "source": [
        "# we don't have enough memory to apply embeddings in one shot,\n",
        "# so we have to split the data into batches and concatenate them later\n",
        "splits = np.array_split(msg_train, 5)\n",
        "l = list()\n",
        "for split in splits:\n",
        "    l.append(embed(split))"
      ],
      "execution_count": null,
      "outputs": []
    },
    {
      "cell_type": "code",
      "metadata": {
        "colab": {
          "base_uri": "https://localhost:8080/"
        },
        "id": "ZTAWMZikdSZ_",
        "outputId": "75449868-95a0-446d-822f-69b35e2f52e5"
      },
      "source": [
        "X_train = tf.concat(l, axis=0)\n",
        "del l\n",
        "X_train.shape"
      ],
      "execution_count": null,
      "outputs": [
        {
          "output_type": "execute_result",
          "data": {
            "text/plain": [
              "TensorShape([3256, 512])"
            ]
          },
          "metadata": {
            "tags": []
          },
          "execution_count": 96
        }
      ]
    },
    {
      "cell_type": "code",
      "metadata": {
        "id": "vHSfs6budW2I"
      },
      "source": [
        "from sklearn.svm import LinearSVC\n",
        "from sklearn.utils.class_weight import compute_class_weight\n",
        "from sklearn.metrics import classification_report\n",
        "from sklearn.linear_model import LogisticRegression\n",
        "from sklearn.metrics import accuracy_score"
      ],
      "execution_count": null,
      "outputs": []
    },
    {
      "cell_type": "code",
      "metadata": {
        "colab": {
          "base_uri": "https://localhost:8080/"
        },
        "id": "Ah2tTFF4dYyI",
        "outputId": "b673386c-90e3-4f86-8c13-fed0deaf1e69"
      },
      "source": [
        "class_weight = compute_class_weight(\n",
        "    class_weight='balanced', classes=[\"Requirement\",\"Design\",\"Defect\",\"Test\",\"Documentation\"], y=y_train\n",
        ")\n",
        "class_weight\n"
      ],
      "execution_count": null,
      "outputs": [
        {
          "output_type": "execute_result",
          "data": {
            "text/plain": [
              "array([ 1.07458746,  0.30401494,  1.69142857,  8.68266667, 13.56666667])"
            ]
          },
          "metadata": {
            "tags": []
          },
          "execution_count": 98
        }
      ]
    },
    {
      "cell_type": "code",
      "metadata": {
        "id": "KSPmYYVrlZVz"
      },
      "source": [
        "class_weight={\"Requirement\":class_weight[0], \"Design\":class_weight[1],\"Defect\":class_weight[2],\"Test\":class_weight[3],\n",
        "                        \"Documentation\":class_weight[4]}"
      ],
      "execution_count": null,
      "outputs": []
    },
    {
      "cell_type": "code",
      "metadata": {
        "colab": {
          "base_uri": "https://localhost:8080/"
        },
        "id": "WW0DhyEEd1WQ",
        "outputId": "f316efe8-0c24-465a-cb28-aa40c34109ac"
      },
      "source": [
        "from sklearn.svm import SVC,LinearSVC,LinearSVR\n",
        "import time\n",
        "for i in range(0,10):\n",
        " linearSVC =  LinearSVC()\n",
        "               \n",
        " linearSVC.fit(X_train, y_train)\n",
        " t0=time.clock()\n",
        " y_pred = linearSVC.predict(X_test)\n",
        " print(\"--------------------------\",i)\n",
        " print(\" secand %.3f\" % float(time.clock()-t0))\n",
        " print('accuracy %.3f' % float(accuracy_score(y_pred, y_test)))\n",
        " print(classification_report(y_test, y_pred,digits=3))\n"
      ],
      "execution_count": null,
      "outputs": [
        {
          "output_type": "stream",
          "text": [
            "/usr/local/lib/python3.7/dist-packages/ipykernel_launcher.py:7: DeprecationWarning: time.clock has been deprecated in Python 3.3 and will be removed from Python 3.8: use time.perf_counter or time.process_time instead\n",
            "  import sys\n",
            "/usr/local/lib/python3.7/dist-packages/ipykernel_launcher.py:10: DeprecationWarning: time.clock has been deprecated in Python 3.3 and will be removed from Python 3.8: use time.perf_counter or time.process_time instead\n",
            "  # Remove the CWD from sys.path while we load stuff.\n"
          ],
          "name": "stderr"
        },
        {
          "output_type": "stream",
          "text": [
            "-------------------------- 0\n",
            " secand 0.009\n",
            "accuracy 0.753\n",
            "               precision    recall  f1-score   support\n",
            "\n",
            "       Defect      0.596     0.322     0.418        87\n",
            "       Design      0.776     0.927     0.845       561\n",
            "Documentation      0.750     0.500     0.600         6\n",
            "  Requirement      0.690     0.384     0.494       151\n",
            "         Test      0.500     0.500     0.500        10\n",
            "\n",
            "     accuracy                          0.753       815\n",
            "    macro avg      0.662     0.527     0.571       815\n",
            " weighted avg      0.737     0.753     0.728       815\n",
            "\n"
          ],
          "name": "stdout"
        },
        {
          "output_type": "stream",
          "text": [
            "/usr/local/lib/python3.7/dist-packages/ipykernel_launcher.py:7: DeprecationWarning: time.clock has been deprecated in Python 3.3 and will be removed from Python 3.8: use time.perf_counter or time.process_time instead\n",
            "  import sys\n",
            "/usr/local/lib/python3.7/dist-packages/ipykernel_launcher.py:10: DeprecationWarning: time.clock has been deprecated in Python 3.3 and will be removed from Python 3.8: use time.perf_counter or time.process_time instead\n",
            "  # Remove the CWD from sys.path while we load stuff.\n"
          ],
          "name": "stderr"
        },
        {
          "output_type": "stream",
          "text": [
            "-------------------------- 1\n",
            " secand 0.007\n",
            "accuracy 0.753\n",
            "               precision    recall  f1-score   support\n",
            "\n",
            "       Defect      0.596     0.322     0.418        87\n",
            "       Design      0.776     0.927     0.845       561\n",
            "Documentation      0.750     0.500     0.600         6\n",
            "  Requirement      0.690     0.384     0.494       151\n",
            "         Test      0.500     0.500     0.500        10\n",
            "\n",
            "     accuracy                          0.753       815\n",
            "    macro avg      0.662     0.527     0.571       815\n",
            " weighted avg      0.737     0.753     0.728       815\n",
            "\n"
          ],
          "name": "stdout"
        },
        {
          "output_type": "stream",
          "text": [
            "/usr/local/lib/python3.7/dist-packages/ipykernel_launcher.py:7: DeprecationWarning: time.clock has been deprecated in Python 3.3 and will be removed from Python 3.8: use time.perf_counter or time.process_time instead\n",
            "  import sys\n",
            "/usr/local/lib/python3.7/dist-packages/ipykernel_launcher.py:10: DeprecationWarning: time.clock has been deprecated in Python 3.3 and will be removed from Python 3.8: use time.perf_counter or time.process_time instead\n",
            "  # Remove the CWD from sys.path while we load stuff.\n"
          ],
          "name": "stderr"
        },
        {
          "output_type": "stream",
          "text": [
            "-------------------------- 2\n",
            " secand 0.006\n",
            "accuracy 0.753\n",
            "               precision    recall  f1-score   support\n",
            "\n",
            "       Defect      0.596     0.322     0.418        87\n",
            "       Design      0.776     0.927     0.845       561\n",
            "Documentation      0.750     0.500     0.600         6\n",
            "  Requirement      0.690     0.384     0.494       151\n",
            "         Test      0.500     0.500     0.500        10\n",
            "\n",
            "     accuracy                          0.753       815\n",
            "    macro avg      0.662     0.527     0.571       815\n",
            " weighted avg      0.737     0.753     0.728       815\n",
            "\n"
          ],
          "name": "stdout"
        },
        {
          "output_type": "stream",
          "text": [
            "/usr/local/lib/python3.7/dist-packages/ipykernel_launcher.py:7: DeprecationWarning: time.clock has been deprecated in Python 3.3 and will be removed from Python 3.8: use time.perf_counter or time.process_time instead\n",
            "  import sys\n",
            "/usr/local/lib/python3.7/dist-packages/ipykernel_launcher.py:10: DeprecationWarning: time.clock has been deprecated in Python 3.3 and will be removed from Python 3.8: use time.perf_counter or time.process_time instead\n",
            "  # Remove the CWD from sys.path while we load stuff.\n"
          ],
          "name": "stderr"
        },
        {
          "output_type": "stream",
          "text": [
            "-------------------------- 3\n",
            " secand 0.008\n",
            "accuracy 0.753\n",
            "               precision    recall  f1-score   support\n",
            "\n",
            "       Defect      0.596     0.322     0.418        87\n",
            "       Design      0.776     0.927     0.845       561\n",
            "Documentation      0.750     0.500     0.600         6\n",
            "  Requirement      0.690     0.384     0.494       151\n",
            "         Test      0.500     0.500     0.500        10\n",
            "\n",
            "     accuracy                          0.753       815\n",
            "    macro avg      0.662     0.527     0.571       815\n",
            " weighted avg      0.737     0.753     0.728       815\n",
            "\n"
          ],
          "name": "stdout"
        },
        {
          "output_type": "stream",
          "text": [
            "/usr/local/lib/python3.7/dist-packages/ipykernel_launcher.py:7: DeprecationWarning: time.clock has been deprecated in Python 3.3 and will be removed from Python 3.8: use time.perf_counter or time.process_time instead\n",
            "  import sys\n",
            "/usr/local/lib/python3.7/dist-packages/ipykernel_launcher.py:10: DeprecationWarning: time.clock has been deprecated in Python 3.3 and will be removed from Python 3.8: use time.perf_counter or time.process_time instead\n",
            "  # Remove the CWD from sys.path while we load stuff.\n"
          ],
          "name": "stderr"
        },
        {
          "output_type": "stream",
          "text": [
            "-------------------------- 4\n",
            " secand 0.011\n",
            "accuracy 0.753\n",
            "               precision    recall  f1-score   support\n",
            "\n",
            "       Defect      0.596     0.322     0.418        87\n",
            "       Design      0.776     0.927     0.845       561\n",
            "Documentation      0.750     0.500     0.600         6\n",
            "  Requirement      0.690     0.384     0.494       151\n",
            "         Test      0.500     0.500     0.500        10\n",
            "\n",
            "     accuracy                          0.753       815\n",
            "    macro avg      0.662     0.527     0.571       815\n",
            " weighted avg      0.737     0.753     0.728       815\n",
            "\n"
          ],
          "name": "stdout"
        },
        {
          "output_type": "stream",
          "text": [
            "/usr/local/lib/python3.7/dist-packages/ipykernel_launcher.py:7: DeprecationWarning: time.clock has been deprecated in Python 3.3 and will be removed from Python 3.8: use time.perf_counter or time.process_time instead\n",
            "  import sys\n",
            "/usr/local/lib/python3.7/dist-packages/ipykernel_launcher.py:10: DeprecationWarning: time.clock has been deprecated in Python 3.3 and will be removed from Python 3.8: use time.perf_counter or time.process_time instead\n",
            "  # Remove the CWD from sys.path while we load stuff.\n"
          ],
          "name": "stderr"
        },
        {
          "output_type": "stream",
          "text": [
            "-------------------------- 5\n",
            " secand 0.012\n",
            "accuracy 0.753\n",
            "               precision    recall  f1-score   support\n",
            "\n",
            "       Defect      0.596     0.322     0.418        87\n",
            "       Design      0.776     0.927     0.845       561\n",
            "Documentation      0.750     0.500     0.600         6\n",
            "  Requirement      0.690     0.384     0.494       151\n",
            "         Test      0.500     0.500     0.500        10\n",
            "\n",
            "     accuracy                          0.753       815\n",
            "    macro avg      0.662     0.527     0.571       815\n",
            " weighted avg      0.737     0.753     0.728       815\n",
            "\n"
          ],
          "name": "stdout"
        },
        {
          "output_type": "stream",
          "text": [
            "/usr/local/lib/python3.7/dist-packages/ipykernel_launcher.py:7: DeprecationWarning: time.clock has been deprecated in Python 3.3 and will be removed from Python 3.8: use time.perf_counter or time.process_time instead\n",
            "  import sys\n",
            "/usr/local/lib/python3.7/dist-packages/ipykernel_launcher.py:10: DeprecationWarning: time.clock has been deprecated in Python 3.3 and will be removed from Python 3.8: use time.perf_counter or time.process_time instead\n",
            "  # Remove the CWD from sys.path while we load stuff.\n"
          ],
          "name": "stderr"
        },
        {
          "output_type": "stream",
          "text": [
            "-------------------------- 6\n",
            " secand 0.008\n",
            "accuracy 0.753\n",
            "               precision    recall  f1-score   support\n",
            "\n",
            "       Defect      0.596     0.322     0.418        87\n",
            "       Design      0.776     0.927     0.845       561\n",
            "Documentation      0.750     0.500     0.600         6\n",
            "  Requirement      0.690     0.384     0.494       151\n",
            "         Test      0.500     0.500     0.500        10\n",
            "\n",
            "     accuracy                          0.753       815\n",
            "    macro avg      0.662     0.527     0.571       815\n",
            " weighted avg      0.737     0.753     0.728       815\n",
            "\n"
          ],
          "name": "stdout"
        },
        {
          "output_type": "stream",
          "text": [
            "/usr/local/lib/python3.7/dist-packages/ipykernel_launcher.py:7: DeprecationWarning: time.clock has been deprecated in Python 3.3 and will be removed from Python 3.8: use time.perf_counter or time.process_time instead\n",
            "  import sys\n",
            "/usr/local/lib/python3.7/dist-packages/ipykernel_launcher.py:10: DeprecationWarning: time.clock has been deprecated in Python 3.3 and will be removed from Python 3.8: use time.perf_counter or time.process_time instead\n",
            "  # Remove the CWD from sys.path while we load stuff.\n"
          ],
          "name": "stderr"
        },
        {
          "output_type": "stream",
          "text": [
            "-------------------------- 7\n",
            " secand 0.011\n",
            "accuracy 0.753\n",
            "               precision    recall  f1-score   support\n",
            "\n",
            "       Defect      0.596     0.322     0.418        87\n",
            "       Design      0.776     0.927     0.845       561\n",
            "Documentation      0.750     0.500     0.600         6\n",
            "  Requirement      0.690     0.384     0.494       151\n",
            "         Test      0.500     0.500     0.500        10\n",
            "\n",
            "     accuracy                          0.753       815\n",
            "    macro avg      0.662     0.527     0.571       815\n",
            " weighted avg      0.737     0.753     0.728       815\n",
            "\n"
          ],
          "name": "stdout"
        },
        {
          "output_type": "stream",
          "text": [
            "/usr/local/lib/python3.7/dist-packages/ipykernel_launcher.py:7: DeprecationWarning: time.clock has been deprecated in Python 3.3 and will be removed from Python 3.8: use time.perf_counter or time.process_time instead\n",
            "  import sys\n",
            "/usr/local/lib/python3.7/dist-packages/ipykernel_launcher.py:10: DeprecationWarning: time.clock has been deprecated in Python 3.3 and will be removed from Python 3.8: use time.perf_counter or time.process_time instead\n",
            "  # Remove the CWD from sys.path while we load stuff.\n"
          ],
          "name": "stderr"
        },
        {
          "output_type": "stream",
          "text": [
            "-------------------------- 8\n",
            " secand 0.008\n",
            "accuracy 0.753\n",
            "               precision    recall  f1-score   support\n",
            "\n",
            "       Defect      0.596     0.322     0.418        87\n",
            "       Design      0.776     0.927     0.845       561\n",
            "Documentation      0.750     0.500     0.600         6\n",
            "  Requirement      0.690     0.384     0.494       151\n",
            "         Test      0.500     0.500     0.500        10\n",
            "\n",
            "     accuracy                          0.753       815\n",
            "    macro avg      0.662     0.527     0.571       815\n",
            " weighted avg      0.737     0.753     0.728       815\n",
            "\n",
            "-------------------------- 9\n",
            " secand 0.008\n",
            "accuracy 0.753\n",
            "               precision    recall  f1-score   support\n",
            "\n",
            "       Defect      0.596     0.322     0.418        87\n",
            "       Design      0.776     0.927     0.845       561\n",
            "Documentation      0.750     0.500     0.600         6\n",
            "  Requirement      0.690     0.384     0.494       151\n",
            "         Test      0.500     0.500     0.500        10\n",
            "\n",
            "     accuracy                          0.753       815\n",
            "    macro avg      0.662     0.527     0.571       815\n",
            " weighted avg      0.737     0.753     0.728       815\n",
            "\n"
          ],
          "name": "stdout"
        },
        {
          "output_type": "stream",
          "text": [
            "/usr/local/lib/python3.7/dist-packages/ipykernel_launcher.py:7: DeprecationWarning: time.clock has been deprecated in Python 3.3 and will be removed from Python 3.8: use time.perf_counter or time.process_time instead\n",
            "  import sys\n",
            "/usr/local/lib/python3.7/dist-packages/ipykernel_launcher.py:10: DeprecationWarning: time.clock has been deprecated in Python 3.3 and will be removed from Python 3.8: use time.perf_counter or time.process_time instead\n",
            "  # Remove the CWD from sys.path while we load stuff.\n"
          ],
          "name": "stderr"
        }
      ]
    },
    {
      "cell_type": "code",
      "metadata": {
        "colab": {
          "base_uri": "https://localhost:8080/"
        },
        "id": "pnW5_uoLeQ_4",
        "outputId": "fff57e25-04b7-442b-e4e9-2bdc35e809f7"
      },
      "source": [
        "from sklearn.ensemble import RandomForestClassifier\n",
        "for i in range(0,10):\n",
        " clf = RandomForestClassifier()\n",
        " clf.fit(X_train, y_train)\n",
        " t0=time.clock()\n",
        " y_pred = clf.predict(np.array(X_test))\n",
        " print(\" secand %.3f\" % float(time.clock()-t0))\n",
        " print(classification_report(y_test, y_pred,digits=3))\n",
        " print(\"------------------------\",i)\n",
        " print('accuracy %s' % accuracy_score(y_pred, y_test))\n",
        " print('accuracy %s' % accuracy_score(y_pred, y_test))\n"
      ],
      "execution_count": null,
      "outputs": [
        {
          "output_type": "stream",
          "text": [
            "/usr/local/lib/python3.7/dist-packages/ipykernel_launcher.py:5: DeprecationWarning: time.clock has been deprecated in Python 3.3 and will be removed from Python 3.8: use time.perf_counter or time.process_time instead\n",
            "  \"\"\"\n",
            "/usr/local/lib/python3.7/dist-packages/ipykernel_launcher.py:7: DeprecationWarning: time.clock has been deprecated in Python 3.3 and will be removed from Python 3.8: use time.perf_counter or time.process_time instead\n",
            "  import sys\n"
          ],
          "name": "stderr"
        },
        {
          "output_type": "stream",
          "text": [
            " secand 0.037\n",
            "               precision    recall  f1-score   support\n",
            "\n",
            "       Defect      0.933     0.322     0.479        87\n",
            "       Design      0.783     0.993     0.876       561\n",
            "Documentation      1.000     0.333     0.500         6\n",
            "  Requirement      0.957     0.444     0.606       151\n",
            "         Test      1.000     0.200     0.333        10\n",
            "\n",
            "     accuracy                          0.805       815\n",
            "    macro avg      0.935     0.458     0.559       815\n",
            " weighted avg      0.836     0.805     0.774       815\n",
            "\n",
            "------------------------ 0\n",
            "accuracy 0.8049079754601227\n",
            "accuracy 0.8049079754601227\n"
          ],
          "name": "stdout"
        },
        {
          "output_type": "stream",
          "text": [
            "/usr/local/lib/python3.7/dist-packages/ipykernel_launcher.py:5: DeprecationWarning: time.clock has been deprecated in Python 3.3 and will be removed from Python 3.8: use time.perf_counter or time.process_time instead\n",
            "  \"\"\"\n",
            "/usr/local/lib/python3.7/dist-packages/ipykernel_launcher.py:7: DeprecationWarning: time.clock has been deprecated in Python 3.3 and will be removed from Python 3.8: use time.perf_counter or time.process_time instead\n",
            "  import sys\n"
          ],
          "name": "stderr"
        },
        {
          "output_type": "stream",
          "text": [
            " secand 0.036\n",
            "               precision    recall  f1-score   support\n",
            "\n",
            "       Defect      0.933     0.322     0.479        87\n",
            "       Design      0.785     0.993     0.876       561\n",
            "Documentation      1.000     0.333     0.500         6\n",
            "  Requirement      0.957     0.444     0.606       151\n",
            "         Test      1.000     0.300     0.462        10\n",
            "\n",
            "     accuracy                          0.806       815\n",
            "    macro avg      0.935     0.478     0.585       815\n",
            " weighted avg      0.837     0.806     0.776       815\n",
            "\n",
            "------------------------ 1\n",
            "accuracy 0.8061349693251534\n",
            "accuracy 0.8061349693251534\n"
          ],
          "name": "stdout"
        },
        {
          "output_type": "stream",
          "text": [
            "/usr/local/lib/python3.7/dist-packages/ipykernel_launcher.py:5: DeprecationWarning: time.clock has been deprecated in Python 3.3 and will be removed from Python 3.8: use time.perf_counter or time.process_time instead\n",
            "  \"\"\"\n",
            "/usr/local/lib/python3.7/dist-packages/ipykernel_launcher.py:7: DeprecationWarning: time.clock has been deprecated in Python 3.3 and will be removed from Python 3.8: use time.perf_counter or time.process_time instead\n",
            "  import sys\n"
          ],
          "name": "stderr"
        },
        {
          "output_type": "stream",
          "text": [
            " secand 0.036\n",
            "               precision    recall  f1-score   support\n",
            "\n",
            "       Defect      0.903     0.322     0.475        87\n",
            "       Design      0.783     0.989     0.874       561\n",
            "Documentation      1.000     0.333     0.500         6\n",
            "  Requirement      0.943     0.437     0.597       151\n",
            "         Test      1.000     0.300     0.462        10\n",
            "\n",
            "     accuracy                          0.802       815\n",
            "    macro avg      0.926     0.476     0.581       815\n",
            " weighted avg      0.830     0.802     0.772       815\n",
            "\n",
            "------------------------ 2\n",
            "accuracy 0.8024539877300614\n",
            "accuracy 0.8024539877300614\n"
          ],
          "name": "stdout"
        },
        {
          "output_type": "stream",
          "text": [
            "/usr/local/lib/python3.7/dist-packages/ipykernel_launcher.py:5: DeprecationWarning: time.clock has been deprecated in Python 3.3 and will be removed from Python 3.8: use time.perf_counter or time.process_time instead\n",
            "  \"\"\"\n",
            "/usr/local/lib/python3.7/dist-packages/ipykernel_launcher.py:7: DeprecationWarning: time.clock has been deprecated in Python 3.3 and will be removed from Python 3.8: use time.perf_counter or time.process_time instead\n",
            "  import sys\n"
          ],
          "name": "stderr"
        },
        {
          "output_type": "stream",
          "text": [
            " secand 0.036\n",
            "               precision    recall  f1-score   support\n",
            "\n",
            "       Defect      0.933     0.322     0.479        87\n",
            "       Design      0.784     0.989     0.875       561\n",
            "Documentation      1.000     0.333     0.500         6\n",
            "  Requirement      0.931     0.444     0.601       151\n",
            "         Test      1.000     0.300     0.462        10\n",
            "\n",
            "     accuracy                          0.804       815\n",
            "    macro avg      0.930     0.478     0.583       815\n",
            " weighted avg      0.831     0.804     0.774       815\n",
            "\n",
            "------------------------ 3\n",
            "accuracy 0.803680981595092\n",
            "accuracy 0.803680981595092\n"
          ],
          "name": "stdout"
        },
        {
          "output_type": "stream",
          "text": [
            "/usr/local/lib/python3.7/dist-packages/ipykernel_launcher.py:5: DeprecationWarning: time.clock has been deprecated in Python 3.3 and will be removed from Python 3.8: use time.perf_counter or time.process_time instead\n",
            "  \"\"\"\n",
            "/usr/local/lib/python3.7/dist-packages/ipykernel_launcher.py:7: DeprecationWarning: time.clock has been deprecated in Python 3.3 and will be removed from Python 3.8: use time.perf_counter or time.process_time instead\n",
            "  import sys\n"
          ],
          "name": "stderr"
        },
        {
          "output_type": "stream",
          "text": [
            " secand 0.036\n",
            "               precision    recall  f1-score   support\n",
            "\n",
            "       Defect      0.933     0.322     0.479        87\n",
            "       Design      0.783     0.993     0.876       561\n",
            "Documentation      1.000     0.333     0.500         6\n",
            "  Requirement      0.957     0.437     0.600       151\n",
            "         Test      1.000     0.300     0.462        10\n",
            "\n",
            "     accuracy                          0.805       815\n",
            "    macro avg      0.935     0.477     0.583       815\n",
            " weighted avg      0.836     0.805     0.774       815\n",
            "\n",
            "------------------------ 4\n",
            "accuracy 0.8049079754601227\n",
            "accuracy 0.8049079754601227\n"
          ],
          "name": "stdout"
        },
        {
          "output_type": "stream",
          "text": [
            "/usr/local/lib/python3.7/dist-packages/ipykernel_launcher.py:5: DeprecationWarning: time.clock has been deprecated in Python 3.3 and will be removed from Python 3.8: use time.perf_counter or time.process_time instead\n",
            "  \"\"\"\n",
            "/usr/local/lib/python3.7/dist-packages/ipykernel_launcher.py:7: DeprecationWarning: time.clock has been deprecated in Python 3.3 and will be removed from Python 3.8: use time.perf_counter or time.process_time instead\n",
            "  import sys\n"
          ],
          "name": "stderr"
        },
        {
          "output_type": "stream",
          "text": [
            " secand 0.036\n",
            "               precision    recall  f1-score   support\n",
            "\n",
            "       Defect      0.935     0.333     0.492        87\n",
            "       Design      0.786     0.993     0.877       561\n",
            "Documentation      1.000     0.333     0.500         6\n",
            "  Requirement      0.957     0.444     0.606       151\n",
            "         Test      1.000     0.300     0.462        10\n",
            "\n",
            "     accuracy                          0.807       815\n",
            "    macro avg      0.936     0.481     0.587       815\n",
            " weighted avg      0.838     0.807     0.778       815\n",
            "\n",
            "------------------------ 5\n",
            "accuracy 0.807361963190184\n",
            "accuracy 0.807361963190184\n"
          ],
          "name": "stdout"
        },
        {
          "output_type": "stream",
          "text": [
            "/usr/local/lib/python3.7/dist-packages/ipykernel_launcher.py:5: DeprecationWarning: time.clock has been deprecated in Python 3.3 and will be removed from Python 3.8: use time.perf_counter or time.process_time instead\n",
            "  \"\"\"\n",
            "/usr/local/lib/python3.7/dist-packages/ipykernel_launcher.py:7: DeprecationWarning: time.clock has been deprecated in Python 3.3 and will be removed from Python 3.8: use time.perf_counter or time.process_time instead\n",
            "  import sys\n"
          ],
          "name": "stderr"
        },
        {
          "output_type": "stream",
          "text": [
            " secand 0.036\n",
            "               precision    recall  f1-score   support\n",
            "\n",
            "       Defect      0.933     0.322     0.479        87\n",
            "       Design      0.783     0.993     0.876       561\n",
            "Documentation      1.000     0.500     0.667         6\n",
            "  Requirement      0.957     0.437     0.600       151\n",
            "         Test      1.000     0.200     0.333        10\n",
            "\n",
            "     accuracy                          0.805       815\n",
            "    macro avg      0.935     0.490     0.591       815\n",
            " weighted avg      0.836     0.805     0.774       815\n",
            "\n",
            "------------------------ 6\n",
            "accuracy 0.8049079754601227\n",
            "accuracy 0.8049079754601227\n"
          ],
          "name": "stdout"
        },
        {
          "output_type": "stream",
          "text": [
            "/usr/local/lib/python3.7/dist-packages/ipykernel_launcher.py:5: DeprecationWarning: time.clock has been deprecated in Python 3.3 and will be removed from Python 3.8: use time.perf_counter or time.process_time instead\n",
            "  \"\"\"\n",
            "/usr/local/lib/python3.7/dist-packages/ipykernel_launcher.py:7: DeprecationWarning: time.clock has been deprecated in Python 3.3 and will be removed from Python 3.8: use time.perf_counter or time.process_time instead\n",
            "  import sys\n"
          ],
          "name": "stderr"
        },
        {
          "output_type": "stream",
          "text": [
            " secand 0.036\n",
            "               precision    recall  f1-score   support\n",
            "\n",
            "       Defect      0.933     0.322     0.479        87\n",
            "       Design      0.782     0.991     0.874       561\n",
            "Documentation      1.000     0.500     0.667         6\n",
            "  Requirement      0.942     0.430     0.591       151\n",
            "         Test      1.000     0.200     0.333        10\n",
            "\n",
            "     accuracy                          0.802       815\n",
            "    macro avg      0.931     0.489     0.589       815\n",
            " weighted avg      0.832     0.802     0.771       815\n",
            "\n",
            "------------------------ 7\n",
            "accuracy 0.8024539877300614\n",
            "accuracy 0.8024539877300614\n"
          ],
          "name": "stdout"
        },
        {
          "output_type": "stream",
          "text": [
            "/usr/local/lib/python3.7/dist-packages/ipykernel_launcher.py:5: DeprecationWarning: time.clock has been deprecated in Python 3.3 and will be removed from Python 3.8: use time.perf_counter or time.process_time instead\n",
            "  \"\"\"\n",
            "/usr/local/lib/python3.7/dist-packages/ipykernel_launcher.py:7: DeprecationWarning: time.clock has been deprecated in Python 3.3 and will be removed from Python 3.8: use time.perf_counter or time.process_time instead\n",
            "  import sys\n"
          ],
          "name": "stderr"
        },
        {
          "output_type": "stream",
          "text": [
            " secand 0.035\n",
            "               precision    recall  f1-score   support\n",
            "\n",
            "       Defect      0.933     0.322     0.479        87\n",
            "       Design      0.783     0.993     0.876       561\n",
            "Documentation      1.000     0.333     0.500         6\n",
            "  Requirement      0.957     0.437     0.600       151\n",
            "         Test      1.000     0.300     0.462        10\n",
            "\n",
            "     accuracy                          0.805       815\n",
            "    macro avg      0.935     0.477     0.583       815\n",
            " weighted avg      0.836     0.805     0.774       815\n",
            "\n",
            "------------------------ 8\n",
            "accuracy 0.8049079754601227\n",
            "accuracy 0.8049079754601227\n",
            " secand 0.036\n",
            "               precision    recall  f1-score   support\n",
            "\n",
            "       Defect      0.933     0.322     0.479        87\n",
            "       Design      0.782     0.993     0.875       561\n",
            "Documentation      1.000     0.333     0.500         6\n",
            "  Requirement      0.956     0.430     0.594       151\n",
            "         Test      1.000     0.300     0.462        10\n",
            "\n",
            "     accuracy                          0.804       815\n",
            "    macro avg      0.934     0.476     0.582       815\n",
            " weighted avg      0.835     0.804     0.773       815\n",
            "\n",
            "------------------------ 9\n",
            "accuracy 0.803680981595092\n",
            "accuracy 0.803680981595092\n"
          ],
          "name": "stdout"
        },
        {
          "output_type": "stream",
          "text": [
            "/usr/local/lib/python3.7/dist-packages/ipykernel_launcher.py:5: DeprecationWarning: time.clock has been deprecated in Python 3.3 and will be removed from Python 3.8: use time.perf_counter or time.process_time instead\n",
            "  \"\"\"\n",
            "/usr/local/lib/python3.7/dist-packages/ipykernel_launcher.py:7: DeprecationWarning: time.clock has been deprecated in Python 3.3 and will be removed from Python 3.8: use time.perf_counter or time.process_time instead\n",
            "  import sys\n"
          ],
          "name": "stderr"
        }
      ]
    },
    {
      "cell_type": "code",
      "metadata": {
        "colab": {
          "base_uri": "https://localhost:8080/"
        },
        "id": "zluG5fale7XY",
        "outputId": "58680878-d114-4d5d-897f-cd323abcd26e"
      },
      "source": [
        "from sklearn.naive_bayes import BernoulliNB\n",
        "for i in range(0,10):\n",
        " clf = BernoulliNB()\n",
        " clf.fit(X_train, y_train)\n",
        " t0=time.clock()\n",
        "\n",
        " y_pred = clf.predict(np.array(X_test))\n",
        " print(\" secand %.3f\" % float(time.clock()-t0))\n",
        " print(classification_report(y_test, y_pred,digits=3))"
      ],
      "execution_count": null,
      "outputs": [
        {
          "output_type": "stream",
          "text": [
            "/usr/local/lib/python3.7/dist-packages/ipykernel_launcher.py:5: DeprecationWarning: time.clock has been deprecated in Python 3.3 and will be removed from Python 3.8: use time.perf_counter or time.process_time instead\n",
            "  \"\"\"\n",
            "/usr/local/lib/python3.7/dist-packages/ipykernel_launcher.py:8: DeprecationWarning: time.clock has been deprecated in Python 3.3 and will be removed from Python 3.8: use time.perf_counter or time.process_time instead\n",
            "  \n"
          ],
          "name": "stderr"
        },
        {
          "output_type": "stream",
          "text": [
            " secand 0.030\n",
            "               precision    recall  f1-score   support\n",
            "\n",
            "       Defect      0.466     0.310     0.372        87\n",
            "       Design      0.780     0.720     0.749       561\n",
            "Documentation      0.333     0.500     0.400         6\n",
            "  Requirement      0.378     0.523     0.439       151\n",
            "         Test      0.381     0.800     0.516        10\n",
            "\n",
            "     accuracy                          0.639       815\n",
            "    macro avg      0.468     0.571     0.495       815\n",
            " weighted avg      0.664     0.639     0.646       815\n",
            "\n"
          ],
          "name": "stdout"
        },
        {
          "output_type": "stream",
          "text": [
            "/usr/local/lib/python3.7/dist-packages/ipykernel_launcher.py:5: DeprecationWarning: time.clock has been deprecated in Python 3.3 and will be removed from Python 3.8: use time.perf_counter or time.process_time instead\n",
            "  \"\"\"\n",
            "/usr/local/lib/python3.7/dist-packages/ipykernel_launcher.py:8: DeprecationWarning: time.clock has been deprecated in Python 3.3 and will be removed from Python 3.8: use time.perf_counter or time.process_time instead\n",
            "  \n"
          ],
          "name": "stderr"
        },
        {
          "output_type": "stream",
          "text": [
            " secand 0.030\n",
            "               precision    recall  f1-score   support\n",
            "\n",
            "       Defect      0.466     0.310     0.372        87\n",
            "       Design      0.780     0.720     0.749       561\n",
            "Documentation      0.333     0.500     0.400         6\n",
            "  Requirement      0.378     0.523     0.439       151\n",
            "         Test      0.381     0.800     0.516        10\n",
            "\n",
            "     accuracy                          0.639       815\n",
            "    macro avg      0.468     0.571     0.495       815\n",
            " weighted avg      0.664     0.639     0.646       815\n",
            "\n"
          ],
          "name": "stdout"
        },
        {
          "output_type": "stream",
          "text": [
            "/usr/local/lib/python3.7/dist-packages/ipykernel_launcher.py:5: DeprecationWarning: time.clock has been deprecated in Python 3.3 and will be removed from Python 3.8: use time.perf_counter or time.process_time instead\n",
            "  \"\"\"\n",
            "/usr/local/lib/python3.7/dist-packages/ipykernel_launcher.py:8: DeprecationWarning: time.clock has been deprecated in Python 3.3 and will be removed from Python 3.8: use time.perf_counter or time.process_time instead\n",
            "  \n"
          ],
          "name": "stderr"
        },
        {
          "output_type": "stream",
          "text": [
            " secand 0.030\n",
            "               precision    recall  f1-score   support\n",
            "\n",
            "       Defect      0.466     0.310     0.372        87\n",
            "       Design      0.780     0.720     0.749       561\n",
            "Documentation      0.333     0.500     0.400         6\n",
            "  Requirement      0.378     0.523     0.439       151\n",
            "         Test      0.381     0.800     0.516        10\n",
            "\n",
            "     accuracy                          0.639       815\n",
            "    macro avg      0.468     0.571     0.495       815\n",
            " weighted avg      0.664     0.639     0.646       815\n",
            "\n"
          ],
          "name": "stdout"
        },
        {
          "output_type": "stream",
          "text": [
            "/usr/local/lib/python3.7/dist-packages/ipykernel_launcher.py:5: DeprecationWarning: time.clock has been deprecated in Python 3.3 and will be removed from Python 3.8: use time.perf_counter or time.process_time instead\n",
            "  \"\"\"\n",
            "/usr/local/lib/python3.7/dist-packages/ipykernel_launcher.py:8: DeprecationWarning: time.clock has been deprecated in Python 3.3 and will be removed from Python 3.8: use time.perf_counter or time.process_time instead\n",
            "  \n"
          ],
          "name": "stderr"
        },
        {
          "output_type": "stream",
          "text": [
            " secand 0.030\n",
            "               precision    recall  f1-score   support\n",
            "\n",
            "       Defect      0.466     0.310     0.372        87\n",
            "       Design      0.780     0.720     0.749       561\n",
            "Documentation      0.333     0.500     0.400         6\n",
            "  Requirement      0.378     0.523     0.439       151\n",
            "         Test      0.381     0.800     0.516        10\n",
            "\n",
            "     accuracy                          0.639       815\n",
            "    macro avg      0.468     0.571     0.495       815\n",
            " weighted avg      0.664     0.639     0.646       815\n",
            "\n"
          ],
          "name": "stdout"
        },
        {
          "output_type": "stream",
          "text": [
            "/usr/local/lib/python3.7/dist-packages/ipykernel_launcher.py:5: DeprecationWarning: time.clock has been deprecated in Python 3.3 and will be removed from Python 3.8: use time.perf_counter or time.process_time instead\n",
            "  \"\"\"\n",
            "/usr/local/lib/python3.7/dist-packages/ipykernel_launcher.py:8: DeprecationWarning: time.clock has been deprecated in Python 3.3 and will be removed from Python 3.8: use time.perf_counter or time.process_time instead\n",
            "  \n"
          ],
          "name": "stderr"
        },
        {
          "output_type": "stream",
          "text": [
            " secand 0.030\n",
            "               precision    recall  f1-score   support\n",
            "\n",
            "       Defect      0.466     0.310     0.372        87\n",
            "       Design      0.780     0.720     0.749       561\n",
            "Documentation      0.333     0.500     0.400         6\n",
            "  Requirement      0.378     0.523     0.439       151\n",
            "         Test      0.381     0.800     0.516        10\n",
            "\n",
            "     accuracy                          0.639       815\n",
            "    macro avg      0.468     0.571     0.495       815\n",
            " weighted avg      0.664     0.639     0.646       815\n",
            "\n"
          ],
          "name": "stdout"
        },
        {
          "output_type": "stream",
          "text": [
            "/usr/local/lib/python3.7/dist-packages/ipykernel_launcher.py:5: DeprecationWarning: time.clock has been deprecated in Python 3.3 and will be removed from Python 3.8: use time.perf_counter or time.process_time instead\n",
            "  \"\"\"\n",
            "/usr/local/lib/python3.7/dist-packages/ipykernel_launcher.py:8: DeprecationWarning: time.clock has been deprecated in Python 3.3 and will be removed from Python 3.8: use time.perf_counter or time.process_time instead\n",
            "  \n"
          ],
          "name": "stderr"
        },
        {
          "output_type": "stream",
          "text": [
            " secand 0.030\n",
            "               precision    recall  f1-score   support\n",
            "\n",
            "       Defect      0.466     0.310     0.372        87\n",
            "       Design      0.780     0.720     0.749       561\n",
            "Documentation      0.333     0.500     0.400         6\n",
            "  Requirement      0.378     0.523     0.439       151\n",
            "         Test      0.381     0.800     0.516        10\n",
            "\n",
            "     accuracy                          0.639       815\n",
            "    macro avg      0.468     0.571     0.495       815\n",
            " weighted avg      0.664     0.639     0.646       815\n",
            "\n"
          ],
          "name": "stdout"
        },
        {
          "output_type": "stream",
          "text": [
            "/usr/local/lib/python3.7/dist-packages/ipykernel_launcher.py:5: DeprecationWarning: time.clock has been deprecated in Python 3.3 and will be removed from Python 3.8: use time.perf_counter or time.process_time instead\n",
            "  \"\"\"\n",
            "/usr/local/lib/python3.7/dist-packages/ipykernel_launcher.py:8: DeprecationWarning: time.clock has been deprecated in Python 3.3 and will be removed from Python 3.8: use time.perf_counter or time.process_time instead\n",
            "  \n"
          ],
          "name": "stderr"
        },
        {
          "output_type": "stream",
          "text": [
            " secand 0.030\n",
            "               precision    recall  f1-score   support\n",
            "\n",
            "       Defect      0.466     0.310     0.372        87\n",
            "       Design      0.780     0.720     0.749       561\n",
            "Documentation      0.333     0.500     0.400         6\n",
            "  Requirement      0.378     0.523     0.439       151\n",
            "         Test      0.381     0.800     0.516        10\n",
            "\n",
            "     accuracy                          0.639       815\n",
            "    macro avg      0.468     0.571     0.495       815\n",
            " weighted avg      0.664     0.639     0.646       815\n",
            "\n"
          ],
          "name": "stdout"
        },
        {
          "output_type": "stream",
          "text": [
            "/usr/local/lib/python3.7/dist-packages/ipykernel_launcher.py:5: DeprecationWarning: time.clock has been deprecated in Python 3.3 and will be removed from Python 3.8: use time.perf_counter or time.process_time instead\n",
            "  \"\"\"\n",
            "/usr/local/lib/python3.7/dist-packages/ipykernel_launcher.py:8: DeprecationWarning: time.clock has been deprecated in Python 3.3 and will be removed from Python 3.8: use time.perf_counter or time.process_time instead\n",
            "  \n"
          ],
          "name": "stderr"
        },
        {
          "output_type": "stream",
          "text": [
            " secand 0.030\n",
            "               precision    recall  f1-score   support\n",
            "\n",
            "       Defect      0.466     0.310     0.372        87\n",
            "       Design      0.780     0.720     0.749       561\n",
            "Documentation      0.333     0.500     0.400         6\n",
            "  Requirement      0.378     0.523     0.439       151\n",
            "         Test      0.381     0.800     0.516        10\n",
            "\n",
            "     accuracy                          0.639       815\n",
            "    macro avg      0.468     0.571     0.495       815\n",
            " weighted avg      0.664     0.639     0.646       815\n",
            "\n"
          ],
          "name": "stdout"
        },
        {
          "output_type": "stream",
          "text": [
            "/usr/local/lib/python3.7/dist-packages/ipykernel_launcher.py:5: DeprecationWarning: time.clock has been deprecated in Python 3.3 and will be removed from Python 3.8: use time.perf_counter or time.process_time instead\n",
            "  \"\"\"\n",
            "/usr/local/lib/python3.7/dist-packages/ipykernel_launcher.py:8: DeprecationWarning: time.clock has been deprecated in Python 3.3 and will be removed from Python 3.8: use time.perf_counter or time.process_time instead\n",
            "  \n"
          ],
          "name": "stderr"
        },
        {
          "output_type": "stream",
          "text": [
            " secand 0.030\n",
            "               precision    recall  f1-score   support\n",
            "\n",
            "       Defect      0.466     0.310     0.372        87\n",
            "       Design      0.780     0.720     0.749       561\n",
            "Documentation      0.333     0.500     0.400         6\n",
            "  Requirement      0.378     0.523     0.439       151\n",
            "         Test      0.381     0.800     0.516        10\n",
            "\n",
            "     accuracy                          0.639       815\n",
            "    macro avg      0.468     0.571     0.495       815\n",
            " weighted avg      0.664     0.639     0.646       815\n",
            "\n",
            " secand 0.030\n",
            "               precision    recall  f1-score   support\n",
            "\n",
            "       Defect      0.466     0.310     0.372        87\n",
            "       Design      0.780     0.720     0.749       561\n",
            "Documentation      0.333     0.500     0.400         6\n",
            "  Requirement      0.378     0.523     0.439       151\n",
            "         Test      0.381     0.800     0.516        10\n",
            "\n",
            "     accuracy                          0.639       815\n",
            "    macro avg      0.468     0.571     0.495       815\n",
            " weighted avg      0.664     0.639     0.646       815\n",
            "\n"
          ],
          "name": "stdout"
        },
        {
          "output_type": "stream",
          "text": [
            "/usr/local/lib/python3.7/dist-packages/ipykernel_launcher.py:5: DeprecationWarning: time.clock has been deprecated in Python 3.3 and will be removed from Python 3.8: use time.perf_counter or time.process_time instead\n",
            "  \"\"\"\n",
            "/usr/local/lib/python3.7/dist-packages/ipykernel_launcher.py:8: DeprecationWarning: time.clock has been deprecated in Python 3.3 and will be removed from Python 3.8: use time.perf_counter or time.process_time instead\n",
            "  \n"
          ],
          "name": "stderr"
        }
      ]
    },
    {
      "cell_type": "code",
      "metadata": {
        "id": "eIuz5j26fuws"
      },
      "source": [
        "from keras.layers import Input\n",
        "from keras.models import Model\n",
        "from keras.layers import Conv1D, MaxPooling1D, Embedding\n",
        "from keras.models import Sequential\n",
        "from keras.layers.core import Activation, Dropout, Dense\n",
        "from keras.layers import GlobalMaxPooling1D\n",
        "from keras.optimizers import Adam\n",
        "import keras\n",
        "model = Sequential()\n",
        "model.add(\n",
        "  keras.layers.Dense(\n",
        "    units=160,\n",
        "    input_shape=(X_train.shape[1], ),\n",
        "    activation='relu'\n",
        "  )\n",
        ")\n",
        "model.add(\n",
        "  keras.layers.Dropout(rate=0.2)\n",
        ")\n",
        "model.add(\n",
        "  keras.layers.Dense(\n",
        "    units=160,\n",
        "    activation='relu'\n",
        "  )\n",
        ")\n",
        "model.add(\n",
        "  keras.layers.Dropout(rate=0.2)\n",
        ")\n",
        "model.add(keras.layers.Dense(5, activation='softmax'))\n"
      ],
      "execution_count": null,
      "outputs": []
    },
    {
      "cell_type": "code",
      "metadata": {
        "id": "2fYNIXi5hIr8"
      },
      "source": [
        "# model.compile(loss='categorical_crossentropy', optimizer=\"Adam\", metrics=['accuracy'])\n"
      ],
      "execution_count": null,
      "outputs": []
    },
    {
      "cell_type": "code",
      "metadata": {
        "id": "3waGNuxo76Rc"
      },
      "source": [
        "# from sklearn.preprocessing import OneHotEncoder\n",
        "\n",
        "# type_one_hot = OneHotEncoder(sparse=False).fit_transform(\n",
        "#   df.label.to_numpy().reshape(-1, 1))"
      ],
      "execution_count": null,
      "outputs": []
    },
    {
      "cell_type": "code",
      "metadata": {
        "id": "gTFY4Mr38Ob8"
      },
      "source": [
        "# train_x, test_x, train_y, test_y =\\\n",
        "#   train_test_split(\n",
        "#     df.commenttext,\n",
        "#     type_one_hot,\n",
        "#     test_size=.2,\n",
        "#     random_state=42\n",
        "#   )"
      ],
      "execution_count": null,
      "outputs": []
    },
    {
      "cell_type": "code",
      "metadata": {
        "id": "r5ecZG8A5z7c"
      },
      "source": [
        "# from tqdm import tqdm\n",
        "# x_train= []\n",
        "# for r in tqdm(train_x):\n",
        "#   emb = embed(r)\n",
        "#   x_emb = tf.reshape(emb, [-1]).numpy()\n",
        "#   x_train.append(x_emb)\n",
        "\n",
        "# x_train = np.array(x_train)\n",
        "\n",
        "# x_test = []\n",
        "# for r in tqdm(test_x):\n",
        "#   emb = embed(r)\n",
        "#   x_emb = tf.reshape(emb, [-1]).numpy()\n",
        "#   x_test.append(x_emb)\n",
        "\n",
        "# x_test = np.array(x_test)"
      ],
      "execution_count": null,
      "outputs": []
    },
    {
      "cell_type": "code",
      "metadata": {
        "id": "3MDHitNYhXHE"
      },
      "source": [
        "# history1 = model.fit(x_train, train_y, epochs=10, verbose=1, validation_split=0.2 )\n",
        "\n",
        "# score = model.evaluate(x_test, test_y, verbose=1)"
      ],
      "execution_count": null,
      "outputs": []
    }
  ]
}