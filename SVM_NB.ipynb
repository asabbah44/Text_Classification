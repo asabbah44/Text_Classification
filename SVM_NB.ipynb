{
  "nbformat": 4,
  "nbformat_minor": 0,
  "metadata": {
    "colab": {
      "name": "SVM-NB.ipynb",
      "provenance": [],
      "collapsed_sections": [],
      "mount_file_id": "1sOUCyMVkBYyPNUpg3qYvx8a9kDrP2Kjq",
      "authorship_tag": "ABX9TyN7wvlYzGAYd1XcGKfQHKVA",
      "include_colab_link": true
    },
    "kernelspec": {
      "display_name": "Python 3",
      "name": "python3"
    }
  },
  "cells": [
    {
      "cell_type": "markdown",
      "metadata": {
        "id": "view-in-github",
        "colab_type": "text"
      },
      "source": [
        "<a href=\"https://colab.research.google.com/github/asabbah44/Text_Classification/blob/main/SVM_NB.ipynb\" target=\"_parent\"><img src=\"https://colab.research.google.com/assets/colab-badge.svg\" alt=\"Open In Colab\"/></a>"
      ]
    },
    {
      "cell_type": "code",
      "metadata": {
        "colab": {
          "base_uri": "https://localhost:8080/"
        },
        "id": "fobj7QqkMoWV",
        "outputId": "b853123c-8a7b-4af5-d6b4-8ccab8168d16"
      },
      "source": [
        "import logging\n",
        "import pandas as pd\n",
        "import numpy as np\n",
        "from numpy import random\n",
        "import gensim\n",
        "import nltk\n",
        "from sklearn.model_selection import train_test_split\n",
        "from sklearn.feature_extraction.text import CountVectorizer, TfidfVectorizer\n",
        "from sklearn.metrics import accuracy_score, confusion_matrix\n",
        "import matplotlib.pyplot as plt\n",
        "from nltk.corpus import stopwords\n",
        "nltk.download('stopwords')\n",
        "import re\n",
        "from bs4 import BeautifulSoup\n",
        "%matplotlib inline\n",
        "from sklearn.utils import resample\n",
        "df1 = pd.read_csv('/content/drive/MyDrive/Colab Notebooks/Data/dataset.csv')\n",
        "df2 = pd.read_csv('/content/drive/MyDrive/Colab Notebooks/Data/mydatasetfinal.csv')\n",
        "\n",
        "\n",
        "df1 = pd.DataFrame(df1, columns = ['commenttext','label'])\n",
        "df2 = pd.DataFrame(df2, columns = ['commenttext','label'])\n",
        "\n",
        "df=pd.concat([df1,df2])\n",
        "\n",
        "\n",
        "print(df.head(10))\n",
        "print(df['commenttext'].apply(lambda x: len(x.split(' '))).sum())"
      ],
      "execution_count": 1,
      "outputs": [
        {
          "output_type": "stream",
          "text": [
            "[nltk_data] Downloading package stopwords to /root/nltk_data...\n",
            "[nltk_data]   Unzipping corpora/stopwords.zip.\n",
            "                                         commenttext   label\n",
            "0            // FIXME formatters are not thread-safe  Defect\n",
            "1  // XXX: (Jon Skeet) The comment \"if it hasn't ...  Defect\n",
            "2  // I hate to admit it, but we don't know what ...  Defect\n",
            "3  // Just a note: StarTeam has a status for NEW ...  Defect\n",
            "4  // the generated classes must not be added in ...  Defect\n",
            "5  // todo: is this comment still relevant ?? // ...  Defect\n",
            "6  // This is turned off temporarily. There appea...  Defect\n",
            "7  // pattern now holds ** while string is not ex...  Defect\n",
            "8  // FIXME: Is \"No Namespace is Empty Namespace\"...  Defect\n",
            "9  // FIXME this is actually not very cpu cycles ...  Defect\n",
            "151162\n"
          ],
          "name": "stdout"
        }
      ]
    },
    {
      "cell_type": "code",
      "metadata": {
        "colab": {
          "base_uri": "https://localhost:8080/",
          "height": 332
        },
        "id": "1zxWC9VFx_Gp",
        "outputId": "9b8e4f4e-e0ea-4d62-b558-63f691294578"
      },
      "source": [
        "my_tags = ['DESIGN','IMPLEMENTATION','DEFECT','TEST','DOCUMENTATION']\n",
        "plt.figure(figsize=(10,4))\n",
        "df.label.value_counts().plot(kind='bar');"
      ],
      "execution_count": 2,
      "outputs": [
        {
          "output_type": "display_data",
          "data": {
            "image/png": "[encoded data removed]",
            "text/plain": [
              "<Figure size 720x288 with 1 Axes>"
            ]
          },
          "metadata": {
            "tags": [],
            "needs_background": "light"
          }
        }
      ]
    },
    {
      "cell_type": "code",
      "metadata": {
        "id": "sD7aENsXwO-8",
        "colab": {
          "base_uri": "https://localhost:8080/"
        },
        "outputId": "84d083c2-8d23-4b80-fdb1-84882fff319e"
      },
      "source": [
        "def print_plot(index):\n",
        "    example = df[df.index == index][['commenttext', 'label']].values[0]\n",
        "    if len(example) > 0:\n",
        "        print(example[0])\n",
        "        print('Tag:', example[1])\n",
        "\n",
        "print_plot(500)"
      ],
      "execution_count": 3,
      "outputs": [
        {
          "output_type": "stream",
          "text": [
            "// TODO should this be done even if not a full test plan? // and what if load fails?\n",
            "Tag: Test\n"
          ],
          "name": "stdout"
        }
      ]
    },
    {
      "cell_type": "code",
      "metadata": {
        "id": "ko6MPNT_rCYi",
        "colab": {
          "base_uri": "https://localhost:8080/"
        },
        "outputId": "a9abc140-8cd2-406a-a73b-0e29df7c13df"
      },
      "source": [
        "import sys\n",
        "sys.path.append('/content/drive/MyDrive/Colab Notebooks')\n",
        "\n",
        "from Utility import preprocess\n",
        "# df[\"commenttext\"] = df[\"commenttext\"].apply(lambda x: x.lower())\n",
        "\n",
        "# # Clean the text\n",
        "# df[\"commenttext\"] = df[\"commenttext\"].apply(lambda x:preprocess.clean_text(x))\n",
        "\n",
        "# # Clean numbers\n",
        "# df[\"commenttext\"] = df[\"commenttext\"].apply(lambda x:preprocess.clean_numbers(x))\n",
        "\n",
        "# # Clean Contractions\n",
        "df[\"commenttext\"] = df[\"commenttext\"].apply(lambda x:preprocess.replace_contractions(x))\n",
        " \n",
        "# df[\"commenttext\"] = df[\"commenttext\"].apply(lambda x:preprocess.clean_punc(x))\n",
        "\n",
        "# # lemmatize\n",
        "df[\"commenttext\"] = df[\"commenttext\"].apply(lambda x: preprocess.lemmatize(x))\n",
        "# # remove stop word and custome word such as todo\n",
        "# df[\"commenttext\"] = df[\"commenttext\"].apply(lambda x: preprocess.custm_stopwords_remove(x))\n",
        "\n"
      ],
      "execution_count": 4,
      "outputs": [
        {
          "output_type": "stream",
          "text": [
            "[nltk_data] Downloading package wordnet to /root/nltk_data...\n",
            "[nltk_data]   Unzipping corpora/wordnet.zip.\n",
            "[nltk_data] Downloading package punkt to /root/nltk_data...\n",
            "[nltk_data]   Unzipping tokenizers/punkt.zip.\n",
            "[nltk_data] Downloading package stopwords to /root/nltk_data...\n",
            "[nltk_data]   Package stopwords is already up-to-date!\n"
          ],
          "name": "stdout"
        }
      ]
    },
    {
      "cell_type": "code",
      "metadata": {
        "id": "1syjkAetvxrW",
        "colab": {
          "base_uri": "https://localhost:8080/"
        },
        "outputId": "c04b54c8-56ea-4f0f-9dfa-0f54504333df"
      },
      "source": [
        "REPLACE_BY_SPACE_RE = re.compile('[/(){}\\[\\]\\|@,;]')\n",
        "BAD_SYMBOLS_RE = re.compile('[^0-9a-z #+_]')\n",
        "STOPWORDS = set(stopwords.words('english'))\n",
        "\n",
        "def clean_text(text):\n",
        "    \"\"\"\n",
        "        text: a string\n",
        "        \n",
        "        return: modified initial string\n",
        "    \"\"\"\n",
        "    text = BeautifulSoup(text, \"lxml\").text # HTML decoding\n",
        "    text = text.lower() # lowercase text\n",
        "    text = REPLACE_BY_SPACE_RE.sub(' ', text) # replace REPLACE_BY_SPACE_RE symbols by space in text\n",
        "    text = BAD_SYMBOLS_RE.sub('', text) # delete symbols which are in BAD_SYMBOLS_RE from text\n",
        "    text = ' '.join(word for word in text.split() if word not in STOPWORDS) # delete stopwors from text\n",
        "\n",
        "    Cust_words = ['todo','fixme']\n",
        "    stop = set(stopwords.words('english'))\n",
        "    for word in  Cust_words:\n",
        "        STOPWORDS.add(word)\n",
        "    text = ' '.join(word for word in text.split() if word not in stop)\n",
        "\n",
        "    return text\n",
        "    \n",
        "df['commenttext'] = df['commenttext'].apply(clean_text)\n",
        "print_plot(500)"
      ],
      "execution_count": 5,
      "outputs": [
        {
          "output_type": "stream",
          "text": [
            "done even full test plan load fails\n",
            "Tag: Test\n"
          ],
          "name": "stdout"
        }
      ]
    },
    {
      "cell_type": "code",
      "metadata": {
        "id": "9O3yRA4JwvOT"
      },
      "source": [
        "X = df.commenttext\n",
        "y = df.label\n",
        "              \n",
        "X_train, X_test, y_train, y_test = train_test_split(X, y, test_size=0.2, random_state =42)\n",
        "\n",
        "# df= pd.concat([X_train, y_train],axis=1)\n",
        "# df=pd.DataFrame(df, columns = ['commenttext','label'])\n",
        "\n",
        "# print(len(df))\n",
        "# df_majority = df[df.label=='Design']\n",
        "# df_minority1 = df[df.label=='Requirement']\n",
        "# df_minority2 = df[df.label=='Test']\n",
        "# df_minority3 = df[df.label=='Defect']\n",
        "# df_minority4 = df[df.label=='Documentation']\n",
        "\n",
        "# print(\"Count:\")\n",
        "# print(len(df_majority) , len(df_minority1) , len(df_minority2), len(df_minority3), len(df_minority4))\n",
        "\n",
        "# df_minority1_upsampled = resample(df_minority1, \n",
        "#                                  replace=True,     # sample with replacement\n",
        "#                                  n_samples=2250 ,  # to match majority class\n",
        "#                                  random_state=123) # reproducible results\n",
        "\n",
        "# df_minority2_upsampled = resample(df_minority2, \n",
        "#                                  replace=True,     # sample with replacement\n",
        "#                                  n_samples=2250,    # to match majority class\n",
        "#                                  random_state=123) # reproducible results\n",
        "\n",
        "# df_minority3_upsampled = resample(df_minority3, \n",
        "#                                  replace=True,     # sample with replacement\n",
        "#                                  n_samples=2250,    # to match majority class\n",
        "#                                  random_state=123) # reproducible results\n",
        "\n",
        "# df_minority4_upsampled = resample(df_minority4, \n",
        "#                                  replace=True,     # sample with replacement\n",
        "#                                  n_samples=2250,    # to match majority class\n",
        "#                                  random_state=123) # reproducible results                              \n",
        "                                 \n",
        "\n",
        "# df = pd.concat([df_majority, df_minority1_upsampled, df_minority2_upsampled, df_minority3_upsampled, df_minority4_upsampled])\n",
        "\n",
        "# X = df.commenttext\n",
        "# y = df.label\n",
        "\n",
        "# X_train, X_test_skip, y_train, y_test_skip = train_test_split(X, y, test_size=0.3, random_state = 42)\n",
        "\n",
        "\n",
        "\n"
      ],
      "execution_count": 6,
      "outputs": []
    },
    {
      "cell_type": "code",
      "metadata": {
        "colab": {
          "base_uri": "https://localhost:8080/",
          "height": 332
        },
        "id": "QDJ2-RlaumOK",
        "outputId": "9c94d719-5099-4ac0-a062-698f915d9b99"
      },
      "source": [
        "my_tags = ['DESIGN','IMPLEMENTATION','DEFECT','TEST','DOCUMENTATION']\n",
        "plt.figure(figsize=(10,4))\n",
        "df.label.value_counts().plot(kind='bar');"
      ],
      "execution_count": 7,
      "outputs": [
        {
          "output_type": "display_data",
          "data": {
            "image/png": "[encoded data removed]",
            "text/plain": [
              "<Figure size 720x288 with 1 Axes>"
            ]
          },
          "metadata": {
            "tags": [],
            "needs_background": "light"
          }
        }
      ]
    },
    {
      "cell_type": "markdown",
      "metadata": {
        "id": "OY5wwdnKxD69"
      },
      "source": [
        "Naive Bayes Classifier for Multinomial Models"
      ]
    },
    {
      "cell_type": "code",
      "metadata": {
        "id": "YSCt93ALUakl"
      },
      "source": [
        ""
      ],
      "execution_count": 7,
      "outputs": []
    },
    {
      "cell_type": "code",
      "metadata": {
        "id": "vtHpw0khxFKE",
        "colab": {
          "base_uri": "https://localhost:8080/"
        },
        "outputId": "83ff4f57-7e8f-40f0-9915-62a74d0068b4"
      },
      "source": [
        "from sklearn.naive_bayes import MultinomialNB\n",
        "from sklearn.pipeline import Pipeline\n",
        "from sklearn.feature_extraction.text import TfidfTransformer\n",
        "from sklearn.svm import SVC\n",
        "\n",
        "\n",
        "nb = Pipeline([('vect', CountVectorizer()),\n",
        "               ('tfidf', TfidfTransformer()),\n",
        "               ('clf', MultinomialNB()),\n",
        "              ])\n",
        "nb.fit(X_train, y_train)\n",
        "\n",
        "from sklearn.metrics import classification_report\n",
        "y_pred = nb.predict(X_test)\n",
        "\n",
        "print('accuracy %s' % accuracy_score(y_pred, y_test))\n",
        "print(classification_report(y_test, y_pred,target_names=my_tags))\n"
      ],
      "execution_count": 8,
      "outputs": [
        {
          "output_type": "stream",
          "text": [
            "accuracy 0.6553267681289168\n",
            "                precision    recall  f1-score   support\n",
            "\n",
            "        DESIGN       1.00      0.11      0.20       125\n",
            "IMPLEMENTATION       0.64      1.00      0.78       677\n",
            "        DEFECT       0.00      0.00      0.00        18\n",
            "          TEST       0.89      0.16      0.27       217\n",
            " DOCUMENTATION       1.00      0.12      0.22        80\n",
            "\n",
            "      accuracy                           0.66      1117\n",
            "     macro avg       0.71      0.28      0.29      1117\n",
            "  weighted avg       0.74      0.66      0.56      1117\n",
            "\n"
          ],
          "name": "stdout"
        },
        {
          "output_type": "stream",
          "text": [
            "/usr/local/lib/python3.7/dist-packages/sklearn/metrics/_classification.py:1272: UndefinedMetricWarning: Precision and F-score are ill-defined and being set to 0.0 in labels with no predicted samples. Use `zero_division` parameter to control this behavior.\n",
            "  _warn_prf(average, modifier, msg_start, len(result))\n"
          ],
          "name": "stderr"
        }
      ]
    },
    {
      "cell_type": "markdown",
      "metadata": {
        "id": "m0lLaSRny6_s"
      },
      "source": [
        "\n",
        "Linear Support Vector Machine\n",
        "\n"
      ]
    },
    {
      "cell_type": "code",
      "metadata": {
        "id": "lR_EePRqzR4K",
        "colab": {
          "base_uri": "https://localhost:8080/"
        },
        "outputId": "77716690-a232-4565-cf36-93544b7caf36"
      },
      "source": [
        "from sklearn.linear_model import SGDClassifier\n",
        "\n",
        "sgd = Pipeline([('vect', CountVectorizer()),\n",
        "                ('tfidf', TfidfTransformer()),\n",
        "                ('clf', SGDClassifier(loss='hinge', penalty='l2',alpha=1e-3, random_state=42, max_iter=10, tol=None)),\n",
        "               ])\n",
        "sgd.fit(X_train, y_train)\n",
        "\n",
        "\n",
        "\n",
        "y_pred = sgd.predict(X_test)\n",
        "\n",
        "print('accuracy %s' % accuracy_score(y_pred, y_test))\n",
        "print(classification_report(y_test, y_pred,target_names=my_tags))"
      ],
      "execution_count": 9,
      "outputs": [
        {
          "output_type": "stream",
          "text": [
            "accuracy 0.7188898836168308\n",
            "                precision    recall  f1-score   support\n",
            "\n",
            "        DESIGN       0.95      0.16      0.27       125\n",
            "IMPLEMENTATION       0.69      0.98      0.81       677\n",
            "        DEFECT       1.00      0.22      0.36        18\n",
            "          TEST       0.86      0.23      0.36       217\n",
            " DOCUMENTATION       0.83      0.80      0.82        80\n",
            "\n",
            "      accuracy                           0.72      1117\n",
            "     macro avg       0.87      0.48      0.53      1117\n",
            "  weighted avg       0.77      0.72      0.66      1117\n",
            "\n"
          ],
          "name": "stdout"
        }
      ]
    },
    {
      "cell_type": "code",
      "metadata": {
        "colab": {
          "base_uri": "https://localhost:8080/"
        },
        "id": "Qt-aLIknSmja",
        "outputId": "a49dd163-cd96-4381-e296-865ce81e175d"
      },
      "source": [
        "pip install scikit-plot"
      ],
      "execution_count": 10,
      "outputs": [
        {
          "output_type": "stream",
          "text": [
            "Collecting scikit-plot\n",
            "  Downloading https://files.pythonhosted.org/packages/7c/47/32520e259340c140a4ad27c1b97050dd3254fdc517b1d59974d47037510e/scikit_plot-0.3.7-py3-none-any.whl\n",
            "Requirement already satisfied: joblib>=0.10 in /usr/local/lib/python3.7/dist-packages (from scikit-plot) (1.0.1)\n",
            "Requirement already satisfied: scikit-learn>=0.18 in /usr/local/lib/python3.7/dist-packages (from scikit-plot) (0.22.2.post1)\n",
            "Requirement already satisfied: scipy>=0.9 in /usr/local/lib/python3.7/dist-packages (from scikit-plot) (1.4.1)\n",
            "Requirement already satisfied: matplotlib>=1.4.0 in /usr/local/lib/python3.7/dist-packages (from scikit-plot) (3.2.2)\n",
            "Requirement already satisfied: numpy>=1.11.0 in /usr/local/lib/python3.7/dist-packages (from scikit-learn>=0.18->scikit-plot) (1.19.5)\n",
            "Requirement already satisfied: python-dateutil>=2.1 in /usr/local/lib/python3.7/dist-packages (from matplotlib>=1.4.0->scikit-plot) (2.8.1)\n",
            "Requirement already satisfied: pyparsing!=2.0.4,!=2.1.2,!=2.1.6,>=2.0.1 in /usr/local/lib/python3.7/dist-packages (from matplotlib>=1.4.0->scikit-plot) (2.4.7)\n",
            "Requirement already satisfied: kiwisolver>=1.0.1 in /usr/local/lib/python3.7/dist-packages (from matplotlib>=1.4.0->scikit-plot) (1.3.1)\n",
            "Requirement already satisfied: cycler>=0.10 in /usr/local/lib/python3.7/dist-packages (from matplotlib>=1.4.0->scikit-plot) (0.10.0)\n",
            "Requirement already satisfied: six>=1.5 in /usr/local/lib/python3.7/dist-packages (from python-dateutil>=2.1->matplotlib>=1.4.0->scikit-plot) (1.15.0)\n",
            "Installing collected packages: scikit-plot\n",
            "Successfully installed scikit-plot-0.3.7\n"
          ],
          "name": "stdout"
        }
      ]
    },
    {
      "cell_type": "code",
      "metadata": {
        "id": "nZhaRPSBVcyb"
      },
      "source": [
        "from sklearn.preprocessing import LabelEncoder\n",
        "le = LabelEncoder()\n",
        "train_y = le.fit_transform(y_train.values)\n",
        "test_y = le.transform(y_test.values)\n",
        "\n"
      ],
      "execution_count": 11,
      "outputs": []
    },
    {
      "cell_type": "code",
      "metadata": {
        "colab": {
          "base_uri": "https://localhost:8080/"
        },
        "id": "NR30h3UF7Tzi",
        "outputId": "985b5b73-2fb0-4ae2-c8da-165bac96e568"
      },
      "source": [
        "from sklearn.linear_model import LogisticRegression\n",
        "\n",
        "logreg = Pipeline([('vect', CountVectorizer()),\n",
        "                ('tfidf', TfidfTransformer()),\n",
        "                ('clf', LogisticRegression(n_jobs=1, C=1e5,max_iter=400)),\n",
        "               ])\n",
        "logreg.fit(X_train, y_train)\n",
        "\n",
        "\n",
        "\n",
        "y_pred = logreg.predict(X_test)\n",
        "\n",
        "print('accuracy %s' % accuracy_score(y_pred, y_test))\n",
        "print(classification_report(y_test, y_pred,target_names=my_tags))"
      ],
      "execution_count": 12,
      "outputs": [
        {
          "output_type": "stream",
          "text": [
            "accuracy 0.7341092211280215\n",
            "                precision    recall  f1-score   support\n",
            "\n",
            "        DESIGN       0.52      0.57      0.54       125\n",
            "IMPLEMENTATION       0.82      0.80      0.81       677\n",
            "        DEFECT       0.81      0.72      0.76        18\n",
            "          TEST       0.56      0.57      0.57       217\n",
            " DOCUMENTATION       0.81      0.86      0.84        80\n",
            "\n",
            "      accuracy                           0.73      1117\n",
            "     macro avg       0.71      0.71      0.70      1117\n",
            "  weighted avg       0.74      0.73      0.74      1117\n",
            "\n"
          ],
          "name": "stdout"
        },
        {
          "output_type": "stream",
          "text": [
            "/usr/local/lib/python3.7/dist-packages/sklearn/linear_model/_logistic.py:940: ConvergenceWarning: lbfgs failed to converge (status=1):\n",
            "STOP: TOTAL NO. of ITERATIONS REACHED LIMIT.\n",
            "\n",
            "Increase the number of iterations (max_iter) or scale the data as shown in:\n",
            "    https://scikit-learn.org/stable/modules/preprocessing.html\n",
            "Please also refer to the documentation for alternative solver options:\n",
            "    https://scikit-learn.org/stable/modules/linear_model.html#logistic-regression\n",
            "  extra_warning_msg=_LOGISTIC_SOLVER_CONVERGENCE_MSG)\n"
          ],
          "name": "stderr"
        }
      ]
    },
    {
      "cell_type": "code",
      "metadata": {
        "colab": {
          "base_uri": "https://localhost:8080/"
        },
        "id": "BnwV2CxL8jIR",
        "outputId": "0124664d-1dcf-4313-bec1-0a1b7710cb63"
      },
      "source": [
        "from sklearn.feature_selection import SelectKBest, chi2\n",
        "from sklearn.ensemble import RandomForestClassifier\n",
        "import matplotlib.pyplot as plt\n",
        "import sklearn.metrics as metrics\n",
        "\n",
        "\n",
        "rf=Pipeline([('vect', CountVectorizer()),\n",
        "                ('tfidf', TfidfTransformer()),\n",
        "                ('clf',RandomForestClassifier()),\n",
        "               ])\n",
        "model=rf.fit(X_train, y_train)\n",
        "\n",
        "ytest = np.array(y_test)\n",
        "y_pred = rf.predict(X_test)\n",
        "\n",
        "print('accuracy %s' % accuracy_score(y_pred, y_test))\n",
        "\n",
        "# confusion matrix and classification report(precision, recall, F1-score)\n",
        "print(classification_report(ytest, model.predict(X_test)))\n",
        "print(confusion_matrix(ytest, model.predict(X_test)))\n",
        "\n",
        "\n",
        "\n",
        "data=pd.DataFrame()\n",
        "data[\"A\"]=X_test\n",
        "data[\"b\"]=y_test\n",
        "data[\"pred\"]=y_pred\n",
        "\n",
        "#data.to_csv(\"/content/drive/MyDrive/Colab Notebooks/Data/test.csv\")\n",
        "print(data)"
      ],
      "execution_count": 13,
      "outputs": [
        {
          "output_type": "stream",
          "text": [
            "accuracy 0.7824529991047449\n",
            "               precision    recall  f1-score   support\n",
            "\n",
            "       Defect       0.86      0.39      0.54       125\n",
            "       Design       0.80      0.92      0.85       677\n",
            "Documentation       0.76      0.72      0.74        18\n",
            "  Requirement       0.69      0.56      0.62       217\n",
            "         Test       0.80      0.85      0.82        80\n",
            "\n",
            "     accuracy                           0.78      1117\n",
            "    macro avg       0.78      0.69      0.72      1117\n",
            " weighted avg       0.78      0.78      0.77      1117\n",
            "\n",
            "[[ 49  57   1  11   7]\n",
            " [  4 622   0  43   8]\n",
            " [  0   5  13   0   0]\n",
            " [  2  89   2 122   2]\n",
            " [  2   9   1   0  68]]\n",
            "                                                      A  ...         pred\n",
            "3835  always add plugins good way compare plugin zip...  ...       Design\n",
            "1033  create empty initialized instance uml permissi...  ...       Design\n",
            "79                 become single empty argument pr 5906  ...       Design\n",
            "167                             milliseconds properties  ...  Requirement\n",
            "453                    lower case ok use default locale  ...       Design\n",
            "...                                                 ...  ...          ...\n",
            "401                        depending kind error handler  ...       Design\n",
            "2952                                 getname ok test 11  ...         Test\n",
            "1564                                        check types  ...       Design\n",
            "2145  dms better job specific exceptions use chained...  ...       Design\n",
            "1351             unused class index unused method index  ...       Design\n",
            "\n",
            "[1117 rows x 3 columns]\n"
          ],
          "name": "stdout"
        }
      ]
    },
    {
      "cell_type": "code",
      "metadata": {
        "colab": {
          "base_uri": "https://localhost:8080/"
        },
        "id": "ltVHWGN_W-CE",
        "outputId": "2fa0d78b-f1a7-4af9-c206-c2e3d5bbd6b0"
      },
      "source": [
        "from sklearn.neighbors import KNeighborsClassifier\n",
        "\n",
        "\n",
        "\n",
        "text_clf = Pipeline([('vect', CountVectorizer()),\n",
        "                ('tfidf', TfidfTransformer()),\n",
        "                ('clf', KNeighborsClassifier()),\n",
        "               ])\n",
        "text_clf.fit(X_train, y_train)\n",
        "\n",
        "y_pred = text_clf.predict(X_test)\n",
        "\n",
        "print('accuracy %s' % accuracy_score(y_pred, y_test))\n",
        "print(classification_report(y_test, y_pred,target_names=my_tags))"
      ],
      "execution_count": 14,
      "outputs": [
        {
          "output_type": "stream",
          "text": [
            "accuracy 0.5953446732318711\n",
            "                precision    recall  f1-score   support\n",
            "\n",
            "        DESIGN       0.61      0.30      0.40       125\n",
            "IMPLEMENTATION       0.78      0.67      0.72       677\n",
            "        DEFECT       0.62      0.56      0.59        18\n",
            "          TEST       0.35      0.72      0.47       217\n",
            " DOCUMENTATION       1.00      0.09      0.16        80\n",
            "\n",
            "      accuracy                           0.60      1117\n",
            "     macro avg       0.67      0.47      0.47      1117\n",
            "  weighted avg       0.69      0.60      0.59      1117\n",
            "\n"
          ],
          "name": "stdout"
        }
      ]
    },
    {
      "cell_type": "code",
      "metadata": {
        "colab": {
          "base_uri": "https://localhost:8080/"
        },
        "id": "bcx1FmpzYgi0",
        "outputId": "0c9cf703-9250-4dbf-a245-9fb3f8c9e410"
      },
      "source": [
        "from sklearn.neighbors import KNeighborsClassifier\n",
        "\n",
        "\n",
        "\n",
        "text_clf = Pipeline([('vect', CountVectorizer()),\n",
        "                ('tfidf', TfidfTransformer()),\n",
        "                ('clf', KNeighborsClassifier()),\n",
        "               ])\n",
        "text_clf.fit(X_train, y_train)\n",
        "\n",
        "y_pred = text_clf.predict(X_test)\n",
        "\n",
        "print('accuracy %s' % accuracy_score(y_pred, y_test))\n",
        "print(classification_report(y_test, y_pred,target_names=my_tags))"
      ],
      "execution_count": 15,
      "outputs": [
        {
          "output_type": "stream",
          "text": [
            "accuracy 0.5953446732318711\n",
            "                precision    recall  f1-score   support\n",
            "\n",
            "        DESIGN       0.61      0.30      0.40       125\n",
            "IMPLEMENTATION       0.78      0.67      0.72       677\n",
            "        DEFECT       0.62      0.56      0.59        18\n",
            "          TEST       0.35      0.72      0.47       217\n",
            " DOCUMENTATION       1.00      0.09      0.16        80\n",
            "\n",
            "      accuracy                           0.60      1117\n",
            "     macro avg       0.67      0.47      0.47      1117\n",
            "  weighted avg       0.69      0.60      0.59      1117\n",
            "\n"
          ],
          "name": "stdout"
        }
      ]
    },
    {
      "cell_type": "code",
      "metadata": {
        "colab": {
          "base_uri": "https://localhost:8080/"
        },
        "id": "mQsQw4K7Ynvj",
        "outputId": "18633bf0-ce5f-4a43-8a51-057d0699a1df"
      },
      "source": [
        "from sklearn.tree import DecisionTreeClassifier\n",
        "\n",
        "dt = Pipeline([('vect', CountVectorizer()),\n",
        "                ('tfidf', TfidfTransformer()),\n",
        "                ('clf', DecisionTreeClassifier()),\n",
        "               ])\n",
        "dt.fit(X_train, y_train)\n",
        "\n",
        "y_pred = dt.predict(X_test)\n",
        "\n",
        "print('accuracy %s' % accuracy_score(y_pred, y_test))\n",
        "print(classification_report(y_test, y_pred,target_names=my_tags))"
      ],
      "execution_count": 16,
      "outputs": [
        {
          "output_type": "stream",
          "text": [
            "accuracy 0.7287376902417189\n",
            "                precision    recall  f1-score   support\n",
            "\n",
            "        DESIGN       0.52      0.58      0.55       125\n",
            "IMPLEMENTATION       0.83      0.78      0.81       677\n",
            "        DEFECT       0.74      0.78      0.76        18\n",
            "          TEST       0.55      0.59      0.57       217\n",
            " DOCUMENTATION       0.78      0.86      0.82        80\n",
            "\n",
            "      accuracy                           0.73      1117\n",
            "     macro avg       0.68      0.72      0.70      1117\n",
            "  weighted avg       0.74      0.73      0.73      1117\n",
            "\n"
          ],
          "name": "stdout"
        }
      ]
    },
    {
      "cell_type": "code",
      "metadata": {
        "colab": {
          "base_uri": "https://localhost:8080/"
        },
        "id": "95eP6xHCY4z7",
        "outputId": "74d8d219-8a76-4dbe-bc80-286c680ac10e"
      },
      "source": [
        "from sklearn.svm import SVC,LinearSVC,LinearSVR\n",
        "\n",
        "svc = Pipeline([('vect', CountVectorizer()),\n",
        "                ('tfidf', TfidfTransformer()),\n",
        "                ('clf', SVC()),\n",
        "               ])\n",
        "svc.fit(X_train, y_train)\n",
        "\n",
        "y_pred = svc.predict(X_test)\n",
        "\n",
        "print('accuracy %s' % accuracy_score(y_pred, y_test))\n",
        "print(classification_report(y_test, y_pred,target_names=my_tags))\n"
      ],
      "execution_count": 17,
      "outputs": [
        {
          "output_type": "stream",
          "text": [
            "accuracy 0.7636526410026858\n",
            "                precision    recall  f1-score   support\n",
            "\n",
            "        DESIGN       0.83      0.32      0.46       125\n",
            "IMPLEMENTATION       0.74      0.98      0.84       677\n",
            "        DEFECT       0.89      0.44      0.59        18\n",
            "          TEST       0.87      0.38      0.53       217\n",
            " DOCUMENTATION       0.86      0.78      0.82        80\n",
            "\n",
            "      accuracy                           0.76      1117\n",
            "     macro avg       0.84      0.58      0.65      1117\n",
            "  weighted avg       0.79      0.76      0.73      1117\n",
            "\n"
          ],
          "name": "stdout"
        }
      ]
    },
    {
      "cell_type": "code",
      "metadata": {
        "colab": {
          "base_uri": "https://localhost:8080/"
        },
        "id": "L-iryoTsZSm6",
        "outputId": "4d1c0b6c-b919-4283-f185-89e6c261097e"
      },
      "source": [
        "linearSVC = Pipeline([('vect', CountVectorizer()),\n",
        "                ('tfidf', TfidfTransformer()),\n",
        "                ('clf', LinearSVC()),\n",
        "               ])\n",
        "linearSVC.fit(X_train, y_train)\n",
        "\n",
        "y_pred = linearSVC.predict(X_test)\n",
        "\n",
        "print('accuracy %s' % accuracy_score(y_pred, y_test))\n",
        "print(classification_report(y_test, y_pred,target_names=my_tags))"
      ],
      "execution_count": 18,
      "outputs": [
        {
          "output_type": "stream",
          "text": [
            "accuracy 0.7681289167412713\n",
            "                precision    recall  f1-score   support\n",
            "\n",
            "        DESIGN       0.67      0.50      0.57       125\n",
            "IMPLEMENTATION       0.81      0.88      0.84       677\n",
            "        DEFECT       0.87      0.72      0.79        18\n",
            "          TEST       0.63      0.54      0.58       217\n",
            " DOCUMENTATION       0.83      0.89      0.86        80\n",
            "\n",
            "      accuracy                           0.77      1117\n",
            "     macro avg       0.76      0.71      0.73      1117\n",
            "  weighted avg       0.76      0.77      0.76      1117\n",
            "\n"
          ],
          "name": "stdout"
        }
      ]
    },
    {
      "cell_type": "code",
      "metadata": {
        "colab": {
          "base_uri": "https://localhost:8080/"
        },
        "id": "VAuZqyzedLdz",
        "outputId": "fdccf8ef-dd80-4e3f-8712-1f8e239d387f"
      },
      "source": [
        "from sklearn.linear_model import SGDClassifier\n",
        "\n",
        "SGD = Pipeline([('vect', CountVectorizer()),\n",
        "                ('tfidf', TfidfTransformer()),\n",
        "                ('clf', SGDClassifier()),\n",
        "               ])\n",
        "SGD.fit(X_train, y_train)\n",
        "\n",
        "y_pred = SGD.predict(X_test)\n",
        "\n",
        "print('accuracy %s' % accuracy_score(y_pred, y_test))\n",
        "print(classification_report(y_test, y_pred,target_names=my_tags))"
      ],
      "execution_count": 19,
      "outputs": [
        {
          "output_type": "stream",
          "text": [
            "accuracy 0.7699194270367055\n",
            "                precision    recall  f1-score   support\n",
            "\n",
            "        DESIGN       0.59      0.51      0.55       125\n",
            "IMPLEMENTATION       0.81      0.88      0.84       677\n",
            "        DEFECT       0.87      0.72      0.79        18\n",
            "          TEST       0.69      0.54      0.61       217\n",
            " DOCUMENTATION       0.82      0.89      0.85        80\n",
            "\n",
            "      accuracy                           0.77      1117\n",
            "     macro avg       0.75      0.71      0.73      1117\n",
            "  weighted avg       0.76      0.77      0.76      1117\n",
            "\n"
          ],
          "name": "stdout"
        }
      ]
    }
  ]
}