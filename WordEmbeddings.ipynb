{
  "nbformat": 4,
  "nbformat_minor": 0,
  "metadata": {
    "accelerator": "GPU",
    "colab": {
      "name": "WordEmbeddings.ipynb",
      "provenance": [],
      "collapsed_sections": [],
      "include_colab_link": true
    },
    "kernelspec": {
      "display_name": "Python 3",
      "name": "python3"
    }
  },
  "cells": [
    {
      "cell_type": "markdown",
      "metadata": {
        "id": "view-in-github",
        "colab_type": "text"
      },
      "source": [
        "<a href=\"https://colab.research.google.com/github/asabbah44/Text_Classification/blob/main/WordEmbeddings.ipynb\" target=\"_parent\"><img src=\"https://colab.research.google.com/assets/colab-badge.svg\" alt=\"Open In Colab\"/></a>"
      ]
    },
    {
      "cell_type": "markdown",
      "metadata": {
        "id": "er_Yl3KKPzEa"
      },
      "source": [
        "https://stackabuse.com/python-for-nlp-movie-sentiment-analysis-using-deep-learning-in-keras/"
      ]
    },
    {
      "cell_type": "code",
      "metadata": {
        "colab": {
          "base_uri": "https://localhost:8080/"
        },
        "id": "EK9BZOjcpxDA",
        "outputId": "7d0150ab-e2ab-45db-9790-021170352990"
      },
      "source": [
        "import pandas as pd\n",
        "import numpy as np\n",
        "import re\n",
        "import nltk\n",
        "from nltk.corpus import stopwords\n",
        "from nltk.corpus import stopwords\n",
        "nltk.download('stopwords')\n",
        "import re\n",
        "from bs4 import BeautifulSoup\n",
        "from numpy import array\n",
        "from keras.preprocessing.text import one_hot\n",
        "from keras.preprocessing.sequence import pad_sequences\n",
        "from keras.models import Sequential\n",
        "from keras.layers.core import Activation, Dropout, Dense\n",
        "from keras.layers import Flatten\n",
        "from keras.layers import GlobalMaxPooling1D\n",
        "from keras.layers.embeddings import Embedding\n",
        "from sklearn.model_selection import train_test_split\n",
        "from keras.preprocessing.text import Tokenizer"
      ],
      "execution_count": null,
      "outputs": [
        {
          "output_type": "stream",
          "text": [
            "[nltk_data] Downloading package stopwords to /root/nltk_data...\n",
            "[nltk_data]   Unzipping corpora/stopwords.zip.\n"
          ],
          "name": "stdout"
        }
      ]
    },
    {
      "cell_type": "code",
      "metadata": {
        "id": "IQrfHQMNSCqJ",
        "colab": {
          "base_uri": "https://localhost:8080/"
        },
        "outputId": "c7a1f7fc-4bc0-4015-ebe3-033559e48861"
      },
      "source": [
        "from google.colab import drive\n",
        "drive.mount('/content/drive')"
      ],
      "execution_count": null,
      "outputs": [
        {
          "output_type": "stream",
          "text": [
            "Mounted at /content/drive\n"
          ],
          "name": "stdout"
        }
      ]
    },
    {
      "cell_type": "code",
      "metadata": {
        "id": "RB_97ZDSp8uu"
      },
      "source": [
        "df1 = pd.read_csv('/content/drive/MyDrive/Colab Notebooks/Data/dataset.csv')\n",
        "df2 = pd.read_csv('/content/drive/MyDrive/Colab Notebooks/Data/mydatasetfinal.csv')\n",
        "\n",
        "\n",
        "df1 = pd.DataFrame(df1, columns = ['commenttext','label'])\n",
        "df2 = pd.DataFrame(df2, columns = ['commenttext','label'])\n",
        "\n",
        "# df2_skip_req=df2[df2.label=='Requirement']\n",
        "\n",
        "# df2=df2.drop(df2_skip_req.index)\n",
        "\n",
        "df=pd.concat([df1,df2])\n",
        "df_skip_req=df[df.label=='Requirement']\n",
        "df=df.drop(df_skip_req.index)\n",
        "#df=pd.concat([df1,df2])\n",
        "\n",
        "# df=df.dropna()"
      ],
      "execution_count": null,
      "outputs": []
    },
    {
      "cell_type": "code",
      "metadata": {
        "id": "J9PCNgOU7KZS",
        "colab": {
          "base_uri": "https://localhost:8080/",
          "height": 297
        },
        "outputId": "36a8309a-5fa9-4e45-821b-ed1f40265e38"
      },
      "source": [
        "import seaborn as sns\n",
        "\n",
        "sns.countplot(x='label', data=df)"
      ],
      "execution_count": null,
      "outputs": [
        {
          "output_type": "execute_result",
          "data": {
            "text/plain": [
              "<matplotlib.axes._subplots.AxesSubplot at 0x7f2221d6fbd0>"
            ]
          },
          "metadata": {
            "tags": []
          },
          "execution_count": 4
        },
        {
          "output_type": "display_data",
          "data": {
            "image/png": "[encoded data removed]",
            "text/plain": [
              "<Figure size 432x288 with 1 Axes>"
            ]
          },
          "metadata": {
            "tags": [],
            "needs_background": "light"
          }
        }
      ]
    },
    {
      "cell_type": "code",
      "metadata": {
        "id": "ko6MPNT_rCYi"
      },
      "source": [
        "REPLACE_BY_SPACE_RE = re.compile('[/(){}\\[\\]\\|@,;]')\n",
        "BAD_SYMBOLS_RE = re.compile('[^0-9a-z #+_]')\n",
        "STOPWORDS = set(stopwords.words('english'))\n",
        "\n",
        "def clean_text(text):\n",
        "    # \"\"\"\n",
        "    #     text: a string\n",
        "        \n",
        "    #     return: modified initial string\n",
        "    # \"\"\"\n",
        "    text = BeautifulSoup(text, \"lxml\").text # HTML decoding\n",
        "    text = text.lower() # lowercase text\n",
        "    text = REPLACE_BY_SPACE_RE.sub(' ', text) # replace REPLACE_BY_SPACE_RE symbols by space in text\n",
        "    text = BAD_SYMBOLS_RE.sub('', text) # delete symbols which are in BAD_SYMBOLS_RE from text\n",
        "    text = ' '.join(word for word in text.split() if word not in STOPWORDS) # delete stopwors from text\n",
        "\n",
        "    Cust_words = []\n",
        "    stop = set(stopwords.words('english'))\n",
        "    for word in  Cust_words:\n",
        "        STOPWORDS.add(word)\n",
        "    text = ' '.join(word for word in text.split() if word not in stop)\n",
        "\n",
        "    return text\n",
        "    \n",
        "df['commenttext'] = df['commenttext'].apply(clean_text)\n",
        "df1['commenttext'] = df1['commenttext'].apply(clean_text)\n",
        "df2['commenttext'] = df2['commenttext'].apply(clean_text)\n"
      ],
      "execution_count": null,
      "outputs": []
    },
    {
      "cell_type": "code",
      "metadata": {
        "id": "UqPfJqvs8dW5"
      },
      "source": [
        "def preprocess_text(sen):\n",
        "    # Removing html tags\n",
        "    sentence = sen\n",
        "    \n",
        "\n",
        "    # Remove punctuations and numbers\n",
        "    sentence = re.sub('[^a-zA-Z]', ' ', sentence)\n",
        "\n",
        "    # Single character removal\n",
        "    sentence = re.sub(r\"\\s+[a-zA-Z]\\s+\", ' ', sentence)\n",
        "\n",
        "    # Removing multiple spaces\n",
        "    sentence = re.sub(r'\\s+', ' ', sentence)\n",
        "\n",
        "    return sentence"
      ],
      "execution_count": null,
      "outputs": []
    },
    {
      "cell_type": "code",
      "metadata": {
        "id": "jnD-zZpW8cey"
      },
      "source": [
        "# TAG_RE = re.compile(r'<[^>]+>')\n",
        "\n",
        "# def remove_tags(text):\n",
        "#     return TAG_RE.sub('', text)"
      ],
      "execution_count": null,
      "outputs": []
    },
    {
      "cell_type": "code",
      "metadata": {
        "id": "x0aquvzzVHSU",
        "colab": {
          "base_uri": "https://localhost:8080/"
        },
        "outputId": "0075e22a-1776-4121-edc7-efb7b468e5c5"
      },
      "source": [
        "!pip install pyspellchecker\n"
      ],
      "execution_count": null,
      "outputs": [
        {
          "output_type": "stream",
          "text": [
            "Collecting pyspellchecker\n",
            "\u001b[?25l  Downloading https://files.pythonhosted.org/packages/64/c7/435f49c0ac6bec031d1aba4daf94dc21dc08a9db329692cdb77faac51cea/pyspellchecker-0.6.2-py3-none-any.whl (2.7MB)\n",
            "\u001b[K     |████████████████████████████████| 2.7MB 8.4MB/s \n",
            "\u001b[?25hInstalling collected packages: pyspellchecker\n",
            "Successfully installed pyspellchecker-0.6.2\n"
          ],
          "name": "stdout"
        }
      ]
    },
    {
      "cell_type": "code",
      "metadata": {
        "id": "AUFtsYnc8p9R"
      },
      "source": [
        "X = df.commenttext\n",
        "# sentences = list(df['commenttext'])\n",
        "# for sen in sentences:\n",
        "#     c=preprocess_text(sen)\n",
        "#     X.append(c)\n",
        "\n",
        "\n",
        "# df1_design = df1[df1.label=='Requirement']\n",
        "# df1=df1.drop(df1_design.index)\n",
        "# df1_design = df1[df1.label=='Design']\n",
        "# df1=df1.drop(df1_design.index)\n",
        "X1 = df1['commenttext']\n",
        "# sentences1 = list(df1['commenttext'])\n",
        "# for sen in sentences1:\n",
        "#     c=preprocess_text(sen)\n",
        "#     X1.append(c)\n",
        "\n",
        "X2 = df2['commenttext']\n",
        "# sentences2 = list(df2['commenttext'])\n",
        "# for sen in sentences2:\n",
        "#     c=preprocess_text(sen)\n",
        "#     X2.append(c)\n",
        "  "
      ],
      "execution_count": null,
      "outputs": []
    },
    {
      "cell_type": "code",
      "metadata": {
        "id": "YoOWKfVI8yTA",
        "colab": {
          "base_uri": "https://localhost:8080/"
        },
        "outputId": "9d3c33f3-d871-4f13-a7f1-69cafdb41203"
      },
      "source": [
        "import sys\n",
        "sys.path.append('/content/drive/MyDrive/Colab Notebooks')\n",
        "\n",
        "from Utility import preprocess\n",
        "df[\"commenttext\"] = df[\"commenttext\"].apply(lambda x: x.lower())\n",
        "df1[\"commenttext\"] = df1[\"commenttext\"].apply(lambda x: x.lower())\n",
        "df2[\"commenttext\"] = df2[\"commenttext\"].apply(lambda x: x.lower())\n",
        "\n",
        "# # Clean the text\n",
        "df[\"commenttext\"] = df[\"commenttext\"].apply(lambda x:preprocess.clean_text(x))\n",
        "df1[\"commenttext\"] = df1[\"commenttext\"].apply(lambda x:preprocess.clean_text(x))\n",
        "df2[\"commenttext\"] = df2[\"commenttext\"].apply(lambda x:preprocess.clean_text(x))\n",
        "\n",
        "# # Clean numbers\n",
        "df[\"commenttext\"] = df[\"commenttext\"].apply(lambda x:preprocess.clean_numbers(x))\n",
        "df1[\"commenttext\"] = df1[\"commenttext\"].apply(lambda x:preprocess.clean_numbers(x))\n",
        "df2[\"commenttext\"] = df2[\"commenttext\"].apply(lambda x:preprocess.clean_numbers(x))\n",
        "# # Clean Contractions\n",
        "df[\"commenttext\"] = df[\"commenttext\"].apply(lambda x:preprocess.replace_contractions(x))\n",
        " \n",
        "# df[\"commenttext\"] = df[\"commenttext\"].apply(lambda x:preprocess.clean_punc(x))\n",
        "\n",
        "# # lemmatize\n",
        "df[\"commenttext\"] = df[\"commenttext\"].apply(lambda x: preprocess.lemmatize(x))\n",
        "df1[\"commenttext\"] = df1[\"commenttext\"].apply(lambda x: preprocess.lemmatize(x))\n",
        "df2[\"commenttext\"] = df2[\"commenttext\"].apply(lambda x: preprocess.lemmatize(x))\n",
        "# # remove stop word and custome word such as todo\n",
        "# df[\"commenttext\"] = df[\"commenttext\"].apply(lambda x: preprocess.custm_stopwords_remove(x))\n",
        "\n"
      ],
      "execution_count": null,
      "outputs": [
        {
          "output_type": "stream",
          "text": [
            "[nltk_data] Downloading package wordnet to /root/nltk_data...\n",
            "[nltk_data]   Unzipping corpora/wordnet.zip.\n",
            "[nltk_data] Downloading package punkt to /root/nltk_data...\n",
            "[nltk_data]   Unzipping tokenizers/punkt.zip.\n",
            "[nltk_data] Downloading package stopwords to /root/nltk_data...\n",
            "[nltk_data]   Package stopwords is already up-to-date!\n"
          ],
          "name": "stdout"
        }
      ]
    },
    {
      "cell_type": "markdown",
      "metadata": {
        "id": "dnNi59oC9G8p"
      },
      "source": [
        "Label encoder"
      ]
    },
    {
      "cell_type": "code",
      "metadata": {
        "id": "Fz1j9ZCA9dny",
        "colab": {
          "base_uri": "https://localhost:8080/"
        },
        "outputId": "1da8d9cf-70c5-48ad-fb95-1e833fde209a"
      },
      "source": [
        "df.label.unique()"
      ],
      "execution_count": null,
      "outputs": [
        {
          "output_type": "execute_result",
          "data": {
            "text/plain": [
              "array(['Defect', 'Design', 'Test', 'Documentation'], dtype=object)"
            ]
          },
          "metadata": {
            "tags": []
          },
          "execution_count": 11
        }
      ]
    },
    {
      "cell_type": "code",
      "metadata": {
        "id": "yGxlc_om9Eeg"
      },
      "source": [
        "y = df.label\n",
        "\n",
        "y = np.array(list(map(lambda x: 0 if x==\"Requirement\" else 1 if x==\"Design\" else 2 if x==\"Defect\" else 3 if x==\"Test\" else 4, y)))\n",
        "\n",
        "y1 = df1['label']\n",
        "\n",
        "y1 = np.array(list(map(lambda x: 0 if x==\"Requirement\" else 1 if x==\"Design\" else 2 if x==\"Defect\" else 3 if x==\"Test\" else 4, y1)))\n",
        "\n",
        "y2 = df2['label']\n",
        "\n",
        "y2 = np.array(list(map(lambda x: 0 if x==\"Requirement\" else 1 if x==\"Design\" else 2 if x==\"Defect\" else 3 if x==\"Test\" else 4, y2)))\n"
      ],
      "execution_count": null,
      "outputs": []
    },
    {
      "cell_type": "code",
      "metadata": {
        "id": "-9N6BUrbT83w",
        "colab": {
          "base_uri": "https://localhost:8080/"
        },
        "outputId": "6deffad2-d57c-4648-e6b8-5be0c08fe8b6"
      },
      "source": [
        "y"
      ],
      "execution_count": null,
      "outputs": [
        {
          "output_type": "execute_result",
          "data": {
            "text/plain": [
              "array([2, 2, 2, ..., 2, 2, 1])"
            ]
          },
          "metadata": {
            "tags": []
          },
          "execution_count": 13
        }
      ]
    },
    {
      "cell_type": "code",
      "metadata": {
        "id": "9a9Rhgna-SwB"
      },
      "source": [
        " X_train, X_test, y_train, y_test = train_test_split(X, y, test_size=0.20,random_state=42)\n",
        "\n",
        "# X_train1, X_test1, y_train1, y_test1 = train_test_split(X1, y1, test_size=0.1,random_state=42)\n",
        "\n",
        "# X_train2, X_test2, y_train2, y_test2 = train_test_split(X2, y2, test_size=0.1,random_state=42)\n",
        "\n",
        "# X_train=np.append(X_train1,X_train2)\n",
        "# y_train=np.append(y_train1,y_train2)\n",
        "# X_test=np.append(X_test2,X_test1)\n",
        "# y_test=np.append(y_test2,y_test1)\n",
        "\n",
        "\n",
        "\n",
        "# X_train, X_test_skip, y_train, y_test_skip = train_test_split(X, y, test_size=0.2)\n",
        "\n"
      ],
      "execution_count": null,
      "outputs": []
    },
    {
      "cell_type": "code",
      "metadata": {
        "id": "jygmBRMWnvTL"
      },
      "source": [
        "# from sklearn.preprocessing import LabelEncoder\n",
        "# le = LabelEncoder()\n",
        "# y_train = le.fit_transform(y_train.values)\n",
        "# y_test = le.transform(y_test.values)"
      ],
      "execution_count": null,
      "outputs": []
    },
    {
      "cell_type": "code",
      "metadata": {
        "id": "P350lT9b_FJ5",
        "colab": {
          "base_uri": "https://localhost:8080/"
        },
        "outputId": "b8de4fc1-18ac-4326-9b19-0e28b0420144"
      },
      "source": [
        "from nltk.tokenize import word_tokenize\n",
        "import nltk\n",
        "nltk.download('punkt')\n",
        "all_words = []\n",
        "for sent in X:\n",
        "    tokenize_word = word_tokenize(sent)\n",
        "    for word in tokenize_word:\n",
        "        all_words.append(word)"
      ],
      "execution_count": null,
      "outputs": [
        {
          "output_type": "stream",
          "text": [
            "[nltk_data] Downloading package punkt to /root/nltk_data...\n",
            "[nltk_data]   Package punkt is already up-to-date!\n"
          ],
          "name": "stdout"
        }
      ]
    },
    {
      "cell_type": "code",
      "metadata": {
        "id": "YxMvr4QF--rI",
        "colab": {
          "base_uri": "https://localhost:8080/"
        },
        "outputId": "834c255c-a068-4f4d-85b8-0dde27621085"
      },
      "source": [
        "unique_words = set(all_words)\n",
        "\n",
        "No_Of_Words=(len(unique_words))\n",
        "print(len(all_words))"
      ],
      "execution_count": null,
      "outputs": [
        {
          "output_type": "stream",
          "text": [
            "50089\n"
          ],
          "name": "stdout"
        }
      ]
    },
    {
      "cell_type": "code",
      "metadata": {
        "colab": {
          "base_uri": "https://localhost:8080/"
        },
        "id": "I1XUHUkkeUIP",
        "outputId": "a563eacc-0f15-4e4c-8d41-fb31644d1b71"
      },
      "source": [
        "No_Of_Words"
      ],
      "execution_count": null,
      "outputs": [
        {
          "output_type": "execute_result",
          "data": {
            "text/plain": [
              "7079"
            ]
          },
          "metadata": {
            "tags": []
          },
          "execution_count": 18
        }
      ]
    },
    {
      "cell_type": "code",
      "metadata": {
        "id": "WUFz77DP_d-I"
      },
      "source": [
        "tokenizer = Tokenizer(num_words=No_Of_Words)\n",
        "tokenizer.fit_on_texts(X_train)\n",
        "\n",
        "X_train = tokenizer.texts_to_sequences(X_train)\n",
        "X_test = tokenizer.texts_to_sequences(X_test)"
      ],
      "execution_count": null,
      "outputs": []
    },
    {
      "cell_type": "code",
      "metadata": {
        "id": "hFYKd7WpSeDx",
        "colab": {
          "base_uri": "https://localhost:8080/"
        },
        "outputId": "bcf170de-fcd1-437e-f33e-6340e60738f7"
      },
      "source": [
        "word_count = lambda sentence: len(word_tokenize(sentence))\n",
        "longest_sentence = max(df.commenttext, key=word_count)\n",
        "length_long_sentence = len(word_tokenize(longest_sentence))\n",
        "print(length_long_sentence)"
      ],
      "execution_count": null,
      "outputs": [
        {
          "output_type": "stream",
          "text": [
            "470\n"
          ],
          "name": "stdout"
        }
      ]
    },
    {
      "cell_type": "code",
      "metadata": {
        "id": "OEHJPaDxpTl-"
      },
      "source": [
        "length_long_sentence=150"
      ],
      "execution_count": null,
      "outputs": []
    },
    {
      "cell_type": "code",
      "metadata": {
        "id": "kbq61MHtILNJ"
      },
      "source": [
        "MaxWordsLen=length_long_sentence"
      ],
      "execution_count": null,
      "outputs": []
    },
    {
      "cell_type": "code",
      "metadata": {
        "id": "NHN23zFvASho"
      },
      "source": [
        "vocab_size = len(tokenizer.word_index) + 1\n",
        "\n",
        "# max number of words in sentencecs\n",
        "maxlen = MaxWordsLen\n",
        "\n",
        "X_train = pad_sequences(X_train, padding='post', maxlen=maxlen)\n",
        "X_test = pad_sequences(X_test, padding='post', maxlen=maxlen)\n",
        "\n"
      ],
      "execution_count": null,
      "outputs": []
    },
    {
      "cell_type": "code",
      "metadata": {
        "id": "Hb4rDZ06DijK",
        "colab": {
          "base_uri": "https://localhost:8080/"
        },
        "outputId": "66b1c0c2-c3b0-42b9-d122-70372e237949"
      },
      "source": [
        "vocab_size "
      ],
      "execution_count": null,
      "outputs": [
        {
          "output_type": "execute_result",
          "data": {
            "text/plain": [
              "6177"
            ]
          },
          "metadata": {
            "tags": []
          },
          "execution_count": 24
        }
      ]
    },
    {
      "cell_type": "markdown",
      "metadata": {
        "id": "kztbnrwKWk3I"
      },
      "source": [
        "Chose which model to use"
      ]
    },
    {
      "cell_type": "code",
      "metadata": {
        "id": "45jtcOnBWpy4"
      },
      "source": [
        "# 1- Glove , 2- W2v , 3- SEW2v (200 Dim),   4- Fasttext\n",
        "model_type=  2\n",
        "EMBEDDING_DIM=300"
      ],
      "execution_count": null,
      "outputs": []
    },
    {
      "cell_type": "code",
      "metadata": {
        "id": "WyspvKaiEhR5"
      },
      "source": [
        "from numpy import array\n",
        "from numpy import asarray\n",
        "from numpy import zeros\n",
        "import gensim\n",
        "from gensim import corpora, models, similarities\n",
        "\n",
        "embeddings_dictionary = dict()\n",
        "if(model_type==1) :\n",
        "\n",
        " glove_file = open('/content/drive/MyDrive/Colab Notebooks/glove.840B.300d.txt', encoding=\"utf8\")\n",
        "\n",
        " for line in glove_file:\n",
        "    records = line.split(\" \")\n",
        "    word = records[0]\n",
        "    vector_dimensions = asarray(records[1:], dtype='float32')\n",
        "    embeddings_dictionary [word] = vector_dimensions\n",
        " glove_file.close()\n",
        "\n",
        "elif (model_type==2):\n",
        " w2v_model = gensim.models.KeyedVectors.load_word2vec_format('/content/drive/MyDrive/Colab Notebooks/GoogleNews-vectors-negative300.bin.gz', binary=True)\n",
        " word_vectors = w2v_model\n",
        " word_index = tokenizer.word_index\n",
        " for word, i in word_index.items():\n",
        "    if i>=No_Of_Words:\n",
        "        continue\n",
        "    try:\n",
        "        embedding_vector = word_vectors[word]\n",
        "        embeddings_dictionary[word] = embedding_vector\n",
        "    except KeyError:\n",
        "      continue\n",
        "      #  embeddings_dictionary[i]=np.random.normal(0,np.sqrt(0.25),EMBEDDING_DIM)\n",
        "\n",
        " del(word_vectors)\n",
        "\n",
        "elif (model_type==3):\n",
        " w2v_model = gensim.models.KeyedVectors.load_word2vec_format('/content/drive/MyDrive/Colab Notebooks/SO_vectors_200.bin', binary=True)\n",
        " word_vectors = w2v_model\n",
        " word_index = tokenizer.word_index\n",
        " for word, i in word_index.items():\n",
        "    if i>=No_Of_Words:\n",
        "        continue\n",
        "    try:\n",
        "        embedding_vector = word_vectors[word]\n",
        "        embeddings_dictionary[word] = embedding_vector\n",
        "    except KeyError:\n",
        "      continue\n",
        "      #  embeddings_dictionary[i]=np.random.normal(0,np.sqrt(0.25),EMBEDDING_DIM)\n",
        "\n",
        " del(word_vectors)\n",
        "\n",
        "elif (model_type==4):\n",
        "       !pip install tqdm\n",
        "       from gensim.models.wrappers import FastText\n",
        "       from tqdm import tqdm\n",
        "       print('loading FastText word embeddings...')\n",
        "       embeddings_index = {}\n",
        "       f = open('/content/drive/MyDrive/Colab Notebooks/crawl-300d-2M.vec',encoding='utf-8')\n",
        "       for line in tqdm(f):\n",
        "        values = line.strip().rsplit(' ')\n",
        "        word = values[0]\n",
        "        vector_dimensions = np.asarray(values[1:], dtype='float32')\n",
        "        embeddings_dictionary[word] = vector_dimensions\n",
        "       f.close()\n",
        "else:\n",
        "   print(\"No Model\")"
      ],
      "execution_count": null,
      "outputs": []
    },
    {
      "cell_type": "markdown",
      "metadata": {
        "id": "FWXN8L_Vlwyp"
      },
      "source": [
        ""
      ]
    },
    {
      "cell_type": "code",
      "metadata": {
        "id": "nqdMQpKnIHrh"
      },
      "source": [
        "WordsNotInclude=[]\n",
        "embedding_matrix = zeros((vocab_size,  EMBEDDING_DIM))\n",
        "for word, index in tokenizer.word_index.items():\n",
        "    embedding_vector = embeddings_dictionary.get(word)\n",
        "    if embedding_vector is not None:\n",
        "        embedding_matrix[index] = embedding_vector\n",
        "    else : WordsNotInclude.append(word)"
      ],
      "execution_count": null,
      "outputs": []
    },
    {
      "cell_type": "code",
      "metadata": {
        "id": "ejR1bw7wJv9S",
        "colab": {
          "base_uri": "https://localhost:8080/"
        },
        "outputId": "a6d5cb1c-5820-44cd-e5f5-7bb698dc8988"
      },
      "source": [
        "len(WordsNotInclude)"
      ],
      "execution_count": null,
      "outputs": [
        {
          "output_type": "execute_result",
          "data": {
            "text/plain": [
              "2409"
            ]
          },
          "metadata": {
            "tags": []
          },
          "execution_count": 28
        }
      ]
    },
    {
      "cell_type": "code",
      "metadata": {
        "id": "7J5wvptAUZBP",
        "colab": {
          "base_uri": "https://localhost:8080/"
        },
        "outputId": "009caf4a-fdba-48f0-9551-7f968bcf258c"
      },
      "source": [
        "print(embeddings_dictionary.get(1))"
      ],
      "execution_count": null,
      "outputs": [
        {
          "output_type": "stream",
          "text": [
            "None\n"
          ],
          "name": "stdout"
        }
      ]
    },
    {
      "cell_type": "code",
      "metadata": {
        "id": "tnxNIhvBCi43",
        "colab": {
          "base_uri": "https://localhost:8080/"
        },
        "outputId": "ba335d53-3163-4980-e33e-5891e59af48c"
      },
      "source": [
        "X_train"
      ],
      "execution_count": null,
      "outputs": [
        {
          "output_type": "execute_result",
          "data": {
            "text/plain": [
              "array([[   1,   56,  387, ...,    0,    0,    0],\n",
              "       [  94, 2907,   26, ...,    0,    0,    0],\n",
              "       [ 181,    3, 2910, ...,    0,    0,    0],\n",
              "       ...,\n",
              "       [ 427,    5,  206, ...,    0,    0,    0],\n",
              "       [   1,   73,   20, ...,    0,    0,    0],\n",
              "       [ 288,  576,  291, ...,    0,    0,    0]], dtype=int32)"
            ]
          },
          "metadata": {
            "tags": []
          },
          "execution_count": 30
        }
      ]
    },
    {
      "cell_type": "markdown",
      "metadata": {
        "id": "-PA3luhYaXvB"
      },
      "source": [
        "ANN"
      ]
    },
    {
      "cell_type": "code",
      "metadata": {
        "id": "8Ps42aDeKPsx"
      },
      "source": [
        "# model = Sequential()\n",
        "# embedding_layer = Embedding(vocab_size, EMBEDDING_DIM,weights=[embedding_matrix] , input_length=maxlen , trainable=False)\n",
        "# model.add(embedding_layer)\n",
        "\n",
        "# model.add(Flatten())\n",
        "# model.add(Dense(5, activation='softmax'))"
      ],
      "execution_count": null,
      "outputs": []
    },
    {
      "cell_type": "code",
      "metadata": {
        "id": "9nx9N0-xKhLQ"
      },
      "source": [
        "# model.compile(optimizer='adam', loss='sparse_categorical_crossentropy', metrics=['acc'])\n",
        "\n",
        "# print(model.summary())"
      ],
      "execution_count": null,
      "outputs": []
    },
    {
      "cell_type": "code",
      "metadata": {
        "id": "KRWHpc43KtoR"
      },
      "source": [
        "# history = model.fit(X_train, y_train, batch_size=32, epochs=10, verbose=1, validation_split=0.2)\n"
      ],
      "execution_count": null,
      "outputs": []
    },
    {
      "cell_type": "code",
      "metadata": {
        "id": "jl1hl71yu8Ld"
      },
      "source": [
        "# from sklearn.metrics import classification_report\n",
        "\n",
        "# y_pred = model.predict(X_test, batch_size=128, verbose=1)\n",
        "# y_pred_bool = np.argmax(y_pred, axis=1)\n",
        "\n",
        "# print(classification_report(y_test, y_pred_bool))"
      ],
      "execution_count": null,
      "outputs": []
    },
    {
      "cell_type": "code",
      "metadata": {
        "id": "X8zOScDDK1bq"
      },
      "source": [
        "# score = model.evaluate(X_test, y_test, verbose=1)"
      ],
      "execution_count": null,
      "outputs": []
    },
    {
      "cell_type": "code",
      "metadata": {
        "id": "BCmboyX-LKV5"
      },
      "source": [
        "# print(\"Test Score:\", score[0])\n",
        "# print(\"Test Accuracy:\", score[1])"
      ],
      "execution_count": null,
      "outputs": []
    },
    {
      "cell_type": "code",
      "metadata": {
        "id": "mnFNtA-oLSez"
      },
      "source": [
        "# import matplotlib.pyplot as plt\n",
        "\n",
        "# plt.plot(history.history['acc'])\n",
        "# plt.plot(history.history['val_acc'])\n",
        "\n",
        "# plt.title('model accuracy')\n",
        "# plt.ylabel('accuracy')\n",
        "# plt.xlabel('epoch')\n",
        "# plt.legend(['train','test'], loc = 'upper left')\n",
        "# plt.show()\n",
        "\n",
        "# plt.plot(history.history['loss'])\n",
        "# plt.plot(history.history['val_loss'])\n",
        "\n",
        "# plt.title('model loss')\n",
        "# plt.ylabel('loss')\n",
        "# plt.xlabel('epoch')\n",
        "# plt.legend(['train','test'], loc = 'upper left')\n",
        "# plt.show()"
      ],
      "execution_count": null,
      "outputs": []
    },
    {
      "cell_type": "markdown",
      "metadata": {
        "id": "FjT4SnmBrJ06"
      },
      "source": [
        "Simple CNN"
      ]
    },
    {
      "cell_type": "code",
      "metadata": {
        "id": "Doah6DFpSyKY"
      },
      "source": [
        "from keras import callbacks\n",
        "earlystopping = callbacks.EarlyStopping(monitor =\"val_loss\", \n",
        "                                        mode =\"min\", patience = 5, \n",
        "                                        restore_best_weights = True)"
      ],
      "execution_count": null,
      "outputs": []
    },
    {
      "cell_type": "code",
      "metadata": {
        "id": "V7pS7PiRbH49"
      },
      "source": [
        "from keras.layers import Conv1D, MaxPooling1D, Embedding\n",
        "model = Sequential()\n",
        "\n",
        "embedding_layer = Embedding( vocab_size, EMBEDDING_DIM,weights=[embedding_matrix] ,input_length=maxlen , trainable=False)\n",
        "model.add(embedding_layer)\n",
        "\n",
        "model.add(Conv1D(150, 5, activation='relu'))\n",
        "model.add(GlobalMaxPooling1D())\n",
        "model.add(Dropout(0.2))\n",
        "model.add(Dense(units=5, activation='softmax'))\n",
        "model.compile(optimizer='Adam', loss='sparse_categorical_crossentropy', metrics=['acc'])"
      ],
      "execution_count": null,
      "outputs": []
    },
    {
      "cell_type": "code",
      "metadata": {
        "id": "tgqBPoxWb3dJ",
        "colab": {
          "base_uri": "https://localhost:8080/"
        },
        "outputId": "32842844-7254-4336-ae5b-c23e7ad9cb74"
      },
      "source": [
        "print(model.summary())"
      ],
      "execution_count": null,
      "outputs": [
        {
          "output_type": "stream",
          "text": [
            "Model: \"sequential\"\n",
            "_________________________________________________________________\n",
            "Layer (type)                 Output Shape              Param #   \n",
            "=================================================================\n",
            "embedding (Embedding)        (None, 150, 300)          1853100   \n",
            "_________________________________________________________________\n",
            "conv1d (Conv1D)              (None, 146, 150)          225150    \n",
            "_________________________________________________________________\n",
            "global_max_pooling1d (Global (None, 150)               0         \n",
            "_________________________________________________________________\n",
            "dropout (Dropout)            (None, 150)               0         \n",
            "_________________________________________________________________\n",
            "dense (Dense)                (None, 5)                 755       \n",
            "=================================================================\n",
            "Total params: 2,079,005\n",
            "Trainable params: 225,905\n",
            "Non-trainable params: 1,853,100\n",
            "_________________________________________________________________\n",
            "None\n"
          ],
          "name": "stdout"
        }
      ]
    },
    {
      "cell_type": "code",
      "metadata": {
        "id": "ca2oxXCBb8pJ",
        "colab": {
          "base_uri": "https://localhost:8080/"
        },
        "outputId": "69ff7b03-6750-4758-8473-a5d356157a7a"
      },
      "source": [
        "import time\n",
        "from sklearn.metrics import classification_report\n",
        "for i in range(0,3):\n",
        " history1 = model.fit(X_train, y_train, batch_size=512, epochs=10, verbose=0, validation_split=0.2 ,callbacks=[earlystopping])\n",
        " t0=time.clock()\n",
        " score = model.evaluate(X_test, y_test, verbose=1)\n",
        " print(\" secand %.3f\" % float(time.clock()-t0))\n",
        "\n",
        " t0=time.clock()\n",
        " y_pred = model.predict(X_test, batch_size=512, verbose=1)\n",
        " y_pred_bool = np.argmax(y_pred, axis=1)\n",
        " print(\" secand %.3f\" % float(time.clock()-t0))\n",
        " print(classification_report(y_test, y_pred_bool,digits=3))"
      ],
      "execution_count": null,
      "outputs": [
        {
          "output_type": "stream",
          "text": [
            "26/26 [==============================] - 0s 5ms/step - loss: 0.4948 - acc: 0.8182\n"
          ],
          "name": "stdout"
        },
        {
          "output_type": "stream",
          "text": [
            "/usr/local/lib/python3.7/dist-packages/ipykernel_launcher.py:5: DeprecationWarning: time.clock has been deprecated in Python 3.3 and will be removed from Python 3.8: use time.perf_counter or time.process_time instead\n",
            "  \"\"\"\n"
          ],
          "name": "stderr"
        },
        {
          "output_type": "stream",
          "text": [
            " secand 0.176\n"
          ],
          "name": "stdout"
        },
        {
          "output_type": "stream",
          "text": [
            "/usr/local/lib/python3.7/dist-packages/ipykernel_launcher.py:7: DeprecationWarning: time.clock has been deprecated in Python 3.3 and will be removed from Python 3.8: use time.perf_counter or time.process_time instead\n",
            "  import sys\n",
            "/usr/local/lib/python3.7/dist-packages/ipykernel_launcher.py:9: DeprecationWarning: time.clock has been deprecated in Python 3.3 and will be removed from Python 3.8: use time.perf_counter or time.process_time instead\n",
            "  if __name__ == '__main__':\n"
          ],
          "name": "stderr"
        },
        {
          "output_type": "stream",
          "text": [
            "2/2 [==============================] - 0s 145ms/step\n",
            " secand 0.452\n",
            "              precision    recall  f1-score   support\n",
            "\n",
            "           1      0.816     0.973     0.888       602\n",
            "           2      0.720     0.142     0.237       127\n",
            "           3      0.873     0.849     0.861        73\n",
            "           4      0.000     0.000     0.000        12\n",
            "\n",
            "    accuracy                          0.818       814\n",
            "   macro avg      0.602     0.491     0.496       814\n",
            "weighted avg      0.794     0.818     0.771       814\n",
            "\n"
          ],
          "name": "stdout"
        },
        {
          "output_type": "stream",
          "text": [
            "/usr/local/lib/python3.7/dist-packages/ipykernel_launcher.py:12: DeprecationWarning: time.clock has been deprecated in Python 3.3 and will be removed from Python 3.8: use time.perf_counter or time.process_time instead\n",
            "  if sys.path[0] == '':\n",
            "/usr/local/lib/python3.7/dist-packages/sklearn/metrics/_classification.py:1272: UndefinedMetricWarning: Precision and F-score are ill-defined and being set to 0.0 in labels with no predicted samples. Use `zero_division` parameter to control this behavior.\n",
            "  _warn_prf(average, modifier, msg_start, len(result))\n"
          ],
          "name": "stderr"
        },
        {
          "output_type": "stream",
          "text": [
            "26/26 [==============================] - 0s 3ms/step - loss: 0.4409 - acc: 0.8354\n",
            " secand 0.129\n",
            "2/2 [==============================] - 0s 22ms/step\n",
            " secand 0.078\n",
            "              precision    recall  f1-score   support\n",
            "\n",
            "           1      0.838     0.963     0.896       602\n",
            "           2      0.723     0.268     0.391       127\n",
            "           3      0.889     0.877     0.883        73\n",
            "           4      0.667     0.167     0.267        12\n",
            "\n",
            "    accuracy                          0.835       814\n",
            "   macro avg      0.779     0.569     0.609       814\n",
            "weighted avg      0.822     0.835     0.807       814\n",
            "\n",
            "26/26 [==============================] - 0s 3ms/step - loss: 0.4306 - acc: 0.8452\n",
            " secand 0.129\n",
            "2/2 [==============================] - 0s 23ms/step\n",
            " secand 0.072\n",
            "              precision    recall  f1-score   support\n",
            "\n",
            "           1      0.850     0.960     0.902       602\n",
            "           2      0.741     0.315     0.442       127\n",
            "           3      0.880     0.904     0.892        73\n",
            "           4      0.800     0.333     0.471        12\n",
            "\n",
            "    accuracy                          0.845       814\n",
            "   macro avg      0.818     0.628     0.677       814\n",
            "weighted avg      0.835     0.845     0.823       814\n",
            "\n"
          ],
          "name": "stdout"
        }
      ]
    },
    {
      "cell_type": "code",
      "metadata": {
        "id": "5SMtaQQtcDNz",
        "colab": {
          "base_uri": "https://localhost:8080/"
        },
        "outputId": "a4e671e8-6283-4f52-fdf8-7f0b2c5fd2aa"
      },
      "source": [
        "print(\"Test Score:\", score[0])\n",
        "print(\"Test Accuracy:\", score[1])"
      ],
      "execution_count": null,
      "outputs": [
        {
          "output_type": "stream",
          "text": [
            "Test Score: 0.4306280016899109\n",
            "Test Accuracy: 0.8452088236808777\n"
          ],
          "name": "stdout"
        }
      ]
    },
    {
      "cell_type": "code",
      "metadata": {
        "id": "isSAKuBJvs2t"
      },
      "source": [
        ""
      ],
      "execution_count": null,
      "outputs": []
    },
    {
      "cell_type": "code",
      "metadata": {
        "id": "WjexT_LMcNPC",
        "colab": {
          "base_uri": "https://localhost:8080/",
          "height": 573
        },
        "outputId": "bc08b93e-2905-43ce-dc21-e6a57fbde145"
      },
      "source": [
        "import matplotlib.pyplot as plt\n",
        "\n",
        "plt.plot(history1.history['acc'])\n",
        "plt.plot(history1.history['val_acc'])\n",
        "\n",
        "plt.title('model accuracy')\n",
        "plt.ylabel('accuracy')\n",
        "plt.xlabel('epoch')\n",
        "plt.legend(['train','test'], loc = 'upper left')\n",
        "plt.show()\n",
        "\n",
        "plt.plot(history1.history['loss'])\n",
        "plt.plot(history1.history['val_loss'])\n",
        "\n",
        "plt.title('model loss')\n",
        "plt.ylabel('loss')\n",
        "plt.xlabel('epoch')\n",
        "plt.legend(['train','test'], loc = 'upper left')\n",
        "plt.show()"
      ],
      "execution_count": null,
      "outputs": [
        {
          "output_type": "display_data",
          "data": {
            "image/png": "[encoded data removed]",
            "text/plain": [
              "<Figure size 432x288 with 1 Axes>"
            ]
          },
          "metadata": {
            "tags": [],
            "needs_background": "light"
          }
        },
        {
          "output_type": "display_data",
          "data": {
            "image/png": "[encoded data removed]",
            "text/plain": [
              "<Figure size 432x288 with 1 Axes>"
            ]
          },
          "metadata": {
            "tags": [],
            "needs_background": "light"
          }
        }
      ]
    },
    {
      "cell_type": "markdown",
      "metadata": {
        "id": "3H2hYdQ4I9Sf"
      },
      "source": [
        " CNN Functinal "
      ]
    },
    {
      "cell_type": "code",
      "metadata": {
        "id": "fPJ8mBxDJD6f"
      },
      "source": [
        "# from keras.layers import Input\n",
        "# from keras.models import Model\n",
        "# Drop=0.2\n",
        "# cnn_model = Sequential()\n",
        "# embedding_layer = Embedding( vocab_size, EMBEDDING_DIM, weights=[embedding_matrix], input_length=maxlen , trainable=False)\n",
        "# cnn_model.add(embedding_layer)\n",
        "# cnn_model.add(Conv1D(filters = 150, kernel_size = 2, activation = \"relu\"))\n",
        "# cnn_model.add(MaxPooling1D(pool_size = 1))\n",
        "# cnn_model.add(Dropout(Drop))\n",
        "# cnn_model.add(Conv1D(filters = 150, kernel_size = 3, activation = \"relu\"))\n",
        "# cnn_model.add(MaxPooling1D(pool_size = 1))\n",
        "# cnn_model.add(Dropout(Drop))\n",
        "# cnn_model.add(Conv1D(filters = 150, kernel_size =4, activation = \"relu\"))\n",
        "# cnn_model.add(GlobalMaxPooling1D())\n",
        "# cnn_model.add(Dense(units = 150, activation = 'relu'))\n",
        "# cnn_model.add(Dense(units = 5, activation = 'softmax'))\n"
      ],
      "execution_count": null,
      "outputs": []
    },
    {
      "cell_type": "code",
      "metadata": {
        "id": "vXXsKZQ3zLnM"
      },
      "source": [
        "import tensorflow as tf\n",
        "from tensorflow.keras import layers\n",
        "class TEXT_MODEL(tf.keras.Model):\n",
        "    \n",
        "    def __init__(self,\n",
        "                 vocabulary_size,\n",
        "                 embedding_dimensions=128,\n",
        "                 cnn_filters=50,\n",
        "                 dnn_units=512,\n",
        "                 model_output_classes=5,\n",
        "                 dropout_rate=0.1,\n",
        "                 trainable=False,\n",
        "                 weights=[embedding_matrix],\n",
        "            \n",
        "\n",
        "                \n",
        "                 name=\"text_model\"):\n",
        "        super(TEXT_MODEL, self).__init__(name=name)\n",
        "        \n",
        "        self.embedding = layers.Embedding(vocabulary_size,embedding_dimensions)\n",
        "        self.cnn_layer1 = layers.Conv1D(filters=cnn_filters,\n",
        "                                        kernel_size=2,\n",
        "                                        padding=\"valid\",\n",
        "                                        activation=\"relu\",)\n",
        "        self.cnn_layer2 = layers.Conv1D(filters=cnn_filters,\n",
        "                                        kernel_size=3,\n",
        "                                        padding=\"valid\",\n",
        "                                        activation=\"relu\")\n",
        "        self.cnn_layer3 = layers.Conv1D(filters=cnn_filters,\n",
        "                                        kernel_size=4,\n",
        "                                        padding=\"valid\",\n",
        "                                        activation=\"relu\")\n",
        "        # self.cnn_layer4 = layers.Conv1D(filters=cnn_filters,\n",
        "        #                                 kernel_size=5,\n",
        "        #                                 padding=\"valid\",\n",
        "        #                                 activation=\"relu\")\n",
        "        self.pool = layers.GlobalMaxPool1D()\n",
        "        \n",
        "        self.dense_1 = layers.Dense(units=dnn_units, activation=\"relu\")\n",
        "        self.dropout = layers.Dropout(rate=dropout_rate)\n",
        "        if model_output_classes == 2:\n",
        "            self.last_dense = layers.Dense(units=1,\n",
        "                                           activation=\"sigmoid\")\n",
        "        else:\n",
        "            self.last_dense = layers.Dense(units=model_output_classes,\n",
        "                                           activation=\"softmax\")\n",
        "    \n",
        "    def call(self, inputs, training):\n",
        "        l = self.embedding(inputs)\n",
        "        l_1 = self.cnn_layer1(l) \n",
        "        l_1 = self.pool(l_1) \n",
        "        l_2 = self.cnn_layer2(l) \n",
        "        l_2 = self.pool(l_2)\n",
        "        l_3 = self.cnn_layer3(l)\n",
        "        l_3 = self.pool(l_3) \n",
        "   \n",
        "        \n",
        "        concatenated = tf.concat([l_1,l_2,l_3], axis=-1) # (self.batch_size, 3 * self.cnn_filters)\n",
        "        concatenated = self.dense_1(concatenated)\n",
        "        concatenated = self.dropout(concatenated, training)\n",
        "        model_output = self.last_dense(concatenated)\n",
        "        \n",
        "        return model_output"
      ],
      "execution_count": null,
      "outputs": []
    },
    {
      "cell_type": "code",
      "metadata": {
        "id": "-aBcIr5qzu88"
      },
      "source": [
        "VOCAB_LENGTH = vocab_size\n",
        "EMB_DIM = 300\n",
        "CNN_FILTERS = 150\n",
        "DNN_UNITS = 512\n",
        "OUTPUT_CLASSES = 5\n",
        "\n",
        "DROPOUT_RATE = 0.2\n",
        "\n",
        "NB_EPOCHS = 10"
      ],
      "execution_count": null,
      "outputs": []
    },
    {
      "cell_type": "code",
      "metadata": {
        "id": "HpeaRgm0z7eE"
      },
      "source": [
        "cnn_model = TEXT_MODEL(vocabulary_size=VOCAB_LENGTH,\n",
        "                        embedding_dimensions=EMB_DIM,\n",
        "                        cnn_filters=CNN_FILTERS,\n",
        "                        dnn_units=DNN_UNITS,\n",
        "                        model_output_classes=OUTPUT_CLASSES,\n",
        "                        dropout_rate=DROPOUT_RATE)"
      ],
      "execution_count": null,
      "outputs": []
    },
    {
      "cell_type": "code",
      "metadata": {
        "id": "_WG64YaGJnXj"
      },
      "source": [
        "\n",
        "#print(cnn_model.summary())"
      ],
      "execution_count": null,
      "outputs": []
    },
    {
      "cell_type": "code",
      "metadata": {
        "id": "BXXSBfNxJz_d",
        "colab": {
          "base_uri": "https://localhost:8080/"
        },
        "outputId": "1cae2b30-d7d5-4f6f-eefb-59b55803568c"
      },
      "source": [
        "#Configures the model for training\n",
        "from sklearn.metrics import classification_report\n",
        "from keras.optimizers import Adam\n",
        "for i in range(0,4):\n",
        " cnn_model.compile(loss = \"sparse_categorical_crossentropy\", optimizer= \"Adam\", metrics = [\"acc\"])\n",
        " history = cnn_model.fit(X_train, y_train, batch_size = 512, epochs = 12, validation_split=0.2 ,verbose=1)\n",
        "\n",
        "\n",
        " t0=time.clock()\n",
        " score = cnn_model.evaluate(X_test, y_test, verbose=1)\n",
        " print(\" secand %.3f\" % float(time.clock()-t0))\n",
        "\n",
        " t0=time.clock()\n",
        " y_pred = cnn_model.predict(X_test, batch_size=128, verbose=1)\n",
        " y_pred_bool = np.argmax(y_pred, axis=1)\n",
        " print(\" secand %.3f\" % float(time.clock()-t0))\n",
        " print(classification_report(y_test, y_pred_bool,digits=3))"
      ],
      "execution_count": null,
      "outputs": [
        {
          "output_type": "stream",
          "text": [
            "Epoch 1/12\n",
            "6/6 [==============================] - 2s 150ms/step - loss: 0.0344 - acc: 0.9923 - val_loss: 0.7167 - val_acc: 0.8571\n",
            "Epoch 2/12\n",
            "6/6 [==============================] - 1s 118ms/step - loss: 0.0179 - acc: 0.9973 - val_loss: 0.8342 - val_acc: 0.8479\n",
            "Epoch 3/12\n",
            "6/6 [==============================] - 1s 118ms/step - loss: 0.0100 - acc: 0.9981 - val_loss: 0.8744 - val_acc: 0.8387\n",
            "Epoch 4/12\n",
            "6/6 [==============================] - 1s 116ms/step - loss: 0.0058 - acc: 0.9985 - val_loss: 0.9577 - val_acc: 0.8510\n",
            "Epoch 5/12\n",
            "6/6 [==============================] - 1s 119ms/step - loss: 0.0048 - acc: 0.9988 - val_loss: 1.0113 - val_acc: 0.8449\n",
            "Epoch 6/12\n",
            "6/6 [==============================] - 1s 117ms/step - loss: 0.0040 - acc: 0.9985 - val_loss: 1.0553 - val_acc: 0.8495\n",
            "Epoch 7/12\n",
            "6/6 [==============================] - 1s 119ms/step - loss: 0.0034 - acc: 0.9988 - val_loss: 1.1127 - val_acc: 0.8525\n",
            "Epoch 8/12\n",
            "6/6 [==============================] - 1s 118ms/step - loss: 0.0033 - acc: 0.9981 - val_loss: 1.1191 - val_acc: 0.8525\n",
            "Epoch 9/12\n",
            "6/6 [==============================] - 1s 115ms/step - loss: 0.0032 - acc: 0.9985 - val_loss: 1.1033 - val_acc: 0.8525\n",
            "Epoch 10/12\n",
            "6/6 [==============================] - 1s 117ms/step - loss: 0.0017 - acc: 0.9988 - val_loss: 1.0967 - val_acc: 0.8495\n",
            "Epoch 11/12\n",
            "6/6 [==============================] - 1s 119ms/step - loss: 0.0025 - acc: 0.9988 - val_loss: 1.1444 - val_acc: 0.8541\n",
            "Epoch 12/12\n",
            "6/6 [==============================] - 1s 116ms/step - loss: 0.0043 - acc: 0.9992 - val_loss: 1.2597 - val_acc: 0.8618\n",
            "26/26 [==============================] - 0s 5ms/step - loss: 1.2946 - acc: 0.8575\n",
            " secand 0.172\n"
          ],
          "name": "stdout"
        },
        {
          "output_type": "stream",
          "text": [
            "/usr/local/lib/python3.7/dist-packages/ipykernel_launcher.py:9: DeprecationWarning: time.clock has been deprecated in Python 3.3 and will be removed from Python 3.8: use time.perf_counter or time.process_time instead\n",
            "  if __name__ == '__main__':\n",
            "/usr/local/lib/python3.7/dist-packages/ipykernel_launcher.py:11: DeprecationWarning: time.clock has been deprecated in Python 3.3 and will be removed from Python 3.8: use time.perf_counter or time.process_time instead\n",
            "  # This is added back by InteractiveShellApp.init_path()\n",
            "/usr/local/lib/python3.7/dist-packages/ipykernel_launcher.py:13: DeprecationWarning: time.clock has been deprecated in Python 3.3 and will be removed from Python 3.8: use time.perf_counter or time.process_time instead\n",
            "  del sys.path[0]\n"
          ],
          "name": "stderr"
        },
        {
          "output_type": "stream",
          "text": [
            "7/7 [==============================] - 0s 7ms/step\n",
            " secand 0.153\n",
            "              precision    recall  f1-score   support\n",
            "\n",
            "           1      0.864     0.963     0.911       602\n",
            "           2      0.762     0.378     0.505       127\n",
            "           3      0.904     0.904     0.904        73\n",
            "           4      0.571     0.333     0.421        12\n",
            "\n",
            "    accuracy                          0.857       814\n",
            "   macro avg      0.775     0.645     0.685       814\n",
            "weighted avg      0.848     0.857     0.840       814\n",
            "\n",
            "Epoch 1/12\n"
          ],
          "name": "stdout"
        },
        {
          "output_type": "stream",
          "text": [
            "/usr/local/lib/python3.7/dist-packages/ipykernel_launcher.py:16: DeprecationWarning: time.clock has been deprecated in Python 3.3 and will be removed from Python 3.8: use time.perf_counter or time.process_time instead\n",
            "  app.launch_new_instance()\n"
          ],
          "name": "stderr"
        },
        {
          "output_type": "stream",
          "text": [
            "6/6 [==============================] - 1s 144ms/step - loss: 0.0061 - acc: 0.9992 - val_loss: 1.1124 - val_acc: 0.8341\n",
            "Epoch 2/12\n",
            "6/6 [==============================] - 1s 117ms/step - loss: 0.0059 - acc: 0.9985 - val_loss: 1.1482 - val_acc: 0.8341\n",
            "Epoch 3/12\n",
            "6/6 [==============================] - 1s 118ms/step - loss: 0.0046 - acc: 0.9992 - val_loss: 1.1703 - val_acc: 0.8433\n",
            "Epoch 4/12\n",
            "6/6 [==============================] - 1s 116ms/step - loss: 0.0042 - acc: 0.9992 - val_loss: 1.1079 - val_acc: 0.8310\n",
            "Epoch 5/12\n",
            "6/6 [==============================] - 1s 118ms/step - loss: 0.0045 - acc: 0.9988 - val_loss: 1.1823 - val_acc: 0.8571\n",
            "Epoch 6/12\n",
            "6/6 [==============================] - 1s 117ms/step - loss: 0.0069 - acc: 0.9992 - val_loss: 1.0749 - val_acc: 0.8372\n",
            "Epoch 7/12\n",
            "6/6 [==============================] - 1s 117ms/step - loss: 0.0040 - acc: 0.9992 - val_loss: 1.0817 - val_acc: 0.8280\n",
            "Epoch 8/12\n",
            "6/6 [==============================] - 1s 120ms/step - loss: 0.0036 - acc: 0.9992 - val_loss: 1.1090 - val_acc: 0.8418\n",
            "Epoch 9/12\n",
            "6/6 [==============================] - 1s 117ms/step - loss: 0.0025 - acc: 0.9992 - val_loss: 1.1519 - val_acc: 0.8418\n",
            "Epoch 10/12\n",
            "6/6 [==============================] - 1s 118ms/step - loss: 0.0025 - acc: 0.9992 - val_loss: 1.1639 - val_acc: 0.8418\n",
            "Epoch 11/12\n",
            "6/6 [==============================] - 1s 120ms/step - loss: 0.0022 - acc: 0.9988 - val_loss: 1.1686 - val_acc: 0.8418\n",
            "Epoch 12/12\n",
            "6/6 [==============================] - 1s 121ms/step - loss: 0.0018 - acc: 0.9992 - val_loss: 1.1691 - val_acc: 0.8326\n",
            "26/26 [==============================] - 0s 5ms/step - loss: 1.0422 - acc: 0.8514\n",
            " secand 0.165\n",
            "7/7 [==============================] - 0s 8ms/step\n",
            " secand 0.147\n",
            "              precision    recall  f1-score   support\n",
            "\n",
            "           1      0.894     0.915     0.905       602\n",
            "           2      0.607     0.559     0.582       127\n",
            "           3      0.904     0.904     0.904        73\n",
            "           4      0.625     0.417     0.500        12\n",
            "\n",
            "    accuracy                          0.851       814\n",
            "   macro avg      0.758     0.699     0.723       814\n",
            "weighted avg      0.846     0.851     0.848       814\n",
            "\n",
            "Epoch 1/12\n",
            "6/6 [==============================] - 1s 147ms/step - loss: 0.0029 - acc: 0.9992 - val_loss: 1.2018 - val_acc: 0.8249\n",
            "Epoch 2/12\n",
            "6/6 [==============================] - 1s 118ms/step - loss: 0.0044 - acc: 0.9992 - val_loss: 1.2307 - val_acc: 0.8449\n",
            "Epoch 3/12\n",
            "6/6 [==============================] - 1s 118ms/step - loss: 0.0019 - acc: 0.9992 - val_loss: 1.3687 - val_acc: 0.8618\n",
            "Epoch 4/12\n",
            "6/6 [==============================] - 1s 117ms/step - loss: 0.0029 - acc: 0.9988 - val_loss: 1.2177 - val_acc: 0.8433\n",
            "Epoch 5/12\n",
            "6/6 [==============================] - 1s 119ms/step - loss: 0.0027 - acc: 0.9988 - val_loss: 1.2096 - val_acc: 0.8295\n",
            "Epoch 6/12\n",
            "6/6 [==============================] - 1s 116ms/step - loss: 0.0017 - acc: 0.9992 - val_loss: 1.2101 - val_acc: 0.8341\n",
            "Epoch 7/12\n",
            "6/6 [==============================] - 1s 120ms/step - loss: 0.0019 - acc: 0.9992 - val_loss: 1.2238 - val_acc: 0.8418\n",
            "Epoch 8/12\n",
            "6/6 [==============================] - 1s 121ms/step - loss: 0.0014 - acc: 0.9992 - val_loss: 1.2322 - val_acc: 0.8372\n",
            "Epoch 9/12\n",
            "6/6 [==============================] - 1s 121ms/step - loss: 0.0036 - acc: 0.9992 - val_loss: 1.2870 - val_acc: 0.8541\n",
            "Epoch 10/12\n",
            "6/6 [==============================] - 1s 121ms/step - loss: 0.0044 - acc: 0.9988 - val_loss: 1.2135 - val_acc: 0.8402\n",
            "Epoch 11/12\n",
            "6/6 [==============================] - 1s 120ms/step - loss: 0.0033 - acc: 0.9992 - val_loss: 1.1896 - val_acc: 0.8280\n",
            "Epoch 12/12\n",
            "6/6 [==============================] - 1s 123ms/step - loss: 0.0030 - acc: 0.9992 - val_loss: 1.1806 - val_acc: 0.8326\n",
            "26/26 [==============================] - 0s 5ms/step - loss: 1.0930 - acc: 0.8440\n",
            " secand 0.169\n",
            "7/7 [==============================] - 0s 8ms/step\n",
            " secand 0.155\n",
            "              precision    recall  f1-score   support\n",
            "\n",
            "           1      0.895     0.904     0.899       602\n",
            "           2      0.577     0.559     0.568       127\n",
            "           3      0.893     0.918     0.905        73\n",
            "           4      0.625     0.417     0.500        12\n",
            "\n",
            "    accuracy                          0.844       814\n",
            "   macro avg      0.748     0.699     0.718       814\n",
            "weighted avg      0.841     0.844     0.842       814\n",
            "\n",
            "Epoch 1/12\n",
            "6/6 [==============================] - 1s 140ms/step - loss: 0.0034 - acc: 0.9992 - val_loss: 1.2519 - val_acc: 0.8479\n",
            "Epoch 2/12\n",
            "6/6 [==============================] - 1s 117ms/step - loss: 0.0017 - acc: 0.9992 - val_loss: 1.3680 - val_acc: 0.8541\n",
            "Epoch 3/12\n",
            "6/6 [==============================] - 1s 120ms/step - loss: 0.0018 - acc: 0.9992 - val_loss: 1.3578 - val_acc: 0.8495\n",
            "Epoch 4/12\n",
            "6/6 [==============================] - 1s 119ms/step - loss: 0.0011 - acc: 0.9992 - val_loss: 1.3652 - val_acc: 0.8372\n",
            "Epoch 5/12\n",
            "6/6 [==============================] - 1s 118ms/step - loss: 0.0017 - acc: 0.9992 - val_loss: 1.3972 - val_acc: 0.8402\n",
            "Epoch 6/12\n",
            "6/6 [==============================] - 1s 118ms/step - loss: 0.0012 - acc: 0.9992 - val_loss: 1.4441 - val_acc: 0.8464\n",
            "Epoch 7/12\n",
            "6/6 [==============================] - 1s 121ms/step - loss: 0.0015 - acc: 0.9992 - val_loss: 1.4297 - val_acc: 0.8464\n",
            "Epoch 8/12\n",
            "6/6 [==============================] - 1s 120ms/step - loss: 0.0012 - acc: 0.9988 - val_loss: 1.4162 - val_acc: 0.8402\n",
            "Epoch 9/12\n",
            "6/6 [==============================] - 1s 118ms/step - loss: 0.0011 - acc: 0.9992 - val_loss: 1.4198 - val_acc: 0.8387\n",
            "Epoch 10/12\n",
            "6/6 [==============================] - 1s 118ms/step - loss: 0.0013 - acc: 0.9988 - val_loss: 1.4452 - val_acc: 0.8464\n",
            "Epoch 11/12\n",
            "6/6 [==============================] - 1s 120ms/step - loss: 0.0014 - acc: 0.9988 - val_loss: 1.4535 - val_acc: 0.8449\n",
            "Epoch 12/12\n",
            "6/6 [==============================] - 1s 118ms/step - loss: 0.0012 - acc: 0.9988 - val_loss: 1.4542 - val_acc: 0.8402\n",
            "26/26 [==============================] - 0s 5ms/step - loss: 1.3110 - acc: 0.8477\n",
            " secand 0.168\n",
            "7/7 [==============================] - 0s 7ms/step\n",
            " secand 0.161\n",
            "              precision    recall  f1-score   support\n",
            "\n",
            "           1      0.894     0.910     0.902       602\n",
            "           2      0.593     0.551     0.571       127\n",
            "           3      0.893     0.918     0.905        73\n",
            "           4      0.625     0.417     0.500        12\n",
            "\n",
            "    accuracy                          0.848       814\n",
            "   macro avg      0.751     0.699     0.720       814\n",
            "weighted avg      0.843     0.848     0.845       814\n",
            "\n"
          ],
          "name": "stdout"
        }
      ]
    },
    {
      "cell_type": "code",
      "metadata": {
        "id": "S6K2SuauLYDe",
        "colab": {
          "base_uri": "https://localhost:8080/"
        },
        "outputId": "212789cd-276b-4229-ee38-dde7ec97301c"
      },
      "source": [
        "print(\"Test Score:\", score[0])\n",
        "print(\"Test Accuracy:\", score[1])"
      ],
      "execution_count": null,
      "outputs": [
        {
          "output_type": "stream",
          "text": [
            "Test Score: 0.5262981057167053\n",
            "Test Accuracy: 0.8439803719520569\n"
          ],
          "name": "stdout"
        }
      ]
    },
    {
      "cell_type": "code",
      "metadata": {
        "id": "IxSZrAGWv27N"
      },
      "source": [
        ""
      ],
      "execution_count": null,
      "outputs": []
    },
    {
      "cell_type": "code",
      "metadata": {
        "id": "8-vAXOgLe9iM",
        "colab": {
          "base_uri": "https://localhost:8080/"
        },
        "outputId": "30b911d9-b6e5-4cf2-be09-68544bbe9717"
      },
      "source": [
        "pip install scikit-plot"
      ],
      "execution_count": null,
      "outputs": [
        {
          "output_type": "stream",
          "text": [
            "Collecting scikit-plot\n",
            "  Downloading https://files.pythonhosted.org/packages/7c/47/32520e259340c140a4ad27c1b97050dd3254fdc517b1d59974d47037510e/scikit_plot-0.3.7-py3-none-any.whl\n",
            "Requirement already satisfied: scikit-learn>=0.18 in /usr/local/lib/python3.7/dist-packages (from scikit-plot) (0.22.2.post1)\n",
            "Requirement already satisfied: scipy>=0.9 in /usr/local/lib/python3.7/dist-packages (from scikit-plot) (1.4.1)\n",
            "Requirement already satisfied: matplotlib>=1.4.0 in /usr/local/lib/python3.7/dist-packages (from scikit-plot) (3.2.2)\n",
            "Requirement already satisfied: joblib>=0.10 in /usr/local/lib/python3.7/dist-packages (from scikit-plot) (1.0.1)\n",
            "Requirement already satisfied: numpy>=1.11.0 in /usr/local/lib/python3.7/dist-packages (from scikit-learn>=0.18->scikit-plot) (1.19.5)\n",
            "Requirement already satisfied: cycler>=0.10 in /usr/local/lib/python3.7/dist-packages (from matplotlib>=1.4.0->scikit-plot) (0.10.0)\n",
            "Requirement already satisfied: kiwisolver>=1.0.1 in /usr/local/lib/python3.7/dist-packages (from matplotlib>=1.4.0->scikit-plot) (1.3.1)\n",
            "Requirement already satisfied: python-dateutil>=2.1 in /usr/local/lib/python3.7/dist-packages (from matplotlib>=1.4.0->scikit-plot) (2.8.1)\n",
            "Requirement already satisfied: pyparsing!=2.0.4,!=2.1.2,!=2.1.6,>=2.0.1 in /usr/local/lib/python3.7/dist-packages (from matplotlib>=1.4.0->scikit-plot) (2.4.7)\n",
            "Requirement already satisfied: six in /usr/local/lib/python3.7/dist-packages (from cycler>=0.10->matplotlib>=1.4.0->scikit-plot) (1.15.0)\n",
            "Installing collected packages: scikit-plot\n",
            "Successfully installed scikit-plot-0.3.7\n"
          ],
          "name": "stdout"
        }
      ]
    },
    {
      "cell_type": "code",
      "metadata": {
        "id": "Y1gtbnvsff7E"
      },
      "source": [
        "from sklearn.preprocessing import LabelEncoder\n",
        "le = LabelEncoder()\n",
        "train_y = le.fit_transform(y_train)\n",
        "test_y = le.transform(y_test)"
      ],
      "execution_count": null,
      "outputs": []
    },
    {
      "cell_type": "code",
      "metadata": {
        "id": "OyTpsiVfdtW0",
        "colab": {
          "base_uri": "https://localhost:8080/",
          "height": 361
        },
        "outputId": "ed55da8a-e559-45e9-f660-085704f49b10"
      },
      "source": [
        "\n",
        "import scikitplot as skplt\n",
        "y_true = [le.classes_[x] for x in y_test]\n",
        "y_pred = [le.classes_[x] for x in y_pred_bool]\n",
        "skplt.metrics.plot_confusion_matrix(\n",
        "    y_true, \n",
        "    y_pred,\n",
        "    figsize=(12,12),x_tick_rotation=90)"
      ],
      "execution_count": null,
      "outputs": [
        {
          "output_type": "error",
          "ename": "IndexError",
          "evalue": "ignored",
          "traceback": [
            "\u001b[0;31m---------------------------------------------------------------------------\u001b[0m",
            "\u001b[0;31mIndexError\u001b[0m                                Traceback (most recent call last)",
            "\u001b[0;32m<ipython-input-53-4315d4ed8246>\u001b[0m in \u001b[0;36m<module>\u001b[0;34m()\u001b[0m\n\u001b[1;32m      1\u001b[0m \u001b[0;34m\u001b[0m\u001b[0m\n\u001b[1;32m      2\u001b[0m \u001b[0;32mimport\u001b[0m \u001b[0mscikitplot\u001b[0m \u001b[0;32mas\u001b[0m \u001b[0mskplt\u001b[0m\u001b[0;34m\u001b[0m\u001b[0;34m\u001b[0m\u001b[0m\n\u001b[0;32m----> 3\u001b[0;31m \u001b[0my_true\u001b[0m \u001b[0;34m=\u001b[0m \u001b[0;34m[\u001b[0m\u001b[0mle\u001b[0m\u001b[0;34m.\u001b[0m\u001b[0mclasses_\u001b[0m\u001b[0;34m[\u001b[0m\u001b[0mx\u001b[0m\u001b[0;34m]\u001b[0m \u001b[0;32mfor\u001b[0m \u001b[0mx\u001b[0m \u001b[0;32min\u001b[0m \u001b[0my_test\u001b[0m\u001b[0;34m]\u001b[0m\u001b[0;34m\u001b[0m\u001b[0;34m\u001b[0m\u001b[0m\n\u001b[0m\u001b[1;32m      4\u001b[0m \u001b[0my_pred\u001b[0m \u001b[0;34m=\u001b[0m \u001b[0;34m[\u001b[0m\u001b[0mle\u001b[0m\u001b[0;34m.\u001b[0m\u001b[0mclasses_\u001b[0m\u001b[0;34m[\u001b[0m\u001b[0mx\u001b[0m\u001b[0;34m]\u001b[0m \u001b[0;32mfor\u001b[0m \u001b[0mx\u001b[0m \u001b[0;32min\u001b[0m \u001b[0my_pred_bool\u001b[0m\u001b[0;34m]\u001b[0m\u001b[0;34m\u001b[0m\u001b[0;34m\u001b[0m\u001b[0m\n\u001b[1;32m      5\u001b[0m skplt.metrics.plot_confusion_matrix(\n",
            "\u001b[0;32m<ipython-input-53-4315d4ed8246>\u001b[0m in \u001b[0;36m<listcomp>\u001b[0;34m(.0)\u001b[0m\n\u001b[1;32m      1\u001b[0m \u001b[0;34m\u001b[0m\u001b[0m\n\u001b[1;32m      2\u001b[0m \u001b[0;32mimport\u001b[0m \u001b[0mscikitplot\u001b[0m \u001b[0;32mas\u001b[0m \u001b[0mskplt\u001b[0m\u001b[0;34m\u001b[0m\u001b[0;34m\u001b[0m\u001b[0m\n\u001b[0;32m----> 3\u001b[0;31m \u001b[0my_true\u001b[0m \u001b[0;34m=\u001b[0m \u001b[0;34m[\u001b[0m\u001b[0mle\u001b[0m\u001b[0;34m.\u001b[0m\u001b[0mclasses_\u001b[0m\u001b[0;34m[\u001b[0m\u001b[0mx\u001b[0m\u001b[0;34m]\u001b[0m \u001b[0;32mfor\u001b[0m \u001b[0mx\u001b[0m \u001b[0;32min\u001b[0m \u001b[0my_test\u001b[0m\u001b[0;34m]\u001b[0m\u001b[0;34m\u001b[0m\u001b[0;34m\u001b[0m\u001b[0m\n\u001b[0m\u001b[1;32m      4\u001b[0m \u001b[0my_pred\u001b[0m \u001b[0;34m=\u001b[0m \u001b[0;34m[\u001b[0m\u001b[0mle\u001b[0m\u001b[0;34m.\u001b[0m\u001b[0mclasses_\u001b[0m\u001b[0;34m[\u001b[0m\u001b[0mx\u001b[0m\u001b[0;34m]\u001b[0m \u001b[0;32mfor\u001b[0m \u001b[0mx\u001b[0m \u001b[0;32min\u001b[0m \u001b[0my_pred_bool\u001b[0m\u001b[0;34m]\u001b[0m\u001b[0;34m\u001b[0m\u001b[0;34m\u001b[0m\u001b[0m\n\u001b[1;32m      5\u001b[0m skplt.metrics.plot_confusion_matrix(\n",
            "\u001b[0;31mIndexError\u001b[0m: index 4 is out of bounds for axis 0 with size 4"
          ]
        }
      ]
    },
    {
      "cell_type": "code",
      "metadata": {
        "id": "T2Eb2kXpLiUs"
      },
      "source": [
        "import matplotlib.pyplot as plt\n",
        "\n",
        "plt.plot(history.history['acc'])\n",
        "plt.plot(history.history['val_acc'])\n",
        "\n",
        "plt.title('model accuracy')\n",
        "plt.ylabel('accuracy')\n",
        "plt.xlabel('epoch')\n",
        "plt.legend(['train','test'], loc = 'upper left')\n",
        "plt.show()\n",
        "\n",
        "plt.plot(history.history['loss'])\n",
        "plt.plot(history.history['val_loss'])\n",
        "\n",
        "plt.title('model loss')\n",
        "plt.ylabel('loss')\n",
        "plt.xlabel('epoch')\n",
        "plt.legend(['train','test'], loc = 'upper left')\n",
        "plt.show()"
      ],
      "execution_count": null,
      "outputs": []
    }
  ]
}