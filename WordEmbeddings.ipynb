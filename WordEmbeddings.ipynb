{
  "nbformat": 4,
  "nbformat_minor": 0,
  "metadata": {
    "accelerator": "GPU",
    "colab": {
      "name": "WordEmbeddings.ipynb",
      "provenance": [],
      "mount_file_id": "17oQdwHfGu4h7PohyI8wsvKKLFqsevWxs",
      "authorship_tag": "ABX9TyM/US/kDsy0+Lo76b+PYcSq",
      "include_colab_link": true
    },
    "kernelspec": {
      "display_name": "Python 3",
      "name": "python3"
    }
  },
  "cells": [
    {
      "cell_type": "markdown",
      "metadata": {
        "id": "view-in-github",
        "colab_type": "text"
      },
      "source": [
        "<a href=\"https://colab.research.google.com/github/asabbah44/Text_Classification/blob/main/WordEmbeddings.ipynb\" target=\"_parent\"><img src=\"https://colab.research.google.com/assets/colab-badge.svg\" alt=\"Open In Colab\"/></a>"
      ]
    },
    {
      "cell_type": "markdown",
      "metadata": {
        "id": "er_Yl3KKPzEa"
      },
      "source": [
        "https://stackabuse.com/python-for-nlp-movie-sentiment-analysis-using-deep-learning-in-keras/"
      ]
    },
    {
      "cell_type": "code",
      "metadata": {
        "id": "EZP7aXO963_j"
      },
      "source": [
        ""
      ],
      "execution_count": null,
      "outputs": []
    },
    {
      "cell_type": "code",
      "metadata": {
        "id": "EK9BZOjcpxDA"
      },
      "source": [
        "import pandas as pd\r\n",
        "import numpy as np\r\n",
        "import re\r\n",
        "import nltk\r\n",
        "from nltk.corpus import stopwords\r\n",
        "\r\n",
        "from numpy import array\r\n",
        "from keras.preprocessing.text import one_hot\r\n",
        "from keras.preprocessing.sequence import pad_sequences\r\n",
        "from keras.models import Sequential\r\n",
        "from keras.layers.core import Activation, Dropout, Dense\r\n",
        "from keras.layers import Flatten\r\n",
        "from keras.layers import GlobalMaxPooling1D\r\n",
        "from keras.layers.embeddings import Embedding\r\n",
        "from sklearn.model_selection import train_test_split\r\n",
        "from keras.preprocessing.text import Tokenizer"
      ],
      "execution_count": 1,
      "outputs": []
    },
    {
      "cell_type": "code",
      "metadata": {
        "id": "RB_97ZDSp8uu"
      },
      "source": [
        "df1 = pd.read_csv('/content/drive/MyDrive/Colab Notebooks/Data/dataset.csv')\r\n",
        "df2 = pd.read_csv('/content/drive/MyDrive/Colab Notebooks/Data/mydataset.csv')\r\n",
        "\r\n",
        "\r\n",
        "df1 = pd.DataFrame(df1, columns = ['commenttext','label'])\r\n",
        "df2 = pd.DataFrame(df2, columns = ['commenttext','label'])\r\n",
        "\r\n",
        "df=pd.concat([df1,df2])\r\n",
        "#df=df2"
      ],
      "execution_count": 2,
      "outputs": []
    },
    {
      "cell_type": "code",
      "metadata": {
        "id": "EVcygc3t1Ytx"
      },
      "source": [
        "# possible_labels = df.label.unique()\r\n",
        "# label_dict = {}\r\n",
        "# for index, possible_label in enumerate(possible_labels):\r\n",
        "#     label_dict[possible_label] = index\r\n",
        "# print(label_dict)\r\n",
        "# df['label'] = df.label.replace(label_dict)\r\n",
        "\r\n",
        "# df.head()"
      ],
      "execution_count": 3,
      "outputs": []
    },
    {
      "cell_type": "code",
      "metadata": {
        "colab": {
          "base_uri": "https://localhost:8080/",
          "height": 297
        },
        "id": "J9PCNgOU7KZS",
        "outputId": "9800c25b-b326-49e3-8bb1-dba047027922"
      },
      "source": [
        "import seaborn as sns\r\n",
        "\r\n",
        "sns.countplot(x='label', data=df)"
      ],
      "execution_count": 4,
      "outputs": [
        {
          "output_type": "execute_result",
          "data": {
            "text/plain": [
              "<matplotlib.axes._subplots.AxesSubplot at 0x7f63020a6190>"
            ]
          },
          "metadata": {
            "tags": []
          },
          "execution_count": 4
        },
        {
          "output_type": "display_data",
          "data": {
            "image/png": "[encoded data removed]",
            "text/plain": [
              "<Figure size 432x288 with 1 Axes>"
            ]
          },
          "metadata": {
            "tags": [],
            "needs_background": "light"
          }
        }
      ]
    },
    {
      "cell_type": "code",
      "metadata": {
        "id": "ko6MPNT_rCYi"
      },
      "source": [
        "# import sys\r\n",
        "# sys.path.append('/content/drive/MyDrive/Colab Notebooks')\r\n",
        "\r\n",
        "# from Utility import preprocess\r\n",
        "# df[\"commenttext\"] = df[\"commenttext\"].apply(lambda x: x.lower())\r\n",
        "\r\n",
        "# # Clean the text\r\n",
        "# df[\"commenttext\"] = df[\"commenttext\"].apply(lambda x:preprocess.clean_text(x))\r\n",
        "\r\n",
        "# # Clean numbers\r\n",
        "# df[\"commenttext\"] = df[\"commenttext\"].apply(lambda x:preprocess.clean_numbers(x))\r\n",
        "\r\n",
        "# # Clean Contractions\r\n",
        "# df[\"commenttext\"] = df[\"commenttext\"].apply(lambda x:preprocess.replace_contractions(x))\r\n",
        " \r\n",
        "# df[\"commenttext\"] = df[\"commenttext\"].apply(lambda x:preprocess.clean_punc(x))\r\n",
        "\r\n",
        "# # lemmatize\r\n",
        "# df[\"commenttext\"] = df[\"commenttext\"].apply(lambda x: preprocess.lemmatize(x))\r\n",
        "# # remove stop word and custome word such as todo\r\n",
        "# df[\"commenttext\"] = df[\"commenttext\"].apply(lambda x: preprocess.custm_stopwords_remove(x))\r\n",
        "\r\n"
      ],
      "execution_count": 5,
      "outputs": []
    },
    {
      "cell_type": "code",
      "metadata": {
        "id": "UqPfJqvs8dW5"
      },
      "source": [
        "def preprocess_text(sen):\r\n",
        "    # Removing html tags\r\n",
        "    sentence = remove_tags(sen)\r\n",
        "\r\n",
        "    # Remove punctuations and numbers\r\n",
        "    sentence = re.sub('[^a-zA-Z]', ' ', sentence)\r\n",
        "\r\n",
        "    # Single character removal\r\n",
        "    sentence = re.sub(r\"\\s+[a-zA-Z]\\s+\", ' ', sentence)\r\n",
        "\r\n",
        "    # Removing multiple spaces\r\n",
        "    sentence = re.sub(r'\\s+', ' ', sentence)\r\n",
        "\r\n",
        "    return sentence"
      ],
      "execution_count": 6,
      "outputs": []
    },
    {
      "cell_type": "code",
      "metadata": {
        "id": "jnD-zZpW8cey"
      },
      "source": [
        "TAG_RE = re.compile(r'<[^>]+>')\r\n",
        "\r\n",
        "def remove_tags(text):\r\n",
        "    return TAG_RE.sub('', text)"
      ],
      "execution_count": 7,
      "outputs": []
    },
    {
      "cell_type": "code",
      "metadata": {
        "id": "AUFtsYnc8p9R"
      },
      "source": [
        "X = []\r\n",
        "sentences = list(df['commenttext'])\r\n",
        "for sen in sentences:\r\n",
        "    X.append(preprocess_text(sen))"
      ],
      "execution_count": 8,
      "outputs": []
    },
    {
      "cell_type": "code",
      "metadata": {
        "colab": {
          "base_uri": "https://localhost:8080/",
          "height": 35
        },
        "id": "YoOWKfVI8yTA",
        "outputId": "80cb7fa8-d2f4-4e42-d575-33a7d20c34e4"
      },
      "source": [
        "X[2]"
      ],
      "execution_count": 9,
      "outputs": [
        {
          "output_type": "execute_result",
          "data": {
            "application/vnd.google.colaboratory.intrinsic+json": {
              "type": "string"
            },
            "text/plain": [
              "' hate to admit it but we don know what happened here Throw the Exception '"
            ]
          },
          "metadata": {
            "tags": []
          },
          "execution_count": 9
        }
      ]
    },
    {
      "cell_type": "markdown",
      "metadata": {
        "id": "dnNi59oC9G8p"
      },
      "source": [
        "Label encoder"
      ]
    },
    {
      "cell_type": "code",
      "metadata": {
        "colab": {
          "base_uri": "https://localhost:8080/"
        },
        "id": "Fz1j9ZCA9dny",
        "outputId": "c46249df-0d59-469d-ef43-2394c572f2bf"
      },
      "source": [
        "df.label.unique()"
      ],
      "execution_count": 10,
      "outputs": [
        {
          "output_type": "execute_result",
          "data": {
            "text/plain": [
              "array(['Defect', 'Design', 'Requirement', 'Test', 'Documentation'],\n",
              "      dtype=object)"
            ]
          },
          "metadata": {
            "tags": []
          },
          "execution_count": 10
        }
      ]
    },
    {
      "cell_type": "code",
      "metadata": {
        "id": "yGxlc_om9Eeg"
      },
      "source": [
        "y = df['label']\r\n",
        "\r\n",
        "y = np.array(list(map(lambda x: 0 if x==\"Requirement\" else 1 if x==\"Design\" else 2 if x==\"Defect\" else 3 if x==\"Test\" else 4, y)))\r\n"
      ],
      "execution_count": 11,
      "outputs": []
    },
    {
      "cell_type": "code",
      "metadata": {
        "id": "9a9Rhgna-SwB"
      },
      "source": [
        "X_train, X_test, y_train, y_test = train_test_split(X, y, test_size=0.20, random_state=42)\r\n",
        "\r\n"
      ],
      "execution_count": 12,
      "outputs": []
    },
    {
      "cell_type": "code",
      "metadata": {
        "id": "jygmBRMWnvTL"
      },
      "source": [
        "# from sklearn.preprocessing import LabelEncoder\r\n",
        "# le = LabelEncoder()\r\n",
        "# y_train = le.fit_transform(y_train.values)\r\n",
        "# y_test = le.transform(y_test.values)"
      ],
      "execution_count": 13,
      "outputs": []
    },
    {
      "cell_type": "code",
      "metadata": {
        "id": "P350lT9b_FJ5",
        "colab": {
          "base_uri": "https://localhost:8080/"
        },
        "outputId": "25b20240-34a0-4710-aa90-fdff20bc6895"
      },
      "source": [
        "from nltk.tokenize import word_tokenize\r\n",
        "import nltk\r\n",
        "nltk.download('punkt')\r\n",
        "all_words = []\r\n",
        "for sent in X:\r\n",
        "    tokenize_word = word_tokenize(sent)\r\n",
        "    for word in tokenize_word:\r\n",
        "        all_words.append(word)"
      ],
      "execution_count": 14,
      "outputs": [
        {
          "output_type": "stream",
          "text": [
            "[nltk_data] Downloading package punkt to /root/nltk_data...\n",
            "[nltk_data]   Package punkt is already up-to-date!\n"
          ],
          "name": "stdout"
        }
      ]
    },
    {
      "cell_type": "code",
      "metadata": {
        "colab": {
          "base_uri": "https://localhost:8080/"
        },
        "id": "YxMvr4QF--rI",
        "outputId": "6c3b7d6b-d5d0-4d9e-9bb7-076ee1a5f61b"
      },
      "source": [
        "unique_words = set(all_words)\r\n",
        "\r\n",
        "No_Of_Words=(len(unique_words))\r\n",
        "print(No_Of_Words)"
      ],
      "execution_count": 15,
      "outputs": [
        {
          "output_type": "stream",
          "text": [
            "9597\n"
          ],
          "name": "stdout"
        }
      ]
    },
    {
      "cell_type": "code",
      "metadata": {
        "id": "WUFz77DP_d-I"
      },
      "source": [
        "tokenizer = Tokenizer(num_words=No_Of_Words)\r\n",
        "tokenizer.fit_on_texts(X_train)\r\n",
        "\r\n",
        "X_train = tokenizer.texts_to_sequences(X_train)\r\n",
        "X_test = tokenizer.texts_to_sequences(X_test)"
      ],
      "execution_count": 16,
      "outputs": []
    },
    {
      "cell_type": "code",
      "metadata": {
        "colab": {
          "base_uri": "https://localhost:8080/"
        },
        "id": "hFYKd7WpSeDx",
        "outputId": "5da0e344-0711-4270-beae-8939b3c57702"
      },
      "source": [
        "word_count = lambda sentence: len(word_tokenize(sentence))\r\n",
        "longest_sentence = max(df.commenttext, key=word_count)\r\n",
        "length_long_sentence = len(word_tokenize(longest_sentence))\r\n",
        "print(length_long_sentence)"
      ],
      "execution_count": 17,
      "outputs": [
        {
          "output_type": "stream",
          "text": [
            "1394\n"
          ],
          "name": "stdout"
        }
      ]
    },
    {
      "cell_type": "code",
      "metadata": {
        "id": "kbq61MHtILNJ"
      },
      "source": [
        "MaxWordsLen=length_long_sentence"
      ],
      "execution_count": 18,
      "outputs": []
    },
    {
      "cell_type": "code",
      "metadata": {
        "id": "NHN23zFvASho"
      },
      "source": [
        "vocab_size = len(tokenizer.word_index) + 1\r\n",
        "\r\n",
        "# max number of words in sentencecs\r\n",
        "maxlen = MaxWordsLen\r\n",
        "\r\n",
        "X_train = pad_sequences(X_train, padding='post', maxlen=maxlen)\r\n",
        "X_test = pad_sequences(X_test, padding='post', maxlen=maxlen)"
      ],
      "execution_count": 19,
      "outputs": []
    },
    {
      "cell_type": "code",
      "metadata": {
        "colab": {
          "base_uri": "https://localhost:8080/"
        },
        "id": "Hb4rDZ06DijK",
        "outputId": "17a4cf83-e5ba-4db2-bfac-b6788cd9dd34"
      },
      "source": [
        "vocab_size "
      ],
      "execution_count": 20,
      "outputs": [
        {
          "output_type": "execute_result",
          "data": {
            "text/plain": [
              "7179"
            ]
          },
          "metadata": {
            "tags": []
          },
          "execution_count": 20
        }
      ]
    },
    {
      "cell_type": "markdown",
      "metadata": {
        "id": "kztbnrwKWk3I"
      },
      "source": [
        "Chose which model to use"
      ]
    },
    {
      "cell_type": "code",
      "metadata": {
        "id": "45jtcOnBWpy4"
      },
      "source": [
        "model_type=3 # 1-word2vec , 2- Glove, \r\n",
        "EMBEDDING_DIM=300"
      ],
      "execution_count": 21,
      "outputs": []
    },
    {
      "cell_type": "code",
      "metadata": {
        "id": "WyspvKaiEhR5",
        "colab": {
          "base_uri": "https://localhost:8080/"
        },
        "outputId": "78399261-ff0b-482d-9ecf-d3893133c476"
      },
      "source": [
        "from numpy import array\r\n",
        "from numpy import asarray\r\n",
        "from numpy import zeros\r\n",
        "import gensim\r\n",
        "from gensim import corpora, models, similarities\r\n",
        "\r\n",
        "embeddings_dictionary = dict()\r\n",
        "if(model_type==2) :\r\n",
        "\r\n",
        " glove_file = open('/content/drive/MyDrive/Colab Notebooks/glove.840B.300d.txt', encoding=\"utf8\")\r\n",
        "\r\n",
        " for line in glove_file:\r\n",
        "    records = line.split(\" \")\r\n",
        "    word = records[0]\r\n",
        "    vector_dimensions = asarray(records[1:], dtype='float32')\r\n",
        "    embeddings_dictionary [word] = vector_dimensions\r\n",
        " glove_file.close()\r\n",
        "\r\n",
        "elif (model_type==1):\r\n",
        " w2v_model = gensim.models.KeyedVectors.load_word2vec_format('/content/drive/MyDrive/Colab Notebooks/GoogleNews-vectors-negative300.bin.gz', binary=True)\r\n",
        " word_vectors = w2v_model\r\n",
        " word_index = tokenizer.word_index\r\n",
        " for word, i in word_index.items():\r\n",
        "    if i>=No_Of_Words:\r\n",
        "        continue\r\n",
        "    try:\r\n",
        "        embedding_vector = word_vectors[word]\r\n",
        "        embeddings_dictionary[word] = embedding_vector\r\n",
        "    except KeyError:\r\n",
        "      continue\r\n",
        "      #  embeddings_dictionary[i]=np.random.normal(0,np.sqrt(0.25),EMBEDDING_DIM)\r\n",
        "\r\n",
        " del(word_vectors)\r\n",
        "\r\n",
        "elif (model_type==3):\r\n",
        "       !pip install tqdm\r\n",
        "       from gensim.models.wrappers import FastText\r\n",
        "       from tqdm import tqdm\r\n",
        "       print('loading FastText word embeddings...')\r\n",
        "       embeddings_index = {}\r\n",
        "       f = open('/content/drive/MyDrive/Colab Notebooks/crawl-300d-2M.vec',encoding='utf-8')\r\n",
        "       for line in tqdm(f):\r\n",
        "        values = line.strip().rsplit(' ')\r\n",
        "        word = values[0]\r\n",
        "        vector_dimensions = np.asarray(values[1:], dtype='float32')\r\n",
        "        embeddings_dictionary[word] = vector_dimensions\r\n",
        "       f.close()\r\n",
        "else:\r\n",
        "   print(\"No Model\")"
      ],
      "execution_count": 28,
      "outputs": [
        {
          "output_type": "stream",
          "text": [
            "Requirement already satisfied: tqdm in /usr/local/lib/python3.7/dist-packages (4.41.1)\n"
          ],
          "name": "stdout"
        },
        {
          "output_type": "stream",
          "text": [
            "\r0it [00:00, ?it/s]"
          ],
          "name": "stderr"
        },
        {
          "output_type": "stream",
          "text": [
            "loading FastText word embeddings...\n"
          ],
          "name": "stdout"
        },
        {
          "output_type": "stream",
          "text": [
            "1999996it [02:38, 12588.70it/s]\n"
          ],
          "name": "stderr"
        }
      ]
    },
    {
      "cell_type": "markdown",
      "metadata": {
        "id": "FWXN8L_Vlwyp"
      },
      "source": [
        ""
      ]
    },
    {
      "cell_type": "code",
      "metadata": {
        "id": "nqdMQpKnIHrh"
      },
      "source": [
        "WordsNotInclude=[]\r\n",
        "embedding_matrix = zeros((vocab_size,  EMBEDDING_DIM))\r\n",
        "for word, index in tokenizer.word_index.items():\r\n",
        "    embedding_vector = embeddings_dictionary.get(word)\r\n",
        "    if embedding_vector is not None:\r\n",
        "        embedding_matrix[index] = embedding_vector\r\n",
        "    else : WordsNotInclude.append(word)"
      ],
      "execution_count": 29,
      "outputs": []
    },
    {
      "cell_type": "code",
      "metadata": {
        "colab": {
          "base_uri": "https://localhost:8080/"
        },
        "id": "ejR1bw7wJv9S",
        "outputId": "46016fec-fb15-484f-9baf-274d86b7273f"
      },
      "source": [
        "len(WordsNotInclude)"
      ],
      "execution_count": 30,
      "outputs": [
        {
          "output_type": "execute_result",
          "data": {
            "text/plain": [
              "1825"
            ]
          },
          "metadata": {
            "tags": []
          },
          "execution_count": 30
        }
      ]
    },
    {
      "cell_type": "markdown",
      "metadata": {
        "id": "-PA3luhYaXvB"
      },
      "source": [
        "ANN"
      ]
    },
    {
      "cell_type": "code",
      "metadata": {
        "id": "8Ps42aDeKPsx"
      },
      "source": [
        "model = Sequential()\r\n",
        "embedding_layer = Embedding(vocab_size, EMBEDDING_DIM, weights=[embedding_matrix], input_length=maxlen , trainable=True)\r\n",
        "model.add(embedding_layer)\r\n",
        "\r\n",
        "model.add(Flatten())\r\n",
        "model.add(Dense(5, activation='softmax'))"
      ],
      "execution_count": 55,
      "outputs": []
    },
    {
      "cell_type": "code",
      "metadata": {
        "colab": {
          "base_uri": "https://localhost:8080/"
        },
        "id": "9nx9N0-xKhLQ",
        "outputId": "a83e3f33-5377-4b8d-8c11-a22be95d70da"
      },
      "source": [
        "model.compile(optimizer='adam', loss='sparse_categorical_crossentropy', metrics=['acc'])\r\n",
        "\r\n",
        "print(model.summary())"
      ],
      "execution_count": 56,
      "outputs": [
        {
          "output_type": "stream",
          "text": [
            "Model: \"sequential_5\"\n",
            "_________________________________________________________________\n",
            "Layer (type)                 Output Shape              Param #   \n",
            "=================================================================\n",
            "embedding_5 (Embedding)      (None, 1394, 300)         2153700   \n",
            "_________________________________________________________________\n",
            "flatten_1 (Flatten)          (None, 418200)            0         \n",
            "_________________________________________________________________\n",
            "dense_6 (Dense)              (None, 5)                 2091005   \n",
            "=================================================================\n",
            "Total params: 4,244,705\n",
            "Trainable params: 4,244,705\n",
            "Non-trainable params: 0\n",
            "_________________________________________________________________\n",
            "None\n"
          ],
          "name": "stdout"
        }
      ]
    },
    {
      "cell_type": "code",
      "metadata": {
        "colab": {
          "base_uri": "https://localhost:8080/"
        },
        "id": "KRWHpc43KtoR",
        "outputId": "410dc9e8-aa3e-4ab0-f102-698d6ce5d110"
      },
      "source": [
        "history = model.fit(X_train, y_train, batch_size=128, epochs=6, verbose=1, validation_split=0.2)\r\n"
      ],
      "execution_count": 57,
      "outputs": [
        {
          "output_type": "stream",
          "text": [
            "Epoch 1/6\n",
            "28/28 [==============================] - 4s 130ms/step - loss: 1.2561 - acc: 0.5346 - val_loss: 1.0331 - val_acc: 0.6421\n",
            "Epoch 2/6\n",
            "28/28 [==============================] - 4s 126ms/step - loss: 0.7994 - acc: 0.6935 - val_loss: 0.9205 - val_acc: 0.6588\n",
            "Epoch 3/6\n",
            "28/28 [==============================] - 4s 127ms/step - loss: 0.5869 - acc: 0.7971 - val_loss: 0.8655 - val_acc: 0.7025\n",
            "Epoch 4/6\n",
            "28/28 [==============================] - 4s 126ms/step - loss: 0.4467 - acc: 0.8711 - val_loss: 0.8230 - val_acc: 0.7215\n",
            "Epoch 5/6\n",
            "28/28 [==============================] - 4s 126ms/step - loss: 0.3397 - acc: 0.9105 - val_loss: 0.8278 - val_acc: 0.7271\n",
            "Epoch 6/6\n",
            "28/28 [==============================] - 4s 127ms/step - loss: 0.2572 - acc: 0.9361 - val_loss: 0.8091 - val_acc: 0.7260\n"
          ],
          "name": "stdout"
        }
      ]
    },
    {
      "cell_type": "code",
      "metadata": {
        "colab": {
          "base_uri": "https://localhost:8080/"
        },
        "id": "X8zOScDDK1bq",
        "outputId": "0a6fd04f-475c-4cc4-8dfa-49a293f65dfd"
      },
      "source": [
        "score = model.evaluate(X_test, y_test, verbose=1)"
      ],
      "execution_count": 34,
      "outputs": [
        {
          "output_type": "stream",
          "text": [
            "35/35 [==============================] - 0s 12ms/step - loss: 0.8520 - acc: 0.7081\n"
          ],
          "name": "stdout"
        }
      ]
    },
    {
      "cell_type": "code",
      "metadata": {
        "colab": {
          "base_uri": "https://localhost:8080/"
        },
        "id": "BCmboyX-LKV5",
        "outputId": "413c9100-69e8-4f77-e409-df57acfff62f"
      },
      "source": [
        "print(\"Test Score:\", score[0])\r\n",
        "print(\"Test Accuracy:\", score[1])"
      ],
      "execution_count": 35,
      "outputs": [
        {
          "output_type": "stream",
          "text": [
            "Test Score: 0.851997971534729\n",
            "Test Accuracy: 0.7081468105316162\n"
          ],
          "name": "stdout"
        }
      ]
    },
    {
      "cell_type": "code",
      "metadata": {
        "colab": {
          "base_uri": "https://localhost:8080/",
          "height": 573
        },
        "id": "mnFNtA-oLSez",
        "outputId": "30e0a5c5-bc38-4007-e986-90e46e52f936"
      },
      "source": [
        "import matplotlib.pyplot as plt\r\n",
        "\r\n",
        "plt.plot(history.history['acc'])\r\n",
        "plt.plot(history.history['val_acc'])\r\n",
        "\r\n",
        "plt.title('model accuracy')\r\n",
        "plt.ylabel('accuracy')\r\n",
        "plt.xlabel('epoch')\r\n",
        "plt.legend(['train','test'], loc = 'upper left')\r\n",
        "plt.show()\r\n",
        "\r\n",
        "plt.plot(history.history['loss'])\r\n",
        "plt.plot(history.history['val_loss'])\r\n",
        "\r\n",
        "plt.title('model loss')\r\n",
        "plt.ylabel('loss')\r\n",
        "plt.xlabel('epoch')\r\n",
        "plt.legend(['train','test'], loc = 'upper left')\r\n",
        "plt.show()"
      ],
      "execution_count": 36,
      "outputs": [
        {
          "output_type": "display_data",
          "data": {
            "image/png": "[encoded data removed]",
            "text/plain": [
              "<Figure size 432x288 with 1 Axes>"
            ]
          },
          "metadata": {
            "tags": [],
            "needs_background": "light"
          }
        },
        {
          "output_type": "display_data",
          "data": {
            "image/png": "[encoded data removed]",
            "text/plain": [
              "<Figure size 432x288 with 1 Axes>"
            ]
          },
          "metadata": {
            "tags": [],
            "needs_background": "light"
          }
        }
      ]
    },
    {
      "cell_type": "markdown",
      "metadata": {
        "id": "FjT4SnmBrJ06"
      },
      "source": [
        "Simple CNN"
      ]
    },
    {
      "cell_type": "code",
      "metadata": {
        "id": "V7pS7PiRbH49"
      },
      "source": [
        "from keras.layers import Conv1D, MaxPooling1D, Embedding\r\n",
        "model = Sequential()\r\n",
        "\r\n",
        "embedding_layer = Embedding( vocab_size, EMBEDDING_DIM, weights=[embedding_matrix], input_length=maxlen , trainable=True)\r\n",
        "model.add(embedding_layer)\r\n",
        "\r\n",
        "model.add(Conv1D(128, 5, activation='relu'))\r\n",
        "model.add(GlobalMaxPooling1D())\r\n",
        "model.add(Dense(units=5, activation='softmax'))\r\n",
        "model.compile(optimizer='adam', loss='sparse_categorical_crossentropy', metrics=['acc'])"
      ],
      "execution_count": 70,
      "outputs": []
    },
    {
      "cell_type": "code",
      "metadata": {
        "colab": {
          "base_uri": "https://localhost:8080/"
        },
        "id": "tgqBPoxWb3dJ",
        "outputId": "9623a739-5877-4e66-f9af-b78196c3c1fb"
      },
      "source": [
        "print(model.summary())"
      ],
      "execution_count": 71,
      "outputs": [
        {
          "output_type": "stream",
          "text": [
            "Model: \"sequential_8\"\n",
            "_________________________________________________________________\n",
            "Layer (type)                 Output Shape              Param #   \n",
            "=================================================================\n",
            "embedding_8 (Embedding)      (None, 1394, 300)         2153700   \n",
            "_________________________________________________________________\n",
            "conv1d_7 (Conv1D)            (None, 1390, 128)         192128    \n",
            "_________________________________________________________________\n",
            "global_max_pooling1d_5 (Glob (None, 128)               0         \n",
            "_________________________________________________________________\n",
            "dense_9 (Dense)              (None, 5)                 645       \n",
            "=================================================================\n",
            "Total params: 2,346,473\n",
            "Trainable params: 2,346,473\n",
            "Non-trainable params: 0\n",
            "_________________________________________________________________\n",
            "None\n"
          ],
          "name": "stdout"
        }
      ]
    },
    {
      "cell_type": "code",
      "metadata": {
        "colab": {
          "base_uri": "https://localhost:8080/"
        },
        "id": "ca2oxXCBb8pJ",
        "outputId": "4c3791e4-5ae6-4d1d-d90d-835c8ff7eeec"
      },
      "source": [
        "history1 = model.fit(X_train, y_train, batch_size=128, epochs=10, verbose=1, validation_split=0.2)\r\n",
        "\r\n",
        "score = model.evaluate(X_test, y_test, verbose=1)"
      ],
      "execution_count": 72,
      "outputs": [
        {
          "output_type": "stream",
          "text": [
            "Epoch 1/10\n",
            "28/28 [==============================] - 6s 191ms/step - loss: 1.1962 - acc: 0.5387 - val_loss: 0.8620 - val_acc: 0.6846\n",
            "Epoch 2/10\n",
            "28/28 [==============================] - 5s 185ms/step - loss: 0.6590 - acc: 0.7596 - val_loss: 0.7119 - val_acc: 0.7248\n",
            "Epoch 3/10\n",
            "28/28 [==============================] - 5s 187ms/step - loss: 0.4662 - acc: 0.8383 - val_loss: 0.6686 - val_acc: 0.7394\n",
            "Epoch 4/10\n",
            "28/28 [==============================] - 5s 186ms/step - loss: 0.3147 - acc: 0.9181 - val_loss: 0.6203 - val_acc: 0.7562\n",
            "Epoch 5/10\n",
            "28/28 [==============================] - 5s 185ms/step - loss: 0.2101 - acc: 0.9594 - val_loss: 0.6249 - val_acc: 0.7562\n",
            "Epoch 6/10\n",
            "28/28 [==============================] - 5s 186ms/step - loss: 0.1428 - acc: 0.9786 - val_loss: 0.6109 - val_acc: 0.7662\n",
            "Epoch 7/10\n",
            "28/28 [==============================] - 5s 186ms/step - loss: 0.0981 - acc: 0.9853 - val_loss: 0.6351 - val_acc: 0.7640\n",
            "Epoch 8/10\n",
            "28/28 [==============================] - 5s 186ms/step - loss: 0.0659 - acc: 0.9953 - val_loss: 0.6444 - val_acc: 0.7685\n",
            "Epoch 9/10\n",
            "28/28 [==============================] - 5s 187ms/step - loss: 0.0537 - acc: 0.9939 - val_loss: 0.6557 - val_acc: 0.7740\n",
            "Epoch 10/10\n",
            "28/28 [==============================] - 5s 185ms/step - loss: 0.0409 - acc: 0.9958 - val_loss: 0.6798 - val_acc: 0.7729\n",
            "35/35 [==============================] - 1s 18ms/step - loss: 0.7349 - acc: 0.7574\n"
          ],
          "name": "stdout"
        }
      ]
    },
    {
      "cell_type": "code",
      "metadata": {
        "colab": {
          "base_uri": "https://localhost:8080/"
        },
        "id": "5SMtaQQtcDNz",
        "outputId": "133f401b-2292-4bd5-a7c7-d028541d30f0"
      },
      "source": [
        "print(\"Test Score:\", score[0])\r\n",
        "print(\"Test Accuracy:\", score[1])"
      ],
      "execution_count": 73,
      "outputs": [
        {
          "output_type": "stream",
          "text": [
            "Test Score: 0.7348574995994568\n",
            "Test Accuracy: 0.7573858499526978\n"
          ],
          "name": "stdout"
        }
      ]
    },
    {
      "cell_type": "code",
      "metadata": {
        "colab": {
          "base_uri": "https://localhost:8080/",
          "height": 573
        },
        "id": "WjexT_LMcNPC",
        "outputId": "bf3daafd-27f2-4085-e1fa-b4e12cd4c6d1"
      },
      "source": [
        "import matplotlib.pyplot as plt\r\n",
        "\r\n",
        "plt.plot(history1.history['acc'])\r\n",
        "plt.plot(history1.history['val_acc'])\r\n",
        "\r\n",
        "plt.title('model accuracy')\r\n",
        "plt.ylabel('accuracy')\r\n",
        "plt.xlabel('epoch')\r\n",
        "plt.legend(['train','test'], loc = 'upper left')\r\n",
        "plt.show()\r\n",
        "\r\n",
        "plt.plot(history1.history['loss'])\r\n",
        "plt.plot(history1.history['val_loss'])\r\n",
        "\r\n",
        "plt.title('model loss')\r\n",
        "plt.ylabel('loss')\r\n",
        "plt.xlabel('epoch')\r\n",
        "plt.legend(['train','test'], loc = 'upper left')\r\n",
        "plt.show()"
      ],
      "execution_count": 41,
      "outputs": [
        {
          "output_type": "display_data",
          "data": {
            "image/png": "[encoded data removed]",
            "text/plain": [
              "<Figure size 432x288 with 1 Axes>"
            ]
          },
          "metadata": {
            "tags": [],
            "needs_background": "light"
          }
        },
        {
          "output_type": "display_data",
          "data": {
            "image/png": "[encoded data removed]",
            "text/plain": [
              "<Figure size 432x288 with 1 Axes>"
            ]
          },
          "metadata": {
            "tags": [],
            "needs_background": "light"
          }
        }
      ]
    },
    {
      "cell_type": "markdown",
      "metadata": {
        "id": "3H2hYdQ4I9Sf"
      },
      "source": [
        " CNN Functinal "
      ]
    },
    {
      "cell_type": "code",
      "metadata": {
        "id": "fPJ8mBxDJD6f"
      },
      "source": [
        "from keras.layers import Input\r\n",
        "from keras.models import Model\r\n",
        "\r\n",
        "cnn_model = Sequential()\r\n",
        "embedding_layer = Embedding( vocab_size, EMBEDDING_DIM, weights=[embedding_matrix], input_length=maxlen , trainable=False)\r\n",
        "cnn_model.add(embedding_layer)\r\n",
        "cnn_model.add(Conv1D(filters = 128, kernel_size = 5, activation = \"relu\"))\r\n",
        "cnn_model.add(MaxPooling1D(pool_size = 2))\r\n",
        "cnn_model.add(Conv1D(filters = 128, kernel_size = 5, activation = \"relu\"))\r\n",
        "cnn_model.add(MaxPooling1D(pool_size = 2))\r\n",
        "cnn_model.add(Conv1D(filters = 128, kernel_size = 5, activation = \"relu\"))\r\n",
        "cnn_model.add(GlobalMaxPooling1D())\r\n",
        "cnn_model.add(Dense(units = 128, activation = 'relu'))\r\n",
        "cnn_model.add(Dense(units = 5, activation = 'softmax'))\r\n"
      ],
      "execution_count": 42,
      "outputs": []
    },
    {
      "cell_type": "code",
      "metadata": {
        "colab": {
          "base_uri": "https://localhost:8080/"
        },
        "id": "_WG64YaGJnXj",
        "outputId": "101a6158-50a2-45a9-dd8e-e3e4ceb0aa47"
      },
      "source": [
        "cnn_model.compile(optimizer='adam', loss='sparse_categorical_crossentropy', metrics=['acc'])\r\n",
        "print(cnn_model.summary())"
      ],
      "execution_count": 43,
      "outputs": [
        {
          "output_type": "stream",
          "text": [
            "Model: \"sequential_2\"\n",
            "_________________________________________________________________\n",
            "Layer (type)                 Output Shape              Param #   \n",
            "=================================================================\n",
            "embedding_2 (Embedding)      (None, 1394, 300)         2153700   \n",
            "_________________________________________________________________\n",
            "conv1d_1 (Conv1D)            (None, 1390, 128)         192128    \n",
            "_________________________________________________________________\n",
            "max_pooling1d (MaxPooling1D) (None, 695, 128)          0         \n",
            "_________________________________________________________________\n",
            "conv1d_2 (Conv1D)            (None, 691, 128)          82048     \n",
            "_________________________________________________________________\n",
            "max_pooling1d_1 (MaxPooling1 (None, 345, 128)          0         \n",
            "_________________________________________________________________\n",
            "conv1d_3 (Conv1D)            (None, 341, 128)          82048     \n",
            "_________________________________________________________________\n",
            "global_max_pooling1d_1 (Glob (None, 128)               0         \n",
            "_________________________________________________________________\n",
            "dense_2 (Dense)              (None, 128)               16512     \n",
            "_________________________________________________________________\n",
            "dense_3 (Dense)              (None, 5)                 645       \n",
            "=================================================================\n",
            "Total params: 2,527,081\n",
            "Trainable params: 373,381\n",
            "Non-trainable params: 2,153,700\n",
            "_________________________________________________________________\n",
            "None\n"
          ],
          "name": "stdout"
        }
      ]
    },
    {
      "cell_type": "code",
      "metadata": {
        "colab": {
          "base_uri": "https://localhost:8080/"
        },
        "id": "BXXSBfNxJz_d",
        "outputId": "9b26092d-3829-4519-bc0e-c8d1a5e525f0"
      },
      "source": [
        "#Configures the model for training\r\n",
        "cnn_model.compile(loss = \"sparse_categorical_crossentropy\", optimizer = \"adam\", metrics = [\"acc\"])\r\n",
        "#Split the dataset into train and validation set for training and evaludating the model\r\n",
        "# X_train, X_val, y_train, y_val = train_test_split(trainvalid_data, train_labels, shuffle = True, random_state = 123)\r\n",
        "# print(X_train.shape, y_train.shape, X_val.shape, y_val.shape)\r\n",
        "#Trains the model for a fixed number of epochs (iterations on a dataset)\r\n",
        "history = cnn_model.fit(X_train, y_train, batch_size = 128, epochs = 10, validation_split=0.2)\r\n",
        "score = cnn_model.evaluate(X_test, y_test, verbose=1)"
      ],
      "execution_count": 44,
      "outputs": [
        {
          "output_type": "stream",
          "text": [
            "Epoch 1/10\n",
            "28/28 [==============================] - 5s 156ms/step - loss: 1.3070 - acc: 0.5333 - val_loss: 1.1100 - val_acc: 0.5872\n",
            "Epoch 2/10\n",
            "28/28 [==============================] - 4s 141ms/step - loss: 1.0657 - acc: 0.5814 - val_loss: 1.0738 - val_acc: 0.5872\n",
            "Epoch 3/10\n",
            "28/28 [==============================] - 4s 141ms/step - loss: 0.9161 - acc: 0.6024 - val_loss: 0.9244 - val_acc: 0.6499\n",
            "Epoch 4/10\n",
            "28/28 [==============================] - 4s 140ms/step - loss: 0.7048 - acc: 0.7243 - val_loss: 0.8523 - val_acc: 0.6689\n",
            "Epoch 5/10\n",
            "28/28 [==============================] - 4s 141ms/step - loss: 0.4384 - acc: 0.8496 - val_loss: 0.7849 - val_acc: 0.7304\n",
            "Epoch 6/10\n",
            "28/28 [==============================] - 4s 142ms/step - loss: 0.2752 - acc: 0.9153 - val_loss: 0.8667 - val_acc: 0.7282\n",
            "Epoch 7/10\n",
            "28/28 [==============================] - 4s 141ms/step - loss: 0.1269 - acc: 0.9680 - val_loss: 1.0504 - val_acc: 0.7472\n",
            "Epoch 8/10\n",
            "28/28 [==============================] - 4s 142ms/step - loss: 0.0829 - acc: 0.9750 - val_loss: 1.1470 - val_acc: 0.7338\n",
            "Epoch 9/10\n",
            "28/28 [==============================] - 4s 142ms/step - loss: 0.0769 - acc: 0.9786 - val_loss: 1.3017 - val_acc: 0.7461\n",
            "Epoch 10/10\n",
            "28/28 [==============================] - 4s 143ms/step - loss: 0.0599 - acc: 0.9818 - val_loss: 1.1863 - val_acc: 0.7260\n",
            "35/35 [==============================] - 1s 22ms/step - loss: 1.3550 - acc: 0.7028\n"
          ],
          "name": "stdout"
        }
      ]
    },
    {
      "cell_type": "code",
      "metadata": {
        "colab": {
          "base_uri": "https://localhost:8080/"
        },
        "id": "S6K2SuauLYDe",
        "outputId": "9d29fc8d-aad2-44f4-8160-63c0e7ca317a"
      },
      "source": [
        "print(\"Test Score:\", score[0])\r\n",
        "print(\"Test Accuracy:\", score[1])"
      ],
      "execution_count": 45,
      "outputs": [
        {
          "output_type": "stream",
          "text": [
            "Test Score: 1.3550091981887817\n",
            "Test Accuracy: 0.7027752995491028\n"
          ],
          "name": "stdout"
        }
      ]
    },
    {
      "cell_type": "code",
      "metadata": {
        "colab": {
          "base_uri": "https://localhost:8080/",
          "height": 573
        },
        "id": "T2Eb2kXpLiUs",
        "outputId": "5f466530-5a17-45a4-d455-1158cb2d0676"
      },
      "source": [
        "import matplotlib.pyplot as plt\r\n",
        "\r\n",
        "plt.plot(history.history['acc'])\r\n",
        "plt.plot(history.history['val_acc'])\r\n",
        "\r\n",
        "plt.title('model accuracy')\r\n",
        "plt.ylabel('accuracy')\r\n",
        "plt.xlabel('epoch')\r\n",
        "plt.legend(['train','test'], loc = 'upper left')\r\n",
        "plt.show()\r\n",
        "\r\n",
        "plt.plot(history.history['loss'])\r\n",
        "plt.plot(history.history['val_loss'])\r\n",
        "\r\n",
        "plt.title('model loss')\r\n",
        "plt.ylabel('loss')\r\n",
        "plt.xlabel('epoch')\r\n",
        "plt.legend(['train','test'], loc = 'upper left')\r\n",
        "plt.show()"
      ],
      "execution_count": 46,
      "outputs": [
        {
          "output_type": "display_data",
          "data": {
            "image/png": "[encoded data removed]",
            "text/plain": [
              "<Figure size 432x288 with 1 Axes>"
            ]
          },
          "metadata": {
            "tags": [],
            "needs_background": "light"
          }
        },
        {
          "output_type": "display_data",
          "data": {
            "image/png": "[encoded data removed]",
            "text/plain": [
              "<Figure size 432x288 with 1 Axes>"
            ]
          },
          "metadata": {
            "tags": [],
            "needs_background": "light"
          }
        }
      ]
    },
    {
      "cell_type": "markdown",
      "metadata": {
        "id": "xZkZtsuSrGnu"
      },
      "source": [
        "LSTM"
      ]
    },
    {
      "cell_type": "code",
      "metadata": {
        "id": "KMVoTnxQq-VT"
      },
      "source": [
        "from keras.layers import Dense,LSTM\r\n",
        "model = Sequential()\r\n",
        "embedding_layer = Embedding(vocab_size, EMBEDDING_DIM, weights=[embedding_matrix], input_length=maxlen , trainable=False)\r\n",
        "model.add(embedding_layer)\r\n",
        "model.add(LSTM(128))\r\n",
        "\r\n",
        "model.add(Dense(5, activation='softmax'))\r\n",
        "model.compile(optimizer='adam', loss='sparse_categorical_crossentropy', metrics=['acc'])"
      ],
      "execution_count": 47,
      "outputs": []
    },
    {
      "cell_type": "code",
      "metadata": {
        "id": "wCa3vtUOrZIZ",
        "colab": {
          "base_uri": "https://localhost:8080/"
        },
        "outputId": "a29494cd-c1a5-462a-8b34-6facb2a69acd"
      },
      "source": [
        "print(model.summary())"
      ],
      "execution_count": 48,
      "outputs": [
        {
          "output_type": "stream",
          "text": [
            "Model: \"sequential_3\"\n",
            "_________________________________________________________________\n",
            "Layer (type)                 Output Shape              Param #   \n",
            "=================================================================\n",
            "embedding_3 (Embedding)      (None, 1394, 300)         2153700   \n",
            "_________________________________________________________________\n",
            "lstm (LSTM)                  (None, 128)               219648    \n",
            "_________________________________________________________________\n",
            "dense_4 (Dense)              (None, 5)                 645       \n",
            "=================================================================\n",
            "Total params: 2,373,993\n",
            "Trainable params: 220,293\n",
            "Non-trainable params: 2,153,700\n",
            "_________________________________________________________________\n",
            "None\n"
          ],
          "name": "stdout"
        }
      ]
    },
    {
      "cell_type": "code",
      "metadata": {
        "id": "XC3Agx85rmPi",
        "colab": {
          "base_uri": "https://localhost:8080/"
        },
        "outputId": "3c355d45-00c0-4b77-fa04-c021fb9255aa"
      },
      "source": [
        "history = model.fit(X_train, y_train, batch_size=128, epochs=6, verbose=1, validation_split=0.2)\r\n",
        "\r\n",
        "score = model.evaluate(X_test, y_test, verbose=1)"
      ],
      "execution_count": 49,
      "outputs": [
        {
          "output_type": "stream",
          "text": [
            "Epoch 1/6\n",
            "28/28 [==============================] - 7s 189ms/step - loss: 1.4627 - acc: 0.5356 - val_loss: 1.1646 - val_acc: 0.5872\n",
            "Epoch 2/6\n",
            "28/28 [==============================] - 5s 175ms/step - loss: 1.1449 - acc: 0.5903 - val_loss: 1.1566 - val_acc: 0.5872\n",
            "Epoch 3/6\n",
            "28/28 [==============================] - 5s 176ms/step - loss: 1.1579 - acc: 0.5829 - val_loss: 1.1583 - val_acc: 0.5872\n",
            "Epoch 4/6\n",
            "28/28 [==============================] - 5s 175ms/step - loss: 1.1481 - acc: 0.5849 - val_loss: 1.1624 - val_acc: 0.5872\n",
            "Epoch 5/6\n",
            "28/28 [==============================] - 5s 176ms/step - loss: 1.1546 - acc: 0.5812 - val_loss: 1.1579 - val_acc: 0.5872\n",
            "Epoch 6/6\n",
            "28/28 [==============================] - 5s 177ms/step - loss: 1.1377 - acc: 0.5990 - val_loss: 1.1595 - val_acc: 0.5872\n",
            "35/35 [==============================] - 1s 39ms/step - loss: 1.1458 - acc: 0.5944\n"
          ],
          "name": "stdout"
        }
      ]
    },
    {
      "cell_type": "code",
      "metadata": {
        "id": "NTwBLUrPsaBi",
        "colab": {
          "base_uri": "https://localhost:8080/"
        },
        "outputId": "b3d9707b-fc5b-43a4-c466-7d0bfaf4336a"
      },
      "source": [
        "print(\"Test Score:\", score[0])\r\n",
        "print(\"Test Accuracy:\", score[1])"
      ],
      "execution_count": 50,
      "outputs": [
        {
          "output_type": "stream",
          "text": [
            "Test Score: 1.1458117961883545\n",
            "Test Accuracy: 0.5944494009017944\n"
          ],
          "name": "stdout"
        }
      ]
    },
    {
      "cell_type": "code",
      "metadata": {
        "id": "opo_88AksePr",
        "colab": {
          "base_uri": "https://localhost:8080/",
          "height": 573
        },
        "outputId": "259f7f3c-d838-474d-ad09-91c618657b3d"
      },
      "source": [
        "import matplotlib.pyplot as plt\r\n",
        "\r\n",
        "plt.plot(history.history['acc'])\r\n",
        "plt.plot(history.history['val_acc'])\r\n",
        "\r\n",
        "plt.title('model accuracy')\r\n",
        "plt.ylabel('accuracy')\r\n",
        "plt.xlabel('epoch')\r\n",
        "plt.legend(['train','test'], loc = 'upper left')\r\n",
        "plt.show()\r\n",
        "\r\n",
        "plt.plot(history.history['loss'])\r\n",
        "plt.plot(history.history['val_loss'])\r\n",
        "\r\n",
        "plt.title('model loss')\r\n",
        "plt.ylabel('loss')\r\n",
        "plt.xlabel('epoch')\r\n",
        "plt.legend(['train','test'], loc = 'upper left')\r\n",
        "plt.show()"
      ],
      "execution_count": 51,
      "outputs": [
        {
          "output_type": "display_data",
          "data": {
            "image/png": "[encoded data removed]",
            "text/plain": [
              "<Figure size 432x288 with 1 Axes>"
            ]
          },
          "metadata": {
            "tags": [],
            "needs_background": "light"
          }
        },
        {
          "output_type": "display_data",
          "data": {
            "image/png": "[encoded data removed]",
            "text/plain": [
              "<Figure size 432x288 with 1 Axes>"
            ]
          },
          "metadata": {
            "tags": [],
            "needs_background": "light"
          }
        }
      ]
    }
  ]
}