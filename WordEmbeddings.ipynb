{
  "nbformat": 4,
  "nbformat_minor": 0,
  "metadata": {
    "accelerator": "GPU",
    "colab": {
      "name": "WordEmbeddings.ipynb",
      "provenance": [],
      "mount_file_id": "17oQdwHfGu4h7PohyI8wsvKKLFqsevWxs",
      "authorship_tag": "ABX9TyNHPC3UJxoT5qnGy+NqITHU",
      "include_colab_link": true
    },
    "kernelspec": {
      "display_name": "Python 3",
      "name": "python3"
    }
  },
  "cells": [
    {
      "cell_type": "markdown",
      "metadata": {
        "id": "view-in-github",
        "colab_type": "text"
      },
      "source": [
        "<a href=\"https://colab.research.google.com/github/asabbah44/Text_Classification/blob/main/WordEmbeddings.ipynb\" target=\"_parent\"><img src=\"https://colab.research.google.com/assets/colab-badge.svg\" alt=\"Open In Colab\"/></a>"
      ]
    },
    {
      "cell_type": "markdown",
      "metadata": {
        "id": "er_Yl3KKPzEa"
      },
      "source": [
        "https://stackabuse.com/python-for-nlp-movie-sentiment-analysis-using-deep-learning-in-keras/"
      ]
    },
    {
      "cell_type": "code",
      "metadata": {
        "id": "EZP7aXO963_j"
      },
      "source": [
        ""
      ],
      "execution_count": 37,
      "outputs": []
    },
    {
      "cell_type": "code",
      "metadata": {
        "id": "EK9BZOjcpxDA"
      },
      "source": [
        "import pandas as pd\r\n",
        "import numpy as np\r\n",
        "import re\r\n",
        "import nltk\r\n",
        "from nltk.corpus import stopwords\r\n",
        "\r\n",
        "from numpy import array\r\n",
        "from keras.preprocessing.text import one_hot\r\n",
        "from keras.preprocessing.sequence import pad_sequences\r\n",
        "from keras.models import Sequential\r\n",
        "from keras.layers.core import Activation, Dropout, Dense\r\n",
        "from keras.layers import Flatten\r\n",
        "from keras.layers import GlobalMaxPooling1D\r\n",
        "from keras.layers.embeddings import Embedding\r\n",
        "from sklearn.model_selection import train_test_split\r\n",
        "from keras.preprocessing.text import Tokenizer"
      ],
      "execution_count": 38,
      "outputs": []
    },
    {
      "cell_type": "code",
      "metadata": {
        "id": "RB_97ZDSp8uu"
      },
      "source": [
        "df1 = pd.read_csv('/content/drive/MyDrive/Colab Notebooks/Data/dataset.csv')\r\n",
        "df2 = pd.read_csv('/content/drive/MyDrive/Colab Notebooks/Data/mydataset.csv')\r\n",
        "\r\n",
        "\r\n",
        "df1 = pd.DataFrame(df1, columns = ['commenttext','label'])\r\n",
        "df2 = pd.DataFrame(df2, columns = ['commenttext','label'])\r\n",
        "\r\n",
        "df=pd.concat([df1,df2])"
      ],
      "execution_count": 39,
      "outputs": []
    },
    {
      "cell_type": "code",
      "metadata": {
        "id": "EVcygc3t1Ytx"
      },
      "source": [
        "# possible_labels = df.label.unique()\r\n",
        "# label_dict = {}\r\n",
        "# for index, possible_label in enumerate(possible_labels):\r\n",
        "#     label_dict[possible_label] = index\r\n",
        "# print(label_dict)\r\n",
        "# df['label'] = df.label.replace(label_dict)\r\n",
        "\r\n",
        "# df.head()"
      ],
      "execution_count": 40,
      "outputs": []
    },
    {
      "cell_type": "code",
      "metadata": {
        "colab": {
          "base_uri": "https://localhost:8080/",
          "height": 297
        },
        "id": "J9PCNgOU7KZS",
        "outputId": "399f6b44-7cdf-407c-9b84-0a9303c4608a"
      },
      "source": [
        "import seaborn as sns\r\n",
        "\r\n",
        "sns.countplot(x='label', data=df)"
      ],
      "execution_count": 41,
      "outputs": [
        {
          "output_type": "execute_result",
          "data": {
            "text/plain": [
              "<matplotlib.axes._subplots.AxesSubplot at 0x7fb850383fd0>"
            ]
          },
          "metadata": {
            "tags": []
          },
          "execution_count": 41
        },
        {
          "output_type": "display_data",
          "data": {
            "image/png": "[encoded data removed]",
            "text/plain": [
              "<Figure size 432x288 with 1 Axes>"
            ]
          },
          "metadata": {
            "tags": [],
            "needs_background": "light"
          }
        }
      ]
    },
    {
      "cell_type": "code",
      "metadata": {
        "id": "ko6MPNT_rCYi"
      },
      "source": [
        "import sys\r\n",
        "sys.path.append('/content/drive/MyDrive/Colab Notebooks')\r\n",
        "\r\n",
        "from Utility import preprocess\r\n",
        "df[\"commenttext\"] = df[\"commenttext\"].apply(lambda x: x.lower())\r\n",
        "\r\n",
        "# Clean the text\r\n",
        "df[\"commenttext\"] = df[\"commenttext\"].apply(lambda x:preprocess.clean_text(x))\r\n",
        "\r\n",
        "# Clean numbers\r\n",
        "df[\"commenttext\"] = df[\"commenttext\"].apply(lambda x:preprocess.clean_numbers(x))\r\n",
        "\r\n",
        "# Clean Contractions\r\n",
        "df[\"commenttext\"] = df[\"commenttext\"].apply(lambda x:preprocess.replace_contractions(x))\r\n",
        " \r\n",
        "df[\"commenttext\"] = df[\"commenttext\"].apply(lambda x:preprocess.clean_punc(x))\r\n",
        "\r\n",
        "# lemmatize\r\n",
        "df[\"commenttext\"] = df[\"commenttext\"].apply(lambda x: preprocess.lemmatize(x))\r\n",
        "# remove stop word and custome word such as todo\r\n",
        "df[\"commenttext\"] = df[\"commenttext\"].apply(lambda x: preprocess.custm_stopwords_remove(x))\r\n",
        "\r\n",
        "\r\n",
        "\r\n",
        "\r\n",
        "\r\n"
      ],
      "execution_count": 42,
      "outputs": []
    },
    {
      "cell_type": "code",
      "metadata": {
        "id": "UqPfJqvs8dW5"
      },
      "source": [
        "def preprocess_text(sen):\r\n",
        "    # Removing html tags\r\n",
        "    sentence = remove_tags(sen)\r\n",
        "\r\n",
        "    # Remove punctuations and numbers\r\n",
        "    sentence = re.sub('[^a-zA-Z]', ' ', sentence)\r\n",
        "\r\n",
        "    # Single character removal\r\n",
        "    sentence = re.sub(r\"\\s+[a-zA-Z]\\s+\", ' ', sentence)\r\n",
        "\r\n",
        "    # Removing multiple spaces\r\n",
        "    sentence = re.sub(r'\\s+', ' ', sentence)\r\n",
        "\r\n",
        "    return sentence"
      ],
      "execution_count": 43,
      "outputs": []
    },
    {
      "cell_type": "code",
      "metadata": {
        "id": "jnD-zZpW8cey"
      },
      "source": [
        "TAG_RE = re.compile(r'<[^>]+>')\r\n",
        "\r\n",
        "def remove_tags(text):\r\n",
        "    return TAG_RE.sub('', text)"
      ],
      "execution_count": 44,
      "outputs": []
    },
    {
      "cell_type": "code",
      "metadata": {
        "id": "AUFtsYnc8p9R"
      },
      "source": [
        "X = []\r\n",
        "sentences = list(df['commenttext'])\r\n",
        "for sen in sentences:\r\n",
        "    X.append(preprocess_text(sen))"
      ],
      "execution_count": 45,
      "outputs": []
    },
    {
      "cell_type": "code",
      "metadata": {
        "colab": {
          "base_uri": "https://localhost:8080/",
          "height": 35
        },
        "id": "YoOWKfVI8yTA",
        "outputId": "b9059125-61bb-4ae9-b8d4-94a12f0af32a"
      },
      "source": [
        "X[2]"
      ],
      "execution_count": 46,
      "outputs": [
        {
          "output_type": "execute_result",
          "data": {
            "application/vnd.google.colaboratory.intrinsic+json": {
              "type": "string"
            },
            "text/plain": [
              "'hate admit know happened throw exception'"
            ]
          },
          "metadata": {
            "tags": []
          },
          "execution_count": 46
        }
      ]
    },
    {
      "cell_type": "markdown",
      "metadata": {
        "id": "dnNi59oC9G8p"
      },
      "source": [
        "Label encoder"
      ]
    },
    {
      "cell_type": "code",
      "metadata": {
        "colab": {
          "base_uri": "https://localhost:8080/"
        },
        "id": "Fz1j9ZCA9dny",
        "outputId": "7887a80f-52a9-4564-958c-cc8c8151adbf"
      },
      "source": [
        "df.label.unique()"
      ],
      "execution_count": 47,
      "outputs": [
        {
          "output_type": "execute_result",
          "data": {
            "text/plain": [
              "array(['Defect', 'Design', 'Requirement', 'Test', 'Documentation'],\n",
              "      dtype=object)"
            ]
          },
          "metadata": {
            "tags": []
          },
          "execution_count": 47
        }
      ]
    },
    {
      "cell_type": "code",
      "metadata": {
        "id": "yGxlc_om9Eeg"
      },
      "source": [
        "y = df['label']\r\n",
        "\r\n",
        "y = np.array(list(map(lambda x: 0 if x==\"Requirement\" else 1 if x==\"Design\" else 2 if x==\"Defect\" else 3 if x==\"Test\" else 4, y)))\r\n"
      ],
      "execution_count": 48,
      "outputs": []
    },
    {
      "cell_type": "code",
      "metadata": {
        "id": "9a9Rhgna-SwB"
      },
      "source": [
        "X_train, X_test, y_train, y_test = train_test_split(X, y, test_size=0.20, random_state=42)\r\n",
        "\r\n"
      ],
      "execution_count": 49,
      "outputs": []
    },
    {
      "cell_type": "code",
      "metadata": {
        "id": "jygmBRMWnvTL"
      },
      "source": [
        "# from sklearn.preprocessing import LabelEncoder\r\n",
        "# le = LabelEncoder()\r\n",
        "# y_train = le.fit_transform(y_train.values)\r\n",
        "# y_test = le.transform(y_test.values)"
      ],
      "execution_count": 50,
      "outputs": []
    },
    {
      "cell_type": "code",
      "metadata": {
        "id": "P350lT9b_FJ5"
      },
      "source": [
        "from nltk.tokenize import word_tokenize\r\n",
        "\r\n",
        "all_words = []\r\n",
        "for sent in X:\r\n",
        "    tokenize_word = word_tokenize(sent)\r\n",
        "    for word in tokenize_word:\r\n",
        "        all_words.append(word)"
      ],
      "execution_count": 51,
      "outputs": []
    },
    {
      "cell_type": "code",
      "metadata": {
        "colab": {
          "base_uri": "https://localhost:8080/"
        },
        "id": "YxMvr4QF--rI",
        "outputId": "20e78db8-685a-451e-fac6-00ad222ca046"
      },
      "source": [
        "unique_words = set(all_words)\r\n",
        "\r\n",
        "No_Of_Words=(len(unique_words))\r\n",
        "print(No_Of_Words)"
      ],
      "execution_count": 52,
      "outputs": [
        {
          "output_type": "stream",
          "text": [
            "8083\n"
          ],
          "name": "stdout"
        }
      ]
    },
    {
      "cell_type": "code",
      "metadata": {
        "id": "WUFz77DP_d-I"
      },
      "source": [
        "tokenizer = Tokenizer(num_words=No_Of_Words)\r\n",
        "tokenizer.fit_on_texts(X_train)\r\n",
        "\r\n",
        "X_train = tokenizer.texts_to_sequences(X_train)\r\n",
        "X_test = tokenizer.texts_to_sequences(X_test)"
      ],
      "execution_count": 53,
      "outputs": []
    },
    {
      "cell_type": "code",
      "metadata": {
        "id": "kbq61MHtILNJ"
      },
      "source": [
        "MaxWordsLen=700"
      ],
      "execution_count": 54,
      "outputs": []
    },
    {
      "cell_type": "code",
      "metadata": {
        "id": "NHN23zFvASho"
      },
      "source": [
        "vocab_size = len(tokenizer.word_index) + 1\r\n",
        "\r\n",
        "# max number of words in sentencecs\r\n",
        "maxlen = MaxWordsLen\r\n",
        "\r\n",
        "X_train = pad_sequences(X_train, padding='post', maxlen=maxlen)\r\n",
        "X_test = pad_sequences(X_test, padding='post', maxlen=maxlen)"
      ],
      "execution_count": 55,
      "outputs": []
    },
    {
      "cell_type": "code",
      "metadata": {
        "colab": {
          "base_uri": "https://localhost:8080/"
        },
        "id": "Hb4rDZ06DijK",
        "outputId": "082b3535-b9b1-417a-80a9-4cc3e52ef367"
      },
      "source": [
        "vocab_size "
      ],
      "execution_count": 56,
      "outputs": [
        {
          "output_type": "execute_result",
          "data": {
            "text/plain": [
              "7128"
            ]
          },
          "metadata": {
            "tags": []
          },
          "execution_count": 56
        }
      ]
    },
    {
      "cell_type": "code",
      "metadata": {
        "id": "WyspvKaiEhR5"
      },
      "source": [
        "from numpy import array\r\n",
        "from numpy import asarray\r\n",
        "from numpy import zeros\r\n",
        "\r\n",
        "embeddings_dictionary = dict()\r\n",
        "glove_file = open('/content/drive/MyDrive/Colab Notebooks/glove.840B.300d.txt', encoding=\"utf8\")\r\n",
        "\r\n",
        "for line in glove_file:\r\n",
        "    records = line.split(\" \")\r\n",
        "    word = records[0]\r\n",
        "    vector_dimensions = asarray(records[1:], dtype='float32')\r\n",
        "    embeddings_dictionary [word] = vector_dimensions\r\n",
        "glove_file.close()"
      ],
      "execution_count": 57,
      "outputs": []
    },
    {
      "cell_type": "code",
      "metadata": {
        "id": "nqdMQpKnIHrh"
      },
      "source": [
        "WordsNotInclude=[]\r\n",
        "embedding_matrix = zeros((vocab_size, 300))\r\n",
        "for word, index in tokenizer.word_index.items():\r\n",
        "    embedding_vector = embeddings_dictionary.get(word)\r\n",
        "    if embedding_vector is not None:\r\n",
        "        embedding_matrix[index] = embedding_vector\r\n",
        "    else : WordsNotInclude.append(word)"
      ],
      "execution_count": 58,
      "outputs": []
    },
    {
      "cell_type": "code",
      "metadata": {
        "colab": {
          "base_uri": "https://localhost:8080/"
        },
        "id": "ejR1bw7wJv9S",
        "outputId": "8726753e-fd91-4e36-c292-3c1eea26d693"
      },
      "source": [
        "len(WordsNotInclude)"
      ],
      "execution_count": 59,
      "outputs": [
        {
          "output_type": "execute_result",
          "data": {
            "text/plain": [
              "2548"
            ]
          },
          "metadata": {
            "tags": []
          },
          "execution_count": 59
        }
      ]
    },
    {
      "cell_type": "code",
      "metadata": {
        "id": "8Ps42aDeKPsx"
      },
      "source": [
        "model = Sequential()\r\n",
        "embedding_layer = Embedding(vocab_size, 300, weights=[embedding_matrix], input_length=maxlen , trainable=False)\r\n",
        "model.add(embedding_layer)\r\n",
        "\r\n",
        "model.add(Flatten())\r\n",
        "model.add(Dense(5, activation='softmax'))"
      ],
      "execution_count": 92,
      "outputs": []
    },
    {
      "cell_type": "code",
      "metadata": {
        "colab": {
          "base_uri": "https://localhost:8080/"
        },
        "id": "9nx9N0-xKhLQ",
        "outputId": "f8363d4d-9033-48fa-dae9-c1b9d8d25f70"
      },
      "source": [
        "model.compile(optimizer='adam', loss='sparse_categorical_crossentropy', metrics=['acc'])\r\n",
        "\r\n",
        "print(model.summary())"
      ],
      "execution_count": 93,
      "outputs": [
        {
          "output_type": "stream",
          "text": [
            "Model: \"sequential_7\"\n",
            "_________________________________________________________________\n",
            "Layer (type)                 Output Shape              Param #   \n",
            "=================================================================\n",
            "embedding_7 (Embedding)      (None, 700, 300)          2138400   \n",
            "_________________________________________________________________\n",
            "flatten_3 (Flatten)          (None, 210000)            0         \n",
            "_________________________________________________________________\n",
            "dense_7 (Dense)              (None, 5)                 1050005   \n",
            "=================================================================\n",
            "Total params: 3,188,405\n",
            "Trainable params: 1,050,005\n",
            "Non-trainable params: 2,138,400\n",
            "_________________________________________________________________\n",
            "None\n"
          ],
          "name": "stdout"
        }
      ]
    },
    {
      "cell_type": "code",
      "metadata": {
        "colab": {
          "base_uri": "https://localhost:8080/"
        },
        "id": "KRWHpc43KtoR",
        "outputId": "124dac22-524a-4544-bb4b-0790229df88f"
      },
      "source": [
        "history = model.fit(X_train, y_train, batch_size=128, epochs=6, verbose=1, validation_split=0.2)\r\n"
      ],
      "execution_count": 94,
      "outputs": [
        {
          "output_type": "stream",
          "text": [
            "Epoch 1/6\n",
            "28/28 [==============================] - 1s 43ms/step - loss: 1.2899 - acc: 0.5240 - val_loss: 1.0441 - val_acc: 0.6376\n",
            "Epoch 2/6\n",
            "28/28 [==============================] - 1s 38ms/step - loss: 0.8673 - acc: 0.6834 - val_loss: 0.9487 - val_acc: 0.6711\n",
            "Epoch 3/6\n",
            "28/28 [==============================] - 1s 38ms/step - loss: 0.7139 - acc: 0.7518 - val_loss: 0.9070 - val_acc: 0.7136\n",
            "Epoch 4/6\n",
            "28/28 [==============================] - 1s 38ms/step - loss: 0.6296 - acc: 0.7905 - val_loss: 0.8755 - val_acc: 0.7159\n",
            "Epoch 5/6\n",
            "28/28 [==============================] - 1s 38ms/step - loss: 0.5669 - acc: 0.8165 - val_loss: 0.8633 - val_acc: 0.7181\n",
            "Epoch 6/6\n",
            "28/28 [==============================] - 1s 38ms/step - loss: 0.5322 - acc: 0.8249 - val_loss: 0.8543 - val_acc: 0.7215\n"
          ],
          "name": "stdout"
        }
      ]
    },
    {
      "cell_type": "code",
      "metadata": {
        "colab": {
          "base_uri": "https://localhost:8080/"
        },
        "id": "X8zOScDDK1bq",
        "outputId": "1d993163-501c-40fa-ad5d-0f42d249c872"
      },
      "source": [
        "score = model.evaluate(X_test, y_test, verbose=1)"
      ],
      "execution_count": 95,
      "outputs": [
        {
          "output_type": "stream",
          "text": [
            "35/35 [==============================] - 0s 9ms/step - loss: 0.8631 - acc: 0.6992\n"
          ],
          "name": "stdout"
        }
      ]
    },
    {
      "cell_type": "code",
      "metadata": {
        "colab": {
          "base_uri": "https://localhost:8080/"
        },
        "id": "BCmboyX-LKV5",
        "outputId": "44c12fca-ae50-4625-c637-c6e7e6b9fabd"
      },
      "source": [
        "print(\"Test Score:\", score[0])\r\n",
        "print(\"Test Accuracy:\", score[1])"
      ],
      "execution_count": 65,
      "outputs": [
        {
          "output_type": "stream",
          "text": [
            "Test Score: 0.8047646880149841\n",
            "Test Accuracy: 0.7170993685722351\n"
          ],
          "name": "stdout"
        }
      ]
    },
    {
      "cell_type": "code",
      "metadata": {
        "colab": {
          "base_uri": "https://localhost:8080/",
          "height": 573
        },
        "id": "mnFNtA-oLSez",
        "outputId": "08bd6dbd-4baf-4d7c-d8db-cecae346f758"
      },
      "source": [
        "import matplotlib.pyplot as plt\r\n",
        "\r\n",
        "plt.plot(history.history['acc'])\r\n",
        "plt.plot(history.history['val_acc'])\r\n",
        "\r\n",
        "plt.title('model accuracy')\r\n",
        "plt.ylabel('accuracy')\r\n",
        "plt.xlabel('epoch')\r\n",
        "plt.legend(['train','test'], loc = 'upper left')\r\n",
        "plt.show()\r\n",
        "\r\n",
        "plt.plot(history.history['loss'])\r\n",
        "plt.plot(history.history['val_loss'])\r\n",
        "\r\n",
        "plt.title('model loss')\r\n",
        "plt.ylabel('loss')\r\n",
        "plt.xlabel('epoch')\r\n",
        "plt.legend(['train','test'], loc = 'upper left')\r\n",
        "plt.show()"
      ],
      "execution_count": 66,
      "outputs": [
        {
          "output_type": "display_data",
          "data": {
            "image/png": "[encoded data removed]",
            "text/plain": [
              "<Figure size 432x288 with 1 Axes>"
            ]
          },
          "metadata": {
            "tags": [],
            "needs_background": "light"
          }
        },
        {
          "output_type": "display_data",
          "data": {
            "image/png": "[encoded data removed]",
            "text/plain": [
              "<Figure size 432x288 with 1 Axes>"
            ]
          },
          "metadata": {
            "tags": [],
            "needs_background": "light"
          }
        }
      ]
    },
    {
      "cell_type": "markdown",
      "metadata": {
        "id": "FjT4SnmBrJ06"
      },
      "source": [
        "CNN"
      ]
    },
    {
      "cell_type": "code",
      "metadata": {
        "id": "V7pS7PiRbH49"
      },
      "source": [
        "from keras.layers import Conv1D, MaxPooling1D, Embedding\r\n",
        "model = Sequential()\r\n",
        "\r\n",
        "embedding_layer = Embedding( vocab_size, 300, weights=[embedding_matrix], input_length=maxlen , trainable=True)\r\n",
        "model.add(embedding_layer)\r\n",
        "\r\n",
        "model.add(Conv1D(128, 5, activation='relu'))\r\n",
        "model.add(GlobalMaxPooling1D())\r\n",
        "model.add(Dense(units=5, activation='softmax'))\r\n",
        "model.compile(optimizer='adam', loss='sparse_categorical_crossentropy', metrics=['acc'])"
      ],
      "execution_count": 100,
      "outputs": []
    },
    {
      "cell_type": "code",
      "metadata": {
        "colab": {
          "base_uri": "https://localhost:8080/"
        },
        "id": "tgqBPoxWb3dJ",
        "outputId": "7b27275b-a723-499b-d70d-87a11fa4b5c8"
      },
      "source": [
        "print(model.summary())"
      ],
      "execution_count": 101,
      "outputs": [
        {
          "output_type": "stream",
          "text": [
            "Model: \"sequential_9\"\n",
            "_________________________________________________________________\n",
            "Layer (type)                 Output Shape              Param #   \n",
            "=================================================================\n",
            "embedding_9 (Embedding)      (None, 700, 300)          2138400   \n",
            "_________________________________________________________________\n",
            "conv1d_4 (Conv1D)            (None, 696, 128)          192128    \n",
            "_________________________________________________________________\n",
            "global_max_pooling1d_4 (Glob (None, 128)               0         \n",
            "_________________________________________________________________\n",
            "dense_9 (Dense)              (None, 5)                 645       \n",
            "=================================================================\n",
            "Total params: 2,331,173\n",
            "Trainable params: 2,331,173\n",
            "Non-trainable params: 0\n",
            "_________________________________________________________________\n",
            "None\n"
          ],
          "name": "stdout"
        }
      ]
    },
    {
      "cell_type": "code",
      "metadata": {
        "colab": {
          "base_uri": "https://localhost:8080/"
        },
        "id": "ca2oxXCBb8pJ",
        "outputId": "cef59226-3fbd-4229-c651-0e91d73a6c80"
      },
      "source": [
        "history = model.fit(X_train, y_train, batch_size=128, epochs=10, verbose=1, validation_split=0)\r\n",
        "\r\n",
        "score = model.evaluate(X_test, y_test, verbose=1)"
      ],
      "execution_count": 103,
      "outputs": [
        {
          "output_type": "stream",
          "text": [
            "Epoch 1/10\n",
            "35/35 [==============================] - 4s 101ms/step - loss: 0.4177 - acc: 0.8536\n",
            "Epoch 2/10\n",
            "35/35 [==============================] - 3s 97ms/step - loss: 0.1684 - acc: 0.9568\n",
            "Epoch 3/10\n",
            "35/35 [==============================] - 3s 98ms/step - loss: 0.1005 - acc: 0.9807\n",
            "Epoch 4/10\n",
            "35/35 [==============================] - 3s 98ms/step - loss: 0.0691 - acc: 0.9888\n",
            "Epoch 5/10\n",
            "35/35 [==============================] - 3s 98ms/step - loss: 0.0561 - acc: 0.9895\n",
            "Epoch 6/10\n",
            "35/35 [==============================] - 3s 98ms/step - loss: 0.0467 - acc: 0.9922\n",
            "Epoch 7/10\n",
            "35/35 [==============================] - 3s 98ms/step - loss: 0.0408 - acc: 0.9931\n",
            "Epoch 8/10\n",
            "35/35 [==============================] - 3s 98ms/step - loss: 0.0376 - acc: 0.9933\n",
            "Epoch 9/10\n",
            "35/35 [==============================] - 3s 98ms/step - loss: 0.0350 - acc: 0.9931\n",
            "Epoch 10/10\n",
            "35/35 [==============================] - 3s 98ms/step - loss: 0.0341 - acc: 0.9924\n",
            "35/35 [==============================] - 0s 10ms/step - loss: 0.8213 - acc: 0.7619\n"
          ],
          "name": "stdout"
        }
      ]
    },
    {
      "cell_type": "code",
      "metadata": {
        "colab": {
          "base_uri": "https://localhost:8080/"
        },
        "id": "5SMtaQQtcDNz",
        "outputId": "8ee9ccbf-de11-4ab3-81a9-d2709933c8c2"
      },
      "source": [
        "print(\"Test Score:\", score[0])\r\n",
        "print(\"Test Accuracy:\", score[1])"
      ],
      "execution_count": 104,
      "outputs": [
        {
          "output_type": "stream",
          "text": [
            "Test Score: 0.8212652206420898\n",
            "Test Accuracy: 0.7618621587753296\n"
          ],
          "name": "stdout"
        }
      ]
    },
    {
      "cell_type": "code",
      "metadata": {
        "colab": {
          "base_uri": "https://localhost:8080/",
          "height": 573
        },
        "id": "WjexT_LMcNPC",
        "outputId": "b1e19564-a8e7-4b30-9f19-7c118e817f5f"
      },
      "source": [
        "import matplotlib.pyplot as plt\r\n",
        "\r\n",
        "plt.plot(history.history['acc'])\r\n",
        "plt.plot(history.history['val_acc'])\r\n",
        "\r\n",
        "plt.title('model accuracy')\r\n",
        "plt.ylabel('accuracy')\r\n",
        "plt.xlabel('epoch')\r\n",
        "plt.legend(['train','test'], loc = 'upper left')\r\n",
        "plt.show()\r\n",
        "\r\n",
        "plt.plot(history.history['loss'])\r\n",
        "plt.plot(history.history['val_loss'])\r\n",
        "\r\n",
        "plt.title('model loss')\r\n",
        "plt.ylabel('loss')\r\n",
        "plt.xlabel('epoch')\r\n",
        "plt.legend(['train','test'], loc = 'upper left')\r\n",
        "plt.show()"
      ],
      "execution_count": 71,
      "outputs": [
        {
          "output_type": "display_data",
          "data": {
            "image/png": "[encoded data removed]",
            "text/plain": [
              "<Figure size 432x288 with 1 Axes>"
            ]
          },
          "metadata": {
            "tags": [],
            "needs_background": "light"
          }
        },
        {
          "output_type": "display_data",
          "data": {
            "image/png": "[encoded data removed]",
            "text/plain": [
              "<Figure size 432x288 with 1 Axes>"
            ]
          },
          "metadata": {
            "tags": [],
            "needs_background": "light"
          }
        }
      ]
    },
    {
      "cell_type": "markdown",
      "metadata": {
        "id": "xZkZtsuSrGnu"
      },
      "source": [
        "LSTM"
      ]
    },
    {
      "cell_type": "code",
      "metadata": {
        "id": "KMVoTnxQq-VT"
      },
      "source": [
        "from keras.layers import Dense,LSTM\r\n",
        "model = Sequential()\r\n",
        "embedding_layer = Embedding(vocab_size, 300, weights=[embedding_matrix], input_length=maxlen , trainable=False)\r\n",
        "model.add(embedding_layer)\r\n",
        "model.add(LSTM(128))\r\n",
        "\r\n",
        "model.add(Dense(5, activation='softmax'))\r\n",
        "model.compile(optimizer='adam', loss='sparse_categorical_crossentropy', metrics=['acc'])"
      ],
      "execution_count": 72,
      "outputs": []
    },
    {
      "cell_type": "code",
      "metadata": {
        "colab": {
          "base_uri": "https://localhost:8080/"
        },
        "id": "wCa3vtUOrZIZ",
        "outputId": "1ab6e9ba-e566-4a9e-9932-c97147e5d61b"
      },
      "source": [
        "print(model.summary())"
      ],
      "execution_count": 73,
      "outputs": [
        {
          "output_type": "stream",
          "text": [
            "Model: \"sequential_4\"\n",
            "_________________________________________________________________\n",
            "Layer (type)                 Output Shape              Param #   \n",
            "=================================================================\n",
            "embedding_4 (Embedding)      (None, 700, 300)          2138400   \n",
            "_________________________________________________________________\n",
            "lstm (LSTM)                  (None, 128)               219648    \n",
            "_________________________________________________________________\n",
            "dense_4 (Dense)              (None, 5)                 645       \n",
            "=================================================================\n",
            "Total params: 2,358,693\n",
            "Trainable params: 220,293\n",
            "Non-trainable params: 2,138,400\n",
            "_________________________________________________________________\n",
            "None\n"
          ],
          "name": "stdout"
        }
      ]
    },
    {
      "cell_type": "code",
      "metadata": {
        "colab": {
          "base_uri": "https://localhost:8080/"
        },
        "id": "XC3Agx85rmPi",
        "outputId": "6b74feaf-abd9-47b9-dab0-b1eb9136b4a6"
      },
      "source": [
        "history = model.fit(X_train, y_train, batch_size=128, epochs=6, verbose=1, validation_split=0.2)\r\n",
        "\r\n",
        "score = model.evaluate(X_test, y_test, verbose=1)"
      ],
      "execution_count": 74,
      "outputs": [
        {
          "output_type": "stream",
          "text": [
            "Epoch 1/6\n",
            "28/28 [==============================] - 5s 116ms/step - loss: 1.4452 - acc: 0.5240 - val_loss: 1.1615 - val_acc: 0.5872\n",
            "Epoch 2/6\n",
            "28/28 [==============================] - 3s 101ms/step - loss: 1.1434 - acc: 0.5935 - val_loss: 1.1574 - val_acc: 0.5872\n",
            "Epoch 3/6\n",
            "28/28 [==============================] - 3s 101ms/step - loss: 1.1322 - acc: 0.5924 - val_loss: 1.1560 - val_acc: 0.5872\n",
            "Epoch 4/6\n",
            "28/28 [==============================] - 3s 100ms/step - loss: 1.1639 - acc: 0.5810 - val_loss: 1.1566 - val_acc: 0.5872\n",
            "Epoch 5/6\n",
            "28/28 [==============================] - 3s 101ms/step - loss: 1.1465 - acc: 0.5876 - val_loss: 1.1608 - val_acc: 0.5872\n",
            "Epoch 6/6\n",
            "28/28 [==============================] - 3s 101ms/step - loss: 1.1359 - acc: 0.5986 - val_loss: 1.1578 - val_acc: 0.5872\n",
            "35/35 [==============================] - 1s 21ms/step - loss: 1.1435 - acc: 0.5944\n"
          ],
          "name": "stdout"
        }
      ]
    },
    {
      "cell_type": "code",
      "metadata": {
        "colab": {
          "base_uri": "https://localhost:8080/"
        },
        "id": "NTwBLUrPsaBi",
        "outputId": "a3241c30-d600-4883-e72c-b0fcde32937e"
      },
      "source": [
        "print(\"Test Score:\", score[0])\r\n",
        "print(\"Test Accuracy:\", score[1])"
      ],
      "execution_count": 75,
      "outputs": [
        {
          "output_type": "stream",
          "text": [
            "Test Score: 1.1435426473617554\n",
            "Test Accuracy: 0.5944494009017944\n"
          ],
          "name": "stdout"
        }
      ]
    },
    {
      "cell_type": "code",
      "metadata": {
        "colab": {
          "base_uri": "https://localhost:8080/",
          "height": 573
        },
        "id": "opo_88AksePr",
        "outputId": "8b1fe4ce-5cb6-4246-8a4d-7310735fab49"
      },
      "source": [
        "import matplotlib.pyplot as plt\r\n",
        "\r\n",
        "plt.plot(history.history['acc'])\r\n",
        "plt.plot(history.history['val_acc'])\r\n",
        "\r\n",
        "plt.title('model accuracy')\r\n",
        "plt.ylabel('accuracy')\r\n",
        "plt.xlabel('epoch')\r\n",
        "plt.legend(['train','test'], loc = 'upper left')\r\n",
        "plt.show()\r\n",
        "\r\n",
        "plt.plot(history.history['loss'])\r\n",
        "plt.plot(history.history['val_loss'])\r\n",
        "\r\n",
        "plt.title('model loss')\r\n",
        "plt.ylabel('loss')\r\n",
        "plt.xlabel('epoch')\r\n",
        "plt.legend(['train','test'], loc = 'upper left')\r\n",
        "plt.show()"
      ],
      "execution_count": 76,
      "outputs": [
        {
          "output_type": "display_data",
          "data": {
            "image/png": "[encoded data removed]",
            "text/plain": [
              "<Figure size 432x288 with 1 Axes>"
            ]
          },
          "metadata": {
            "tags": [],
            "needs_background": "light"
          }
        },
        {
          "output_type": "display_data",
          "data": {
            "image/png": "[encoded data removed]",
            "text/plain": [
              "<Figure size 432x288 with 1 Axes>"
            ]
          },
          "metadata": {
            "tags": [],
            "needs_background": "light"
          }
        }
      ]
    }
  ]
}