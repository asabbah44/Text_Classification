{
  "nbformat": 4,
  "nbformat_minor": 0,
  "metadata": {
    "accelerator": "GPU",
    "colab": {
      "name": "WordEmbeddings.ipynb",
      "provenance": [],
      "collapsed_sections": [],
      "mount_file_id": "17oQdwHfGu4h7PohyI8wsvKKLFqsevWxs",
      "authorship_tag": "ABX9TyMNL2J39E0wir/6tIho9Wpd",
      "include_colab_link": true
    },
    "kernelspec": {
      "display_name": "Python 3",
      "name": "python3"
    }
  },
  "cells": [
    {
      "cell_type": "markdown",
      "metadata": {
        "id": "view-in-github",
        "colab_type": "text"
      },
      "source": [
        "<a href=\"https://colab.research.google.com/github/asabbah44/Text_Classification/blob/main/WordEmbeddings.ipynb\" target=\"_parent\"><img src=\"https://colab.research.google.com/assets/colab-badge.svg\" alt=\"Open In Colab\"/></a>"
      ]
    },
    {
      "cell_type": "markdown",
      "metadata": {
        "id": "er_Yl3KKPzEa"
      },
      "source": [
        "https://stackabuse.com/python-for-nlp-movie-sentiment-analysis-using-deep-learning-in-keras/"
      ]
    },
    {
      "cell_type": "code",
      "metadata": {
        "id": "EK9BZOjcpxDA"
      },
      "source": [
        "import pandas as pd\n",
        "import numpy as np\n",
        "import re\n",
        "import nltk\n",
        "from nltk.corpus import stopwords\n",
        "\n",
        "from numpy import array\n",
        "from keras.preprocessing.text import one_hot\n",
        "from keras.preprocessing.sequence import pad_sequences\n",
        "from keras.models import Sequential\n",
        "from keras.layers.core import Activation, Dropout, Dense\n",
        "from keras.layers import Flatten\n",
        "from keras.layers import GlobalMaxPooling1D\n",
        "from keras.layers.embeddings import Embedding\n",
        "from sklearn.model_selection import train_test_split\n",
        "from keras.preprocessing.text import Tokenizer"
      ],
      "execution_count": 1,
      "outputs": []
    },
    {
      "cell_type": "code",
      "metadata": {
        "id": "RB_97ZDSp8uu"
      },
      "source": [
        "df1 = pd.read_csv('/content/drive/MyDrive/Colab Notebooks/Data/dataset.csv')\n",
        "df2 = pd.read_csv('/content/drive/MyDrive/Colab Notebooks/Data/mydatasetfinal.csv')\n",
        "\n",
        "\n",
        "df1 = pd.DataFrame(df1, columns = ['commenttext','label'])\n",
        "df2 = pd.DataFrame(df2, columns = ['commenttext','label'])\n",
        "\n",
        "df=df2#pd.concat([df1,df2])\n",
        "#df=df2"
      ],
      "execution_count": 2,
      "outputs": []
    },
    {
      "cell_type": "code",
      "metadata": {
        "id": "EVcygc3t1Ytx"
      },
      "source": [
        "# possible_labels = df.label.unique()\n",
        "# label_dict = {}\n",
        "# for index, possible_label in enumerate(possible_labels):\n",
        "#     label_dict[possible_label] = index\n",
        "# print(label_dict)\n",
        "# df['label'] = df.label.replace(label_dict)\n",
        "\n",
        "# df.head()"
      ],
      "execution_count": 3,
      "outputs": []
    },
    {
      "cell_type": "code",
      "metadata": {
        "colab": {
          "base_uri": "https://localhost:8080/",
          "height": 297
        },
        "id": "J9PCNgOU7KZS",
        "outputId": "3e1b7d6e-7197-4376-a315-c2fdc79ae264"
      },
      "source": [
        "import seaborn as sns\n",
        "\n",
        "sns.countplot(x='label', data=df)"
      ],
      "execution_count": 4,
      "outputs": [
        {
          "output_type": "execute_result",
          "data": {
            "text/plain": [
              "<matplotlib.axes._subplots.AxesSubplot at 0x7f8c8d005e10>"
            ]
          },
          "metadata": {
            "tags": []
          },
          "execution_count": 4
        },
        {
          "output_type": "display_data",
          "data": {
            "image/png": "[encoded data removed]",
            "text/plain": [
              "<Figure size 432x288 with 1 Axes>"
            ]
          },
          "metadata": {
            "tags": [],
            "needs_background": "light"
          }
        }
      ]
    },
    {
      "cell_type": "code",
      "metadata": {
        "id": "ko6MPNT_rCYi",
        "colab": {
          "base_uri": "https://localhost:8080/"
        },
        "outputId": "81cb69fe-a603-4bdd-e987-bff193e85dde"
      },
      "source": [
        "import sys\n",
        "sys.path.append('/content/drive/MyDrive/Colab Notebooks')\n",
        "\n",
        "from Utility import preprocess\n",
        "# df[\"commenttext\"] = df[\"commenttext\"].apply(lambda x: x.lower())\n",
        "\n",
        "# # Clean the text\n",
        "# df[\"commenttext\"] = df[\"commenttext\"].apply(lambda x:preprocess.clean_text(x))\n",
        "\n",
        "# # Clean numbers\n",
        "# df[\"commenttext\"] = df[\"commenttext\"].apply(lambda x:preprocess.clean_numbers(x))\n",
        "\n",
        "# # Clean Contractions\n",
        "df[\"commenttext\"] = df[\"commenttext\"].apply(lambda x:preprocess.replace_contractions(x))\n",
        " \n",
        "# df[\"commenttext\"] = df[\"commenttext\"].apply(lambda x:preprocess.clean_punc(x))\n",
        "\n",
        "# # lemmatize\n",
        "df[\"commenttext\"] = df[\"commenttext\"].apply(lambda x: preprocess.lemmatize(x))\n",
        "# # remove stop word and custome word such as todo\n",
        "# df[\"commenttext\"] = df[\"commenttext\"].apply(lambda x: preprocess.custm_stopwords_remove(x))\n",
        "\n"
      ],
      "execution_count": 5,
      "outputs": [
        {
          "output_type": "stream",
          "text": [
            "[nltk_data] Downloading package wordnet to /root/nltk_data...\n",
            "[nltk_data]   Unzipping corpora/wordnet.zip.\n",
            "[nltk_data] Downloading package punkt to /root/nltk_data...\n",
            "[nltk_data]   Unzipping tokenizers/punkt.zip.\n",
            "[nltk_data] Downloading package stopwords to /root/nltk_data...\n",
            "[nltk_data]   Unzipping corpora/stopwords.zip.\n"
          ],
          "name": "stdout"
        }
      ]
    },
    {
      "cell_type": "code",
      "metadata": {
        "id": "UqPfJqvs8dW5"
      },
      "source": [
        "def preprocess_text(sen):\n",
        "    # Removing html tags\n",
        "    sentence = remove_tags(sen)\n",
        "\n",
        "    # Remove punctuations and numbers\n",
        "    sentence = re.sub('[^a-zA-Z]', ' ', sentence)\n",
        "\n",
        "    # Single character removal\n",
        "    sentence = re.sub(r\"\\s+[a-zA-Z]\\s+\", ' ', sentence)\n",
        "\n",
        "    # Removing multiple spaces\n",
        "    sentence = re.sub(r'\\s+', ' ', sentence)\n",
        "\n",
        "    return sentence"
      ],
      "execution_count": 6,
      "outputs": []
    },
    {
      "cell_type": "code",
      "metadata": {
        "id": "jnD-zZpW8cey"
      },
      "source": [
        "TAG_RE = re.compile(r'<[^>]+>')\n",
        "\n",
        "def remove_tags(text):\n",
        "    return TAG_RE.sub('', text)"
      ],
      "execution_count": 7,
      "outputs": []
    },
    {
      "cell_type": "code",
      "metadata": {
        "id": "AUFtsYnc8p9R"
      },
      "source": [
        "X = []\n",
        "sentences = list(df['commenttext'])\n",
        "for sen in sentences:\n",
        "    X.append(preprocess_text(sen))"
      ],
      "execution_count": 8,
      "outputs": []
    },
    {
      "cell_type": "code",
      "metadata": {
        "colab": {
          "base_uri": "https://localhost:8080/",
          "height": 35
        },
        "id": "YoOWKfVI8yTA",
        "outputId": "1316f888-6b45-414c-fa25-756390be7cb7"
      },
      "source": [
        "X[2]"
      ],
      "execution_count": 9,
      "outputs": [
        {
          "output_type": "execute_result",
          "data": {
            "application/vnd.google.colaboratory.intrinsic+json": {
              "type": "string"
            },
            "text/plain": [
              "'added test case and implementation for'"
            ]
          },
          "metadata": {
            "tags": []
          },
          "execution_count": 9
        }
      ]
    },
    {
      "cell_type": "markdown",
      "metadata": {
        "id": "dnNi59oC9G8p"
      },
      "source": [
        "Label encoder"
      ]
    },
    {
      "cell_type": "code",
      "metadata": {
        "colab": {
          "base_uri": "https://localhost:8080/"
        },
        "id": "Fz1j9ZCA9dny",
        "outputId": "5deed4cc-74dc-4a95-f098-2bc11b58b0ca"
      },
      "source": [
        "df.label.unique()"
      ],
      "execution_count": 10,
      "outputs": [
        {
          "output_type": "execute_result",
          "data": {
            "text/plain": [
              "array(['Documentation', 'Requirement', 'Test', 'Design', 'Defect'],\n",
              "      dtype=object)"
            ]
          },
          "metadata": {
            "tags": []
          },
          "execution_count": 10
        }
      ]
    },
    {
      "cell_type": "code",
      "metadata": {
        "id": "yGxlc_om9Eeg"
      },
      "source": [
        "y = df['label']\n",
        "\n",
        "y = np.array(list(map(lambda x: 0 if x==\"Requirement\" else 1 if x==\"Design\" else 2 if x==\"Defect\" else 3 if x==\"Test\" else 4, y)))\n"
      ],
      "execution_count": 11,
      "outputs": []
    },
    {
      "cell_type": "code",
      "metadata": {
        "id": "9a9Rhgna-SwB"
      },
      "source": [
        "X_train, X_test, y_train, y_test = train_test_split(X, y, test_size=0.20, random_state=42)\n",
        "\n"
      ],
      "execution_count": 12,
      "outputs": []
    },
    {
      "cell_type": "code",
      "metadata": {
        "id": "jygmBRMWnvTL"
      },
      "source": [
        "# from sklearn.preprocessing import LabelEncoder\n",
        "# le = LabelEncoder()\n",
        "# y_train = le.fit_transform(y_train.values)\n",
        "# y_test = le.transform(y_test.values)"
      ],
      "execution_count": 13,
      "outputs": []
    },
    {
      "cell_type": "code",
      "metadata": {
        "id": "P350lT9b_FJ5",
        "colab": {
          "base_uri": "https://localhost:8080/"
        },
        "outputId": "830cadf6-500a-4a28-ccac-b5b4018834fd"
      },
      "source": [
        "from nltk.tokenize import word_tokenize\n",
        "import nltk\n",
        "nltk.download('punkt')\n",
        "all_words = []\n",
        "for sent in X:\n",
        "    tokenize_word = word_tokenize(sent)\n",
        "    for word in tokenize_word:\n",
        "        all_words.append(word)"
      ],
      "execution_count": 14,
      "outputs": [
        {
          "output_type": "stream",
          "text": [
            "[nltk_data] Downloading package punkt to /root/nltk_data...\n",
            "[nltk_data]   Package punkt is already up-to-date!\n"
          ],
          "name": "stdout"
        }
      ]
    },
    {
      "cell_type": "code",
      "metadata": {
        "colab": {
          "base_uri": "https://localhost:8080/"
        },
        "id": "YxMvr4QF--rI",
        "outputId": "82708a8d-1a86-4fc2-cd69-d418e951112f"
      },
      "source": [
        "unique_words = set(all_words)\n",
        "\n",
        "No_Of_Words=(len(unique_words))\n",
        "print(No_Of_Words)"
      ],
      "execution_count": 15,
      "outputs": [
        {
          "output_type": "stream",
          "text": [
            "4520\n"
          ],
          "name": "stdout"
        }
      ]
    },
    {
      "cell_type": "code",
      "metadata": {
        "id": "WUFz77DP_d-I"
      },
      "source": [
        "tokenizer = Tokenizer(num_words=No_Of_Words)\n",
        "tokenizer.fit_on_texts(X_train)\n",
        "\n",
        "X_train = tokenizer.texts_to_sequences(X_train)\n",
        "X_test = tokenizer.texts_to_sequences(X_test)"
      ],
      "execution_count": 16,
      "outputs": []
    },
    {
      "cell_type": "code",
      "metadata": {
        "colab": {
          "base_uri": "https://localhost:8080/"
        },
        "id": "hFYKd7WpSeDx",
        "outputId": "b6b04e14-486e-450f-da35-9f45d1a03530"
      },
      "source": [
        "word_count = lambda sentence: len(word_tokenize(sentence))\n",
        "longest_sentence = max(df.commenttext, key=word_count)\n",
        "length_long_sentence = len(word_tokenize(longest_sentence))\n",
        "print(length_long_sentence)"
      ],
      "execution_count": 17,
      "outputs": [
        {
          "output_type": "stream",
          "text": [
            "1394\n"
          ],
          "name": "stdout"
        }
      ]
    },
    {
      "cell_type": "code",
      "metadata": {
        "id": "kbq61MHtILNJ"
      },
      "source": [
        "MaxWordsLen=length_long_sentence"
      ],
      "execution_count": 18,
      "outputs": []
    },
    {
      "cell_type": "code",
      "metadata": {
        "id": "NHN23zFvASho"
      },
      "source": [
        "vocab_size = len(tokenizer.word_index) + 1\n",
        "\n",
        "# max number of words in sentencecs\n",
        "maxlen = MaxWordsLen\n",
        "\n",
        "X_train = pad_sequences(X_train, padding='post', maxlen=maxlen)\n",
        "X_test = pad_sequences(X_test, padding='post', maxlen=maxlen)\n",
        "\n"
      ],
      "execution_count": 19,
      "outputs": []
    },
    {
      "cell_type": "code",
      "metadata": {
        "colab": {
          "base_uri": "https://localhost:8080/"
        },
        "id": "Hb4rDZ06DijK",
        "outputId": "ce77bd85-43cf-4eec-feb1-3ef0935b705d"
      },
      "source": [
        "vocab_size "
      ],
      "execution_count": 20,
      "outputs": [
        {
          "output_type": "execute_result",
          "data": {
            "text/plain": [
              "3417"
            ]
          },
          "metadata": {
            "tags": []
          },
          "execution_count": 20
        }
      ]
    },
    {
      "cell_type": "markdown",
      "metadata": {
        "id": "kztbnrwKWk3I"
      },
      "source": [
        "Chose which model to use"
      ]
    },
    {
      "cell_type": "code",
      "metadata": {
        "id": "45jtcOnBWpy4"
      },
      "source": [
        "model_type=2 # 2-word2vec , 1- Glove, \n",
        "EMBEDDING_DIM=100"
      ],
      "execution_count": 21,
      "outputs": []
    },
    {
      "cell_type": "code",
      "metadata": {
        "id": "WyspvKaiEhR5"
      },
      "source": [
        "from numpy import array\n",
        "from numpy import asarray\n",
        "from numpy import zeros\n",
        "import gensim\n",
        "from gensim import corpora, models, similarities\n",
        "\n",
        "embeddings_dictionary = dict()\n",
        "if(model_type==1) :\n",
        "\n",
        " glove_file = open('/content/drive/MyDrive/Colab Notebooks/glove.840B.300d.txt', encoding=\"utf8\")\n",
        "\n",
        " for line in glove_file:\n",
        "    records = line.split(\" \")\n",
        "    word = records[0]\n",
        "    vector_dimensions = asarray(records[1:], dtype='float32')\n",
        "    embeddings_dictionary [word] = vector_dimensions\n",
        " glove_file.close()\n",
        "\n",
        "elif (model_type==2):\n",
        " w2v_model = gensim.models.KeyedVectors.load_word2vec_format('/content/drive/MyDrive/Colab Notebooks/Data/test.bin', binary=True)\n",
        " word_vectors = w2v_model\n",
        " word_index = tokenizer.word_index\n",
        " for word, i in word_index.items():\n",
        "    if i>=No_Of_Words:\n",
        "        continue\n",
        "    try:\n",
        "        embedding_vector = word_vectors[word]\n",
        "        embeddings_dictionary[word] = embedding_vector\n",
        "    except KeyError:\n",
        "      continue\n",
        "      #  embeddings_dictionary[i]=np.random.normal(0,np.sqrt(0.25),EMBEDDING_DIM)\n",
        "\n",
        " del(word_vectors)\n",
        "\n",
        "elif (model_type==3):\n",
        "       !pip install tqdm\n",
        "       from gensim.models.wrappers import FastText\n",
        "       from tqdm import tqdm\n",
        "       print('loading FastText word embeddings...')\n",
        "       embeddings_index = {}\n",
        "       f = open('/content/drive/MyDrive/Colab Notebooks/crawl-300d-2M.vec',encoding='utf-8')\n",
        "       for line in tqdm(f):\n",
        "        values = line.strip().rsplit(' ')\n",
        "        word = values[0]\n",
        "        vector_dimensions = np.asarray(values[1:], dtype='float32')\n",
        "        embeddings_dictionary[word] = vector_dimensions\n",
        "       f.close()\n",
        "else:\n",
        "   print(\"No Model\")"
      ],
      "execution_count": 22,
      "outputs": []
    },
    {
      "cell_type": "markdown",
      "metadata": {
        "id": "FWXN8L_Vlwyp"
      },
      "source": [
        ""
      ]
    },
    {
      "cell_type": "code",
      "metadata": {
        "id": "nqdMQpKnIHrh"
      },
      "source": [
        "WordsNotInclude=[]\n",
        "embedding_matrix = zeros((vocab_size,  EMBEDDING_DIM))\n",
        "for word, index in tokenizer.word_index.items():\n",
        "    embedding_vector = embeddings_dictionary.get(word)\n",
        "    if embedding_vector is not None:\n",
        "        embedding_matrix[index] = embedding_vector\n",
        "    else : WordsNotInclude.append(word)"
      ],
      "execution_count": 23,
      "outputs": []
    },
    {
      "cell_type": "code",
      "metadata": {
        "colab": {
          "base_uri": "https://localhost:8080/"
        },
        "id": "ejR1bw7wJv9S",
        "outputId": "5e528351-342b-418a-ec20-5ca1ce6e078a"
      },
      "source": [
        "len(WordsNotInclude)"
      ],
      "execution_count": 24,
      "outputs": [
        {
          "output_type": "execute_result",
          "data": {
            "text/plain": [
              "575"
            ]
          },
          "metadata": {
            "tags": []
          },
          "execution_count": 24
        }
      ]
    },
    {
      "cell_type": "code",
      "metadata": {
        "colab": {
          "base_uri": "https://localhost:8080/"
        },
        "id": "7J5wvptAUZBP",
        "outputId": "0406271c-e6db-4bb8-a4d0-42754d525c50"
      },
      "source": [
        "print(embeddings_dictionary.get(1))"
      ],
      "execution_count": 25,
      "outputs": [
        {
          "output_type": "stream",
          "text": [
            "None\n"
          ],
          "name": "stdout"
        }
      ]
    },
    {
      "cell_type": "markdown",
      "metadata": {
        "id": "-PA3luhYaXvB"
      },
      "source": [
        "ANN"
      ]
    },
    {
      "cell_type": "code",
      "metadata": {
        "id": "8Ps42aDeKPsx"
      },
      "source": [
        "model = Sequential()\n",
        "embedding_layer = Embedding(vocab_size, EMBEDDING_DIM, weights=[embedding_matrix], input_length=maxlen , trainable=False)\n",
        "model.add(embedding_layer)\n",
        "\n",
        "model.add(Flatten())\n",
        "model.add(Dense(5, activation='softmax'))"
      ],
      "execution_count": 26,
      "outputs": []
    },
    {
      "cell_type": "code",
      "metadata": {
        "colab": {
          "base_uri": "https://localhost:8080/"
        },
        "id": "9nx9N0-xKhLQ",
        "outputId": "fa5af3a2-222e-4f20-ffbc-de70cb6e7977"
      },
      "source": [
        "model.compile(optimizer='adam', loss='sparse_categorical_crossentropy', metrics=['acc'])\n",
        "\n",
        "print(model.summary())"
      ],
      "execution_count": 27,
      "outputs": [
        {
          "output_type": "stream",
          "text": [
            "Model: \"sequential\"\n",
            "_________________________________________________________________\n",
            "Layer (type)                 Output Shape              Param #   \n",
            "=================================================================\n",
            "embedding (Embedding)        (None, 1394, 100)         341700    \n",
            "_________________________________________________________________\n",
            "flatten (Flatten)            (None, 139400)            0         \n",
            "_________________________________________________________________\n",
            "dense (Dense)                (None, 5)                 697005    \n",
            "=================================================================\n",
            "Total params: 1,038,705\n",
            "Trainable params: 697,005\n",
            "Non-trainable params: 341,700\n",
            "_________________________________________________________________\n",
            "None\n"
          ],
          "name": "stdout"
        }
      ]
    },
    {
      "cell_type": "code",
      "metadata": {
        "colab": {
          "base_uri": "https://localhost:8080/"
        },
        "id": "EaaglgsvL96j",
        "outputId": "e41d8aae-724b-4af3-f877-b1c2283b7c6a"
      },
      "source": [
        "from sklearn.utils.class_weight import compute_class_weight\n",
        "import numpy as np\n",
        "\n",
        "class_weights = compute_class_weight('balanced',classes=[\"Requirement\",\"Design\",\"Defect\",\"Test\",\"Documentation\"],y=df.label)\n",
        "class_weights = dict(enumerate(class_weights))\n",
        "class_weights"
      ],
      "execution_count": 28,
      "outputs": [
        {
          "output_type": "execute_result",
          "data": {
            "text/plain": [
              "{0: 0.8313186813186814,\n",
              " 1: 0.5163822525597269,\n",
              " 2: 1.3630630630630631,\n",
              " 3: 0.9824675324675325,\n",
              " 4: 9.16969696969697}"
            ]
          },
          "metadata": {
            "tags": []
          },
          "execution_count": 28
        }
      ]
    },
    {
      "cell_type": "code",
      "metadata": {
        "colab": {
          "base_uri": "https://localhost:8080/"
        },
        "id": "KRWHpc43KtoR",
        "outputId": "880e46b8-5ada-4ac8-bf1b-155a88ddc94c"
      },
      "source": [
        "history = model.fit(X_train, y_train, batch_size=128, epochs=6, verbose=1, validation_split=0.2)\n"
      ],
      "execution_count": 29,
      "outputs": [
        {
          "output_type": "stream",
          "text": [
            "Epoch 1/6\n",
            "8/8 [==============================] - 4s 81ms/step - loss: 1.5122 - acc: 0.3193 - val_loss: 1.2650 - val_acc: 0.5579\n",
            "Epoch 2/6\n",
            "8/8 [==============================] - 0s 32ms/step - loss: 1.0782 - acc: 0.6324 - val_loss: 1.1589 - val_acc: 0.6529\n",
            "Epoch 3/6\n",
            "8/8 [==============================] - 0s 24ms/step - loss: 0.9026 - acc: 0.7622 - val_loss: 1.0979 - val_acc: 0.6529\n",
            "Epoch 4/6\n",
            "8/8 [==============================] - 0s 25ms/step - loss: 0.7865 - acc: 0.7785 - val_loss: 1.0668 - val_acc: 0.6694\n",
            "Epoch 5/6\n",
            "8/8 [==============================] - 0s 24ms/step - loss: 0.6807 - acc: 0.7937 - val_loss: 1.0468 - val_acc: 0.6736\n",
            "Epoch 6/6\n",
            "8/8 [==============================] - 0s 25ms/step - loss: 0.6397 - acc: 0.8079 - val_loss: 1.0348 - val_acc: 0.6653\n"
          ],
          "name": "stdout"
        }
      ]
    },
    {
      "cell_type": "code",
      "metadata": {
        "colab": {
          "base_uri": "https://localhost:8080/"
        },
        "id": "X8zOScDDK1bq",
        "outputId": "00bd3e8b-dfab-4ee0-cf51-19dee5196cd3"
      },
      "source": [
        "score = model.evaluate(X_test, y_test, verbose=1)"
      ],
      "execution_count": 30,
      "outputs": [
        {
          "output_type": "stream",
          "text": [
            "10/10 [==============================] - 0s 5ms/step - loss: 0.9374 - acc: 0.6931\n"
          ],
          "name": "stdout"
        }
      ]
    },
    {
      "cell_type": "code",
      "metadata": {
        "colab": {
          "base_uri": "https://localhost:8080/"
        },
        "id": "BCmboyX-LKV5",
        "outputId": "8b44e217-8620-4d3f-ec7a-3ecb2767e500"
      },
      "source": [
        "print(\"Test Score:\", score[0])\n",
        "print(\"Test Accuracy:\", score[1])"
      ],
      "execution_count": 31,
      "outputs": [
        {
          "output_type": "stream",
          "text": [
            "Test Score: 0.9374395608901978\n",
            "Test Accuracy: 0.6930692791938782\n"
          ],
          "name": "stdout"
        }
      ]
    },
    {
      "cell_type": "code",
      "metadata": {
        "id": "mnFNtA-oLSez",
        "colab": {
          "base_uri": "https://localhost:8080/",
          "height": 573
        },
        "outputId": "1911e697-54ec-4780-ba35-1e1a6bea36f8"
      },
      "source": [
        "import matplotlib.pyplot as plt\n",
        "\n",
        "plt.plot(history.history['acc'])\n",
        "plt.plot(history.history['val_acc'])\n",
        "\n",
        "plt.title('model accuracy')\n",
        "plt.ylabel('accuracy')\n",
        "plt.xlabel('epoch')\n",
        "plt.legend(['train','test'], loc = 'upper left')\n",
        "plt.show()\n",
        "\n",
        "plt.plot(history.history['loss'])\n",
        "plt.plot(history.history['val_loss'])\n",
        "\n",
        "plt.title('model loss')\n",
        "plt.ylabel('loss')\n",
        "plt.xlabel('epoch')\n",
        "plt.legend(['train','test'], loc = 'upper left')\n",
        "plt.show()"
      ],
      "execution_count": 32,
      "outputs": [
        {
          "output_type": "display_data",
          "data": {
            "image/png": "[encoded data removed]",
            "text/plain": [
              "<Figure size 432x288 with 1 Axes>"
            ]
          },
          "metadata": {
            "tags": [],
            "needs_background": "light"
          }
        },
        {
          "output_type": "display_data",
          "data": {
            "image/png": "[encoded data removed]",
            "text/plain": [
              "<Figure size 432x288 with 1 Axes>"
            ]
          },
          "metadata": {
            "tags": [],
            "needs_background": "light"
          }
        }
      ]
    },
    {
      "cell_type": "markdown",
      "metadata": {
        "id": "FjT4SnmBrJ06"
      },
      "source": [
        "Simple CNN"
      ]
    },
    {
      "cell_type": "code",
      "metadata": {
        "id": "V7pS7PiRbH49"
      },
      "source": [
        "from keras.layers import Conv1D, MaxPooling1D, Embedding\n",
        "model = Sequential()\n",
        "\n",
        "embedding_layer = Embedding( vocab_size, EMBEDDING_DIM, weights=[embedding_matrix], input_length=maxlen , trainable=True)\n",
        "model.add(embedding_layer)\n",
        "\n",
        "model.add(Conv1D(128, 5, activation='relu'))\n",
        "model.add(GlobalMaxPooling1D())\n",
        "model.add(Dropout(0.2))\n",
        "model.add(Dense(units=5, activation='softmax'))\n",
        "model.compile(optimizer='Adam', loss='sparse_categorical_crossentropy', metrics=['acc'])"
      ],
      "execution_count": 50,
      "outputs": []
    },
    {
      "cell_type": "code",
      "metadata": {
        "id": "tgqBPoxWb3dJ",
        "colab": {
          "base_uri": "https://localhost:8080/"
        },
        "outputId": "26b3f8c4-c3a1-42c8-edf0-3dc7c06a2617"
      },
      "source": [
        "print(model.summary())"
      ],
      "execution_count": 51,
      "outputs": [
        {
          "output_type": "stream",
          "text": [
            "Model: \"sequential_4\"\n",
            "_________________________________________________________________\n",
            "Layer (type)                 Output Shape              Param #   \n",
            "=================================================================\n",
            "embedding_4 (Embedding)      (None, 1394, 100)         341700    \n",
            "_________________________________________________________________\n",
            "conv1d_5 (Conv1D)            (None, 1390, 128)         64128     \n",
            "_________________________________________________________________\n",
            "global_max_pooling1d_3 (Glob (None, 128)               0         \n",
            "_________________________________________________________________\n",
            "dropout_1 (Dropout)          (None, 128)               0         \n",
            "_________________________________________________________________\n",
            "dense_5 (Dense)              (None, 5)                 645       \n",
            "=================================================================\n",
            "Total params: 406,473\n",
            "Trainable params: 406,473\n",
            "Non-trainable params: 0\n",
            "_________________________________________________________________\n",
            "None\n"
          ],
          "name": "stdout"
        }
      ]
    },
    {
      "cell_type": "code",
      "metadata": {
        "colab": {
          "base_uri": "https://localhost:8080/"
        },
        "id": "ca2oxXCBb8pJ",
        "outputId": "e7f4765c-6a14-4040-a19e-fefd676acf6a"
      },
      "source": [
        "history1 = model.fit(X_train, y_train, batch_size=128, epochs=10, verbose=1, validation_split=0.2 )\n",
        "\n",
        "score = model.evaluate(X_test, y_test, verbose=1)\n"
      ],
      "execution_count": 52,
      "outputs": [
        {
          "output_type": "stream",
          "text": [
            "Epoch 1/10\n",
            "8/8 [==============================] - 1s 97ms/step - loss: 1.5468 - acc: 0.4016 - val_loss: 0.9324 - val_acc: 0.7025\n",
            "Epoch 2/10\n",
            "8/8 [==============================] - 1s 69ms/step - loss: 0.8947 - acc: 0.6795 - val_loss: 0.8247 - val_acc: 0.7190\n",
            "Epoch 3/10\n",
            "8/8 [==============================] - 1s 68ms/step - loss: 0.7039 - acc: 0.7474 - val_loss: 0.7863 - val_acc: 0.7314\n",
            "Epoch 4/10\n",
            "8/8 [==============================] - 1s 67ms/step - loss: 0.6094 - acc: 0.7885 - val_loss: 0.7618 - val_acc: 0.7521\n",
            "Epoch 5/10\n",
            "8/8 [==============================] - 1s 69ms/step - loss: 0.5560 - acc: 0.7924 - val_loss: 0.7553 - val_acc: 0.7603\n",
            "Epoch 6/10\n",
            "8/8 [==============================] - 1s 68ms/step - loss: 0.4522 - acc: 0.8566 - val_loss: 0.7487 - val_acc: 0.7438\n",
            "Epoch 7/10\n",
            "8/8 [==============================] - 1s 68ms/step - loss: 0.4309 - acc: 0.8676 - val_loss: 0.7428 - val_acc: 0.7603\n",
            "Epoch 8/10\n",
            "8/8 [==============================] - 1s 69ms/step - loss: 0.3874 - acc: 0.8881 - val_loss: 0.7404 - val_acc: 0.7521\n",
            "Epoch 9/10\n",
            "8/8 [==============================] - 1s 69ms/step - loss: 0.3422 - acc: 0.9148 - val_loss: 0.7297 - val_acc: 0.7562\n",
            "Epoch 10/10\n",
            "8/8 [==============================] - 1s 68ms/step - loss: 0.3215 - acc: 0.9170 - val_loss: 0.7370 - val_acc: 0.7479\n",
            "10/10 [==============================] - 0s 8ms/step - loss: 0.6416 - acc: 0.7624\n"
          ],
          "name": "stdout"
        }
      ]
    },
    {
      "cell_type": "code",
      "metadata": {
        "colab": {
          "base_uri": "https://localhost:8080/"
        },
        "id": "5SMtaQQtcDNz",
        "outputId": "89550328-a8ef-4743-a89c-6702c9192160"
      },
      "source": [
        "print(\"Test Score:\", score[0])\n",
        "print(\"Test Accuracy:\", score[1])"
      ],
      "execution_count": 53,
      "outputs": [
        {
          "output_type": "stream",
          "text": [
            "Test Score: 0.641559362411499\n",
            "Test Accuracy: 0.7623762488365173\n"
          ],
          "name": "stdout"
        }
      ]
    },
    {
      "cell_type": "code",
      "metadata": {
        "id": "WjexT_LMcNPC",
        "colab": {
          "base_uri": "https://localhost:8080/",
          "height": 573
        },
        "outputId": "880655c2-1847-4c33-e2bf-4cb84a958bec"
      },
      "source": [
        "import matplotlib.pyplot as plt\n",
        "\n",
        "plt.plot(history1.history['acc'])\n",
        "plt.plot(history1.history['val_acc'])\n",
        "\n",
        "plt.title('model accuracy')\n",
        "plt.ylabel('accuracy')\n",
        "plt.xlabel('epoch')\n",
        "plt.legend(['train','test'], loc = 'upper left')\n",
        "plt.show()\n",
        "\n",
        "plt.plot(history1.history['loss'])\n",
        "plt.plot(history1.history['val_loss'])\n",
        "\n",
        "plt.title('model loss')\n",
        "plt.ylabel('loss')\n",
        "plt.xlabel('epoch')\n",
        "plt.legend(['train','test'], loc = 'upper left')\n",
        "plt.show()"
      ],
      "execution_count": 37,
      "outputs": [
        {
          "output_type": "display_data",
          "data": {
            "image/png": "[encoded data removed]",
            "text/plain": [
              "<Figure size 432x288 with 1 Axes>"
            ]
          },
          "metadata": {
            "tags": [],
            "needs_background": "light"
          }
        },
        {
          "output_type": "display_data",
          "data": {
            "image/png": "[encoded data removed]",
            "text/plain": [
              "<Figure size 432x288 with 1 Axes>"
            ]
          },
          "metadata": {
            "tags": [],
            "needs_background": "light"
          }
        }
      ]
    },
    {
      "cell_type": "markdown",
      "metadata": {
        "id": "3H2hYdQ4I9Sf"
      },
      "source": [
        " CNN Functinal "
      ]
    },
    {
      "cell_type": "code",
      "metadata": {
        "id": "fPJ8mBxDJD6f"
      },
      "source": [
        "from keras.layers import Input\n",
        "from keras.models import Model\n",
        "\n",
        "cnn_model = Sequential()\n",
        "embedding_layer = Embedding( vocab_size, EMBEDDING_DIM, weights=[embedding_matrix], input_length=maxlen , trainable=True)\n",
        "cnn_model.add(embedding_layer)\n",
        "cnn_model.add(Conv1D(filters = 128, kernel_size = 2, activation = \"relu\"))\n",
        "cnn_model.add(MaxPooling1D(pool_size = 2))\n",
        "cnn_model.add(Conv1D(filters = 128, kernel_size = 3, activation = \"relu\"))\n",
        "cnn_model.add(MaxPooling1D(pool_size = 2))\n",
        "cnn_model.add(Conv1D(filters = 128, kernel_size = 4, activation = \"relu\"))\n",
        "cnn_model.add(GlobalMaxPooling1D())\n",
        "cnn_model.add(Dense(units = 128, activation = 'relu'))\n",
        "cnn_model.add(Dense(units = 5, activation = 'softmax'))\n"
      ],
      "execution_count": 38,
      "outputs": []
    },
    {
      "cell_type": "code",
      "metadata": {
        "id": "_WG64YaGJnXj",
        "colab": {
          "base_uri": "https://localhost:8080/"
        },
        "outputId": "2502e2c5-d812-4304-8a00-8d728e10fbc7"
      },
      "source": [
        "cnn_model.compile(optimizer='adam', loss='sparse_categorical_crossentropy', metrics=['acc'])\n",
        "print(cnn_model.summary())"
      ],
      "execution_count": 39,
      "outputs": [
        {
          "output_type": "stream",
          "text": [
            "Model: \"sequential_2\"\n",
            "_________________________________________________________________\n",
            "Layer (type)                 Output Shape              Param #   \n",
            "=================================================================\n",
            "embedding_2 (Embedding)      (None, 1394, 100)         341700    \n",
            "_________________________________________________________________\n",
            "conv1d_1 (Conv1D)            (None, 1393, 128)         25728     \n",
            "_________________________________________________________________\n",
            "max_pooling1d (MaxPooling1D) (None, 696, 128)          0         \n",
            "_________________________________________________________________\n",
            "conv1d_2 (Conv1D)            (None, 694, 128)          49280     \n",
            "_________________________________________________________________\n",
            "max_pooling1d_1 (MaxPooling1 (None, 347, 128)          0         \n",
            "_________________________________________________________________\n",
            "conv1d_3 (Conv1D)            (None, 344, 128)          65664     \n",
            "_________________________________________________________________\n",
            "global_max_pooling1d_1 (Glob (None, 128)               0         \n",
            "_________________________________________________________________\n",
            "dense_2 (Dense)              (None, 128)               16512     \n",
            "_________________________________________________________________\n",
            "dense_3 (Dense)              (None, 5)                 645       \n",
            "=================================================================\n",
            "Total params: 499,529\n",
            "Trainable params: 499,529\n",
            "Non-trainable params: 0\n",
            "_________________________________________________________________\n",
            "None\n"
          ],
          "name": "stdout"
        }
      ]
    },
    {
      "cell_type": "code",
      "metadata": {
        "id": "BXXSBfNxJz_d",
        "colab": {
          "base_uri": "https://localhost:8080/"
        },
        "outputId": "09edf04b-9bc7-401f-9893-68131b6e0f34"
      },
      "source": [
        "#Configures the model for training\n",
        "cnn_model.compile(loss = \"sparse_categorical_crossentropy\", optimizer = \"adam\", metrics = [\"acc\"])\n",
        "#Split the dataset into train and validation set for training and evaludating the model\n",
        "# X_train, X_val, y_train, y_val = train_test_split(trainvalid_data, train_labels, shuffle = True, random_state = 123)\n",
        "# print(X_train.shape, y_train.shape, X_val.shape, y_val.shape)\n",
        "#Trains the model for a fixed number of epochs (iterations on a dataset)\n",
        "history = cnn_model.fit(X_train, y_train, batch_size = 128, epochs = 10, validation_split=0.2)\n",
        "score = cnn_model.evaluate(X_test, y_test, verbose=1)"
      ],
      "execution_count": 40,
      "outputs": [
        {
          "output_type": "stream",
          "text": [
            "Epoch 1/10\n",
            "8/8 [==============================] - 2s 139ms/step - loss: 1.5032 - acc: 0.3170 - val_loss: 1.2735 - val_acc: 0.5868\n",
            "Epoch 2/10\n",
            "8/8 [==============================] - 1s 82ms/step - loss: 1.2174 - acc: 0.5578 - val_loss: 1.0180 - val_acc: 0.6529\n",
            "Epoch 3/10\n",
            "8/8 [==============================] - 1s 82ms/step - loss: 0.8536 - acc: 0.7075 - val_loss: 0.9745 - val_acc: 0.6860\n",
            "Epoch 4/10\n",
            "8/8 [==============================] - 1s 81ms/step - loss: 0.7031 - acc: 0.7308 - val_loss: 0.8711 - val_acc: 0.7149\n",
            "Epoch 5/10\n",
            "8/8 [==============================] - 1s 81ms/step - loss: 0.6001 - acc: 0.7852 - val_loss: 0.8665 - val_acc: 0.7190\n",
            "Epoch 6/10\n",
            "8/8 [==============================] - 1s 83ms/step - loss: 0.5349 - acc: 0.7933 - val_loss: 0.8539 - val_acc: 0.7190\n",
            "Epoch 7/10\n",
            "8/8 [==============================] - 1s 82ms/step - loss: 0.4003 - acc: 0.8572 - val_loss: 0.8549 - val_acc: 0.7438\n",
            "Epoch 8/10\n",
            "8/8 [==============================] - 1s 81ms/step - loss: 0.3237 - acc: 0.8974 - val_loss: 0.8695 - val_acc: 0.7521\n",
            "Epoch 9/10\n",
            "8/8 [==============================] - 1s 81ms/step - loss: 0.2588 - acc: 0.9261 - val_loss: 0.9073 - val_acc: 0.7355\n",
            "Epoch 10/10\n",
            "8/8 [==============================] - 1s 81ms/step - loss: 0.1948 - acc: 0.9433 - val_loss: 0.9497 - val_acc: 0.7645\n",
            "10/10 [==============================] - 0s 12ms/step - loss: 0.6792 - acc: 0.7855\n"
          ],
          "name": "stdout"
        }
      ]
    },
    {
      "cell_type": "code",
      "metadata": {
        "id": "S6K2SuauLYDe",
        "colab": {
          "base_uri": "https://localhost:8080/"
        },
        "outputId": "4bad4426-ae39-4f03-f1aa-d536c3ec8003"
      },
      "source": [
        "print(\"Test Score:\", score[0])\n",
        "print(\"Test Accuracy:\", score[1])"
      ],
      "execution_count": 41,
      "outputs": [
        {
          "output_type": "stream",
          "text": [
            "Test Score: 0.6791965365409851\n",
            "Test Accuracy: 0.7854785323143005\n"
          ],
          "name": "stdout"
        }
      ]
    },
    {
      "cell_type": "code",
      "metadata": {
        "id": "T2Eb2kXpLiUs",
        "colab": {
          "base_uri": "https://localhost:8080/",
          "height": 573
        },
        "outputId": "10926f72-60f0-4e0e-a623-f0c11354e0dc"
      },
      "source": [
        "import matplotlib.pyplot as plt\n",
        "\n",
        "plt.plot(history.history['acc'])\n",
        "plt.plot(history.history['val_acc'])\n",
        "\n",
        "plt.title('model accuracy')\n",
        "plt.ylabel('accuracy')\n",
        "plt.xlabel('epoch')\n",
        "plt.legend(['train','test'], loc = 'upper left')\n",
        "plt.show()\n",
        "\n",
        "plt.plot(history.history['loss'])\n",
        "plt.plot(history.history['val_loss'])\n",
        "\n",
        "plt.title('model loss')\n",
        "plt.ylabel('loss')\n",
        "plt.xlabel('epoch')\n",
        "plt.legend(['train','test'], loc = 'upper left')\n",
        "plt.show()"
      ],
      "execution_count": 42,
      "outputs": [
        {
          "output_type": "display_data",
          "data": {
            "image/png": "[encoded data removed]",
            "text/plain": [
              "<Figure size 432x288 with 1 Axes>"
            ]
          },
          "metadata": {
            "tags": [],
            "needs_background": "light"
          }
        },
        {
          "output_type": "display_data",
          "data": {
            "image/png": "[encoded data removed]",
            "text/plain": [
              "<Figure size 432x288 with 1 Axes>"
            ]
          },
          "metadata": {
            "tags": [],
            "needs_background": "light"
          }
        }
      ]
    },
    {
      "cell_type": "markdown",
      "metadata": {
        "id": "xZkZtsuSrGnu"
      },
      "source": [
        "LSTM"
      ]
    },
    {
      "cell_type": "code",
      "metadata": {
        "id": "KZAsbSfPnYgj"
      },
      "source": [
        "from sklearn.svm import SVC\n",
        "from sklearn.utils.class_weight import compute_class_weight\n",
        "from sklearn.metrics import classification_report\n",
        "from sklearn.linear_model import LogisticRegression\n",
        "from sklearn.metrics import accuracy_score"
      ],
      "execution_count": 43,
      "outputs": []
    },
    {
      "cell_type": "code",
      "metadata": {
        "colab": {
          "base_uri": "https://localhost:8080/"
        },
        "id": "NYhOCuvwT5B2",
        "outputId": "8e76c31a-34fa-4b2f-a0bc-379558b916cf"
      },
      "source": [
        "X_train"
      ],
      "execution_count": 44,
      "outputs": [
        {
          "output_type": "execute_result",
          "data": {
            "text/plain": [
              "array([[   3,    5,    4, ...,    0,    0,    0],\n",
              "       [   3,   10,   24, ...,    0,    0,    0],\n",
              "       [   3,   78,   88, ...,    0,    0,    0],\n",
              "       ...,\n",
              "       [3403,    1,   82, ...,    0,    0,    0],\n",
              "       [   3,   73, 1217, ...,    0,    0,    0],\n",
              "       [ 688,  105,   12, ...,    0,    0,    0]], dtype=int32)"
            ]
          },
          "metadata": {
            "tags": []
          },
          "execution_count": 44
        }
      ]
    },
    {
      "cell_type": "code",
      "metadata": {
        "id": "KMVoTnxQq-VT",
        "colab": {
          "base_uri": "https://localhost:8080/"
        },
        "outputId": "83dd2c26-b822-4200-a82a-f78cc9c7ac2c"
      },
      "source": [
        "\n",
        "clf = SVC()\n",
        "# train the model\n",
        "clf.fit(X_train, y_train)\n",
        "# use the model to predict the testing instances\n",
        "y_pred = clf.predict(np.array(X_test))\n",
        "# generate the classification report\n",
        "print(classification_report(y_test, y_pred))\n",
        "print('accuracy %s' % accuracy_score(y_pred, y_test))"
      ],
      "execution_count": 45,
      "outputs": [
        {
          "output_type": "stream",
          "text": [
            "              precision    recall  f1-score   support\n",
            "\n",
            "           0       0.35      0.53      0.43        83\n",
            "           1       0.47      0.60      0.52       126\n",
            "           2       0.50      0.11      0.18        27\n",
            "           3       0.62      0.13      0.22        60\n",
            "           4       0.00      0.00      0.00         7\n",
            "\n",
            "    accuracy                           0.43       303\n",
            "   macro avg       0.39      0.27      0.27       303\n",
            "weighted avg       0.46      0.43      0.39       303\n",
            "\n",
            "accuracy 0.429042904290429\n"
          ],
          "name": "stdout"
        },
        {
          "output_type": "stream",
          "text": [
            "/usr/local/lib/python3.7/dist-packages/sklearn/metrics/_classification.py:1272: UndefinedMetricWarning: Precision and F-score are ill-defined and being set to 0.0 in labels with no predicted samples. Use `zero_division` parameter to control this behavior.\n",
            "  _warn_prf(average, modifier, msg_start, len(result))\n"
          ],
          "name": "stderr"
        }
      ]
    },
    {
      "cell_type": "code",
      "metadata": {
        "id": "XC3Agx85rmPi"
      },
      "source": [
        "# history = model.fit(X_train, y_train, batch_size=128, epochs=6, verbose=1, validation_split=0.2)\n",
        "\n",
        "# score = model.evaluate(X_test, y_test, verbose=1)"
      ],
      "execution_count": 46,
      "outputs": []
    },
    {
      "cell_type": "code",
      "metadata": {
        "id": "NTwBLUrPsaBi"
      },
      "source": [
        "# print(\"Test Score:\", score[0])\n",
        "# print(\"Test Accuracy:\", score[1])"
      ],
      "execution_count": 47,
      "outputs": []
    }
  ]
}